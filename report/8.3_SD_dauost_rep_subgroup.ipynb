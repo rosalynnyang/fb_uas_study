{
 "cells": [
  {
   "cell_type": "markdown",
   "metadata": {},
   "source": [
    "## Social desirability experiment: replicating Daoust findings - subgroup analysis"
   ]
  },
  {
   "cell_type": "markdown",
   "metadata": {},
   "source": [
    "Experiment specifications: <br>\n",
    "* Daoust experiment (variables: visit, over, outdoors):\n",
    "  + Have you done? Yes/No/Unsure <br>\n",
    "  + Some people XX have you done? Yes/Only when neccessary/No/Unsure <br><br>\n",
    "  \n",
    "* SD benchmark (variables: blame):\n",
    "  + Individuals are more to blame? Agree/disagree <br>\n",
    "  + Social conditions are more to blame? Agree/disagree <br>"
   ]
  },
  {
   "cell_type": "code",
   "execution_count": 18,
   "metadata": {},
   "outputs": [],
   "source": [
    "import numpy as np\n",
    "import pandas as pd\n",
    "\n",
    "import utility as util"
   ]
  },
  {
   "cell_type": "code",
   "execution_count": 19,
   "metadata": {},
   "outputs": [],
   "source": [
    "df_dst = pd.read_csv('../output/df_dst.csv')\n",
    "df_benchmark = pd.read_csv('../output/df_benchmark.csv')"
   ]
  },
  {
   "cell_type": "markdown",
   "metadata": {},
   "source": [
    "#### recode demographics"
   ]
  },
  {
   "cell_type": "code",
   "execution_count": 20,
   "metadata": {},
   "outputs": [
    {
     "data": {
      "text/plain": [
       "Index(['id', 'condition', 'visit', 'over', 'outdoors', 'sex', 'marital',\n",
       "       'age_group', 'education'],\n",
       "      dtype='object')"
      ]
     },
     "execution_count": 20,
     "metadata": {},
     "output_type": "execute_result"
    }
   ],
   "source": [
    "df_dst.columns"
   ]
  },
  {
   "cell_type": "code",
   "execution_count": 21,
   "metadata": {},
   "outputs": [],
   "source": [
    "demographic_cols = ['sex', 'marital', 'age_group', 'education']"
   ]
  },
  {
   "cell_type": "code",
   "execution_count": 22,
   "metadata": {},
   "outputs": [
    {
     "name": "stdout",
     "output_type": "stream",
     "text": [
      "1.0    2464\n",
      "2.0    2084\n",
      "NaN      80\n",
      "Name: sex, dtype: int64\n",
      ">>>>>>>>>>\n",
      "1.0    3008\n",
      "2.0     384\n",
      "3.0     657\n",
      "4.0      44\n",
      "5.0     462\n",
      "NaN      73\n",
      "Name: marital, dtype: int64\n",
      ">>>>>>>>>>\n",
      "2.0      86\n",
      "3.0     191\n",
      "4.0     325\n",
      "5.0     674\n",
      "6.0    1335\n",
      "7.0    1948\n",
      "NaN      69\n",
      "Name: age_group, dtype: int64\n",
      ">>>>>>>>>>\n",
      "1.0      51\n",
      "2.0     756\n",
      "3.0    1729\n",
      "4.0    1245\n",
      "5.0     788\n",
      "NaN      59\n",
      "Name: education, dtype: int64\n",
      ">>>>>>>>>>\n"
     ]
    }
   ],
   "source": [
    "for col in demographic_cols:\n",
    "    print(df_dst[col].value_counts(dropna=False).sort_index())\n",
    "    print('>>>>>>>>>>')"
   ]
  },
  {
   "cell_type": "code",
   "execution_count": 23,
   "metadata": {},
   "outputs": [],
   "source": [
    "sex_map = {1: '1. male',\n",
    "           2: '2. female'}\n",
    "\n",
    "marital_map = {1: '1. married',\n",
    "               2: '2. unmarried',\n",
    "               3: '2. unmarried',\n",
    "               4: '2. unmarried',\n",
    "               5: '2. unmarried'}\n",
    "\n",
    "age_g_map = {2: '18-34',\n",
    "             3: '18-34',\n",
    "             4: '35-54', \n",
    "             5: '35-54',\n",
    "             6: '55+',\n",
    "             7: '55+'}\n",
    "\n",
    "education_map ={1: '1. Less than college',\n",
    "                2: '1. Less than college',\n",
    "                3: '1. Less than college',\n",
    "                4: '2. College+',\n",
    "                5: '2. College+'}"
   ]
  },
  {
   "cell_type": "code",
   "execution_count": 24,
   "metadata": {},
   "outputs": [],
   "source": [
    "df_dst['sex_r'] = df_dst['sex'].map(sex_map)\n",
    "df_dst['marital_r'] = df_dst['marital'].map(marital_map)\n",
    "df_dst['age_group_r'] = df_dst['age_group'].map(age_g_map)\n",
    "df_dst['education_r'] = df_dst['education'].map(education_map)\n",
    "\n",
    "df_benchmark['sex_r'] = df_benchmark['sex'].map(sex_map)\n",
    "df_benchmark['marital_r'] = df_benchmark['marital'].map(marital_map)\n",
    "df_benchmark['age_group_r'] = df_benchmark['age_group'].map(age_g_map)\n",
    "df_benchmark['education_r'] = df_benchmark['education'].map(education_map)"
   ]
  },
  {
   "cell_type": "code",
   "execution_count": 25,
   "metadata": {},
   "outputs": [],
   "source": [
    "recoded_demo_cols = ['sex_r', 'marital_r', 'age_group_r', 'education_r']"
   ]
  },
  {
   "cell_type": "code",
   "execution_count": 26,
   "metadata": {},
   "outputs": [
    {
     "name": "stdout",
     "output_type": "stream",
     "text": [
      "1. male      2464\n",
      "2. female    2084\n",
      "NaN            80\n",
      "Name: sex_r, dtype: int64\n",
      ">>>>>>>>>>\n",
      "1. married      3008\n",
      "2. unmarried    1547\n",
      "NaN               73\n",
      "Name: marital_r, dtype: int64\n",
      ">>>>>>>>>>\n",
      "18-34     277\n",
      "35-54     999\n",
      "55+      3283\n",
      "NaN        69\n",
      "Name: age_group_r, dtype: int64\n",
      ">>>>>>>>>>\n",
      "1. Less than college    2536\n",
      "2. College+             2033\n",
      "NaN                       59\n",
      "Name: education_r, dtype: int64\n",
      ">>>>>>>>>>\n"
     ]
    }
   ],
   "source": [
    "for col in recoded_demo_cols:\n",
    "    print(df_dst[col].value_counts(dropna=False).sort_index())\n",
    "    print('>>>>>>>>>>')"
   ]
  },
  {
   "cell_type": "code",
   "execution_count": 27,
   "metadata": {},
   "outputs": [
    {
     "data": {
      "text/html": [
       "<div>\n",
       "<style scoped>\n",
       "    .dataframe tbody tr th:only-of-type {\n",
       "        vertical-align: middle;\n",
       "    }\n",
       "\n",
       "    .dataframe tbody tr th {\n",
       "        vertical-align: top;\n",
       "    }\n",
       "\n",
       "    .dataframe thead th {\n",
       "        text-align: right;\n",
       "    }\n",
       "</style>\n",
       "<table border=\"1\" class=\"dataframe\">\n",
       "  <thead>\n",
       "    <tr style=\"text-align: right;\">\n",
       "      <th></th>\n",
       "      <th>id</th>\n",
       "      <th>visit</th>\n",
       "      <th>over</th>\n",
       "      <th>outdoors</th>\n",
       "      <th>sex</th>\n",
       "      <th>marital</th>\n",
       "      <th>age_group</th>\n",
       "      <th>education</th>\n",
       "    </tr>\n",
       "    <tr>\n",
       "      <th>sex_r</th>\n",
       "      <th></th>\n",
       "      <th></th>\n",
       "      <th></th>\n",
       "      <th></th>\n",
       "      <th></th>\n",
       "      <th></th>\n",
       "      <th></th>\n",
       "      <th></th>\n",
       "    </tr>\n",
       "  </thead>\n",
       "  <tbody>\n",
       "    <tr>\n",
       "      <th>1. male</th>\n",
       "      <td>2288.085633</td>\n",
       "      <td>3.337662</td>\n",
       "      <td>3.012175</td>\n",
       "      <td>2.727679</td>\n",
       "      <td>1.0</td>\n",
       "      <td>1.804967</td>\n",
       "      <td>5.891738</td>\n",
       "      <td>3.381515</td>\n",
       "    </tr>\n",
       "    <tr>\n",
       "      <th>2. female</th>\n",
       "      <td>2343.664107</td>\n",
       "      <td>4.177063</td>\n",
       "      <td>3.757198</td>\n",
       "      <td>3.775912</td>\n",
       "      <td>2.0</td>\n",
       "      <td>1.809065</td>\n",
       "      <td>5.988900</td>\n",
       "      <td>3.485549</td>\n",
       "    </tr>\n",
       "  </tbody>\n",
       "</table>\n",
       "</div>"
      ],
      "text/plain": [
       "                    id     visit      over  outdoors  sex   marital  \\\n",
       "sex_r                                                                 \n",
       "1. male    2288.085633  3.337662  3.012175  2.727679  1.0  1.804967   \n",
       "2. female  2343.664107  4.177063  3.757198  3.775912  2.0  1.809065   \n",
       "\n",
       "           age_group  education  \n",
       "sex_r                            \n",
       "1. male     5.891738   3.381515  \n",
       "2. female   5.988900   3.485549  "
      ]
     },
     "execution_count": 27,
     "metadata": {},
     "output_type": "execute_result"
    }
   ],
   "source": [
    "df_dst.groupby('sex_r').mean()"
   ]
  },
  {
   "cell_type": "code",
   "execution_count": 28,
   "metadata": {},
   "outputs": [],
   "source": [
    "SD_cols = ['visit', 'over', 'outdoors']\n",
    "\n",
    "for col in SD_cols:\n",
    "    df_dst[col] = df_dst[[col]].replace([1, 2, 9], [\"1. Yes\", \"2. Only when necessary/occasionally\", \"9. No\"])"
   ]
  },
  {
   "cell_type": "code",
   "execution_count": 29,
   "metadata": {},
   "outputs": [],
   "source": [
    "# combine top two response options into \"yes\"\n",
    "combine_top_two = {\"1. Yes\": \"1. Yes\", \n",
    "                   \"2. Only when necessary/occasionally\": \"1. Yes\", \n",
    "                   \"9. No\": \"9. No\"}"
   ]
  },
  {
   "cell_type": "code",
   "execution_count": 30,
   "metadata": {},
   "outputs": [],
   "source": [
    "for col in SD_cols:\n",
    "    df_dst[f'{col}_r'] = df_dst[col].map(combine_top_two)"
   ]
  },
  {
   "cell_type": "code",
   "execution_count": 31,
   "metadata": {},
   "outputs": [],
   "source": [
    "recoded_cols = ['visit_r', 'over_r', 'outdoors_r']"
   ]
  },
  {
   "cell_type": "code",
   "execution_count": 32,
   "metadata": {},
   "outputs": [],
   "source": [
    "woman_df = df_dst.loc[df_dst['sex'] == 1]\n",
    "man_df = df_dst.loc[df_dst['sex'] == 2]"
   ]
  },
  {
   "cell_type": "code",
   "execution_count": 33,
   "metadata": {},
   "outputs": [
    {
     "data": {
      "text/html": [
       "<div>\n",
       "<style scoped>\n",
       "    .dataframe tbody tr th:only-of-type {\n",
       "        vertical-align: middle;\n",
       "    }\n",
       "\n",
       "    .dataframe tbody tr th {\n",
       "        vertical-align: top;\n",
       "    }\n",
       "\n",
       "    .dataframe thead th {\n",
       "        text-align: right;\n",
       "    }\n",
       "</style>\n",
       "<table border=\"1\" class=\"dataframe\">\n",
       "  <thead>\n",
       "    <tr style=\"text-align: right;\">\n",
       "      <th></th>\n",
       "      <th>id</th>\n",
       "      <th>condition</th>\n",
       "      <th>visit</th>\n",
       "      <th>over</th>\n",
       "      <th>outdoors</th>\n",
       "      <th>sex</th>\n",
       "      <th>marital</th>\n",
       "      <th>age_group</th>\n",
       "      <th>education</th>\n",
       "      <th>sex_r</th>\n",
       "      <th>marital_r</th>\n",
       "      <th>age_group_r</th>\n",
       "      <th>education_r</th>\n",
       "      <th>visit_r</th>\n",
       "      <th>over_r</th>\n",
       "      <th>outdoors_r</th>\n",
       "    </tr>\n",
       "  </thead>\n",
       "  <tbody>\n",
       "    <tr>\n",
       "      <th>0</th>\n",
       "      <td>1</td>\n",
       "      <td>B</td>\n",
       "      <td>9. No</td>\n",
       "      <td>9. No</td>\n",
       "      <td>1. Yes</td>\n",
       "      <td>1.0</td>\n",
       "      <td>3.0</td>\n",
       "      <td>7.0</td>\n",
       "      <td>5.0</td>\n",
       "      <td>1. male</td>\n",
       "      <td>2. unmarried</td>\n",
       "      <td>55+</td>\n",
       "      <td>2. College+</td>\n",
       "      <td>9. No</td>\n",
       "      <td>9. No</td>\n",
       "      <td>1. Yes</td>\n",
       "    </tr>\n",
       "    <tr>\n",
       "      <th>1</th>\n",
       "      <td>2</td>\n",
       "      <td>A</td>\n",
       "      <td>9. No</td>\n",
       "      <td>1. Yes</td>\n",
       "      <td>9. No</td>\n",
       "      <td>1.0</td>\n",
       "      <td>1.0</td>\n",
       "      <td>7.0</td>\n",
       "      <td>5.0</td>\n",
       "      <td>1. male</td>\n",
       "      <td>1. married</td>\n",
       "      <td>55+</td>\n",
       "      <td>2. College+</td>\n",
       "      <td>9. No</td>\n",
       "      <td>1. Yes</td>\n",
       "      <td>9. No</td>\n",
       "    </tr>\n",
       "    <tr>\n",
       "      <th>2</th>\n",
       "      <td>3</td>\n",
       "      <td>A</td>\n",
       "      <td>9. No</td>\n",
       "      <td>9. No</td>\n",
       "      <td>9. No</td>\n",
       "      <td>1.0</td>\n",
       "      <td>1.0</td>\n",
       "      <td>7.0</td>\n",
       "      <td>3.0</td>\n",
       "      <td>1. male</td>\n",
       "      <td>1. married</td>\n",
       "      <td>55+</td>\n",
       "      <td>1. Less than college</td>\n",
       "      <td>9. No</td>\n",
       "      <td>9. No</td>\n",
       "      <td>9. No</td>\n",
       "    </tr>\n",
       "    <tr>\n",
       "      <th>3</th>\n",
       "      <td>4</td>\n",
       "      <td>A</td>\n",
       "      <td>9. No</td>\n",
       "      <td>9. No</td>\n",
       "      <td>1. Yes</td>\n",
       "      <td>1.0</td>\n",
       "      <td>3.0</td>\n",
       "      <td>7.0</td>\n",
       "      <td>3.0</td>\n",
       "      <td>1. male</td>\n",
       "      <td>2. unmarried</td>\n",
       "      <td>55+</td>\n",
       "      <td>1. Less than college</td>\n",
       "      <td>9. No</td>\n",
       "      <td>9. No</td>\n",
       "      <td>1. Yes</td>\n",
       "    </tr>\n",
       "    <tr>\n",
       "      <th>4</th>\n",
       "      <td>5</td>\n",
       "      <td>B</td>\n",
       "      <td>9. No</td>\n",
       "      <td>9. No</td>\n",
       "      <td>9. No</td>\n",
       "      <td>1.0</td>\n",
       "      <td>1.0</td>\n",
       "      <td>7.0</td>\n",
       "      <td>5.0</td>\n",
       "      <td>1. male</td>\n",
       "      <td>1. married</td>\n",
       "      <td>55+</td>\n",
       "      <td>2. College+</td>\n",
       "      <td>9. No</td>\n",
       "      <td>9. No</td>\n",
       "      <td>9. No</td>\n",
       "    </tr>\n",
       "  </tbody>\n",
       "</table>\n",
       "</div>"
      ],
      "text/plain": [
       "   id condition  visit    over outdoors  sex  marital  age_group  education  \\\n",
       "0   1         B  9. No   9. No   1. Yes  1.0      3.0        7.0        5.0   \n",
       "1   2         A  9. No  1. Yes    9. No  1.0      1.0        7.0        5.0   \n",
       "2   3         A  9. No   9. No    9. No  1.0      1.0        7.0        3.0   \n",
       "3   4         A  9. No   9. No   1. Yes  1.0      3.0        7.0        3.0   \n",
       "4   5         B  9. No   9. No    9. No  1.0      1.0        7.0        5.0   \n",
       "\n",
       "     sex_r     marital_r age_group_r           education_r visit_r  over_r  \\\n",
       "0  1. male  2. unmarried         55+           2. College+   9. No   9. No   \n",
       "1  1. male    1. married         55+           2. College+   9. No  1. Yes   \n",
       "2  1. male    1. married         55+  1. Less than college   9. No   9. No   \n",
       "3  1. male  2. unmarried         55+  1. Less than college   9. No   9. No   \n",
       "4  1. male    1. married         55+           2. College+   9. No   9. No   \n",
       "\n",
       "  outdoors_r  \n",
       "0     1. Yes  \n",
       "1      9. No  \n",
       "2      9. No  \n",
       "3     1. Yes  \n",
       "4      9. No  "
      ]
     },
     "execution_count": 33,
     "metadata": {},
     "output_type": "execute_result"
    }
   ],
   "source": [
    "woman_df.head()"
   ]
  },
  {
   "cell_type": "code",
   "execution_count": 34,
   "metadata": {},
   "outputs": [
    {
     "data": {
      "text/html": [
       "<div>\n",
       "<style scoped>\n",
       "    .dataframe tbody tr th:only-of-type {\n",
       "        vertical-align: middle;\n",
       "    }\n",
       "\n",
       "    .dataframe tbody tr th {\n",
       "        vertical-align: top;\n",
       "    }\n",
       "\n",
       "    .dataframe thead th {\n",
       "        text-align: right;\n",
       "    }\n",
       "</style>\n",
       "<table border=\"1\" class=\"dataframe\">\n",
       "  <thead>\n",
       "    <tr style=\"text-align: right;\">\n",
       "      <th>condition</th>\n",
       "      <th>A</th>\n",
       "      <th>B</th>\n",
       "    </tr>\n",
       "    <tr>\n",
       "      <th>visit_r</th>\n",
       "      <th></th>\n",
       "      <th></th>\n",
       "    </tr>\n",
       "  </thead>\n",
       "  <tbody>\n",
       "    <tr>\n",
       "      <th>1. Yes</th>\n",
       "      <td>65.7</td>\n",
       "      <td>76.9</td>\n",
       "    </tr>\n",
       "    <tr>\n",
       "      <th>9. No</th>\n",
       "      <td>34.3</td>\n",
       "      <td>23.1</td>\n",
       "    </tr>\n",
       "    <tr>\n",
       "      <th>Total n</th>\n",
       "      <td>1,224</td>\n",
       "      <td>1,240</td>\n",
       "    </tr>\n",
       "  </tbody>\n",
       "</table>\n",
       "</div>"
      ],
      "text/plain": [
       "condition      A      B\n",
       "visit_r                \n",
       "1. Yes      65.7   76.9\n",
       "9. No       34.3   23.1\n",
       "Total n    1,224  1,240"
      ]
     },
     "metadata": {},
     "output_type": "display_data"
    },
    {
     "data": {
      "text/markdown": [
       "*Chi-squared statistic = 37.0, degree of freedom = 1, p = 0.0*"
      ],
      "text/plain": [
       "<IPython.core.display.Markdown object>"
      ]
     },
     "metadata": {},
     "output_type": "display_data"
    },
    {
     "data": {
      "text/markdown": [
       "-----"
      ],
      "text/plain": [
       "<IPython.core.display.Markdown object>"
      ]
     },
     "metadata": {},
     "output_type": "display_data"
    },
    {
     "data": {
      "text/html": [
       "<div>\n",
       "<style scoped>\n",
       "    .dataframe tbody tr th:only-of-type {\n",
       "        vertical-align: middle;\n",
       "    }\n",
       "\n",
       "    .dataframe tbody tr th {\n",
       "        vertical-align: top;\n",
       "    }\n",
       "\n",
       "    .dataframe thead th {\n",
       "        text-align: right;\n",
       "    }\n",
       "</style>\n",
       "<table border=\"1\" class=\"dataframe\">\n",
       "  <thead>\n",
       "    <tr style=\"text-align: right;\">\n",
       "      <th>condition</th>\n",
       "      <th>A</th>\n",
       "      <th>B</th>\n",
       "    </tr>\n",
       "    <tr>\n",
       "      <th>over_r</th>\n",
       "      <th></th>\n",
       "      <th></th>\n",
       "    </tr>\n",
       "  </thead>\n",
       "  <tbody>\n",
       "    <tr>\n",
       "      <th>1. Yes</th>\n",
       "      <td>68.4</td>\n",
       "      <td>82.4</td>\n",
       "    </tr>\n",
       "    <tr>\n",
       "      <th>9. No</th>\n",
       "      <td>31.6</td>\n",
       "      <td>17.6</td>\n",
       "    </tr>\n",
       "    <tr>\n",
       "      <th>Total n</th>\n",
       "      <td>1,224</td>\n",
       "      <td>1,240</td>\n",
       "    </tr>\n",
       "  </tbody>\n",
       "</table>\n",
       "</div>"
      ],
      "text/plain": [
       "condition      A      B\n",
       "over_r                 \n",
       "1. Yes      68.4   82.4\n",
       "9. No       31.6   17.6\n",
       "Total n    1,224  1,240"
      ]
     },
     "metadata": {},
     "output_type": "display_data"
    },
    {
     "data": {
      "text/markdown": [
       "*Chi-squared statistic = 64.8, degree of freedom = 1, p = 0.0*"
      ],
      "text/plain": [
       "<IPython.core.display.Markdown object>"
      ]
     },
     "metadata": {},
     "output_type": "display_data"
    },
    {
     "data": {
      "text/markdown": [
       "-----"
      ],
      "text/plain": [
       "<IPython.core.display.Markdown object>"
      ]
     },
     "metadata": {},
     "output_type": "display_data"
    },
    {
     "data": {
      "text/html": [
       "<div>\n",
       "<style scoped>\n",
       "    .dataframe tbody tr th:only-of-type {\n",
       "        vertical-align: middle;\n",
       "    }\n",
       "\n",
       "    .dataframe tbody tr th {\n",
       "        vertical-align: top;\n",
       "    }\n",
       "\n",
       "    .dataframe thead th {\n",
       "        text-align: right;\n",
       "    }\n",
       "</style>\n",
       "<table border=\"1\" class=\"dataframe\">\n",
       "  <thead>\n",
       "    <tr style=\"text-align: right;\">\n",
       "      <th>condition</th>\n",
       "      <th>A</th>\n",
       "      <th>B</th>\n",
       "    </tr>\n",
       "    <tr>\n",
       "      <th>outdoors_r</th>\n",
       "      <th></th>\n",
       "      <th></th>\n",
       "    </tr>\n",
       "  </thead>\n",
       "  <tbody>\n",
       "    <tr>\n",
       "      <th>1. Yes</th>\n",
       "      <td>74.3</td>\n",
       "      <td>83.5</td>\n",
       "    </tr>\n",
       "    <tr>\n",
       "      <th>9. No</th>\n",
       "      <td>25.7</td>\n",
       "      <td>16.5</td>\n",
       "    </tr>\n",
       "    <tr>\n",
       "      <th>Total n</th>\n",
       "      <td>1,224</td>\n",
       "      <td>1,240</td>\n",
       "    </tr>\n",
       "  </tbody>\n",
       "</table>\n",
       "</div>"
      ],
      "text/plain": [
       "condition       A      B\n",
       "outdoors_r              \n",
       "1. Yes       74.3   83.5\n",
       "9. No        25.7   16.5\n",
       "Total n     1,224  1,240"
      ]
     },
     "metadata": {},
     "output_type": "display_data"
    },
    {
     "data": {
      "text/markdown": [
       "*Chi-squared statistic = 30.3, degree of freedom = 1, p = 0.0*"
      ],
      "text/plain": [
       "<IPython.core.display.Markdown object>"
      ]
     },
     "metadata": {},
     "output_type": "display_data"
    },
    {
     "data": {
      "text/markdown": [
       "-----"
      ],
      "text/plain": [
       "<IPython.core.display.Markdown object>"
      ]
     },
     "metadata": {},
     "output_type": "display_data"
    }
   ],
   "source": [
    "for col in recoded_cols:\n",
    "    util.crosstab_chisq(col, 'condition', woman_df)"
   ]
  },
  {
   "cell_type": "code",
   "execution_count": 35,
   "metadata": {},
   "outputs": [
    {
     "data": {
      "text/html": [
       "<div>\n",
       "<style scoped>\n",
       "    .dataframe tbody tr th:only-of-type {\n",
       "        vertical-align: middle;\n",
       "    }\n",
       "\n",
       "    .dataframe tbody tr th {\n",
       "        vertical-align: top;\n",
       "    }\n",
       "\n",
       "    .dataframe thead th {\n",
       "        text-align: right;\n",
       "    }\n",
       "</style>\n",
       "<table border=\"1\" class=\"dataframe\">\n",
       "  <thead>\n",
       "    <tr style=\"text-align: right;\">\n",
       "      <th>condition</th>\n",
       "      <th>A</th>\n",
       "      <th>B</th>\n",
       "    </tr>\n",
       "    <tr>\n",
       "      <th>visit_r</th>\n",
       "      <th></th>\n",
       "      <th></th>\n",
       "    </tr>\n",
       "  </thead>\n",
       "  <tbody>\n",
       "    <tr>\n",
       "      <th>1. Yes</th>\n",
       "      <td>56.5</td>\n",
       "      <td>65.4</td>\n",
       "    </tr>\n",
       "    <tr>\n",
       "      <th>9. No</th>\n",
       "      <td>43.5</td>\n",
       "      <td>34.6</td>\n",
       "    </tr>\n",
       "    <tr>\n",
       "      <th>Total n</th>\n",
       "      <td>1,045</td>\n",
       "      <td>1,039</td>\n",
       "    </tr>\n",
       "  </tbody>\n",
       "</table>\n",
       "</div>"
      ],
      "text/plain": [
       "condition      A      B\n",
       "visit_r                \n",
       "1. Yes      56.5   65.4\n",
       "9. No       43.5   34.6\n",
       "Total n    1,045  1,039"
      ]
     },
     "metadata": {},
     "output_type": "display_data"
    },
    {
     "data": {
      "text/markdown": [
       "*Chi-squared statistic = 17.3, degree of freedom = 1, p = 0.0*"
      ],
      "text/plain": [
       "<IPython.core.display.Markdown object>"
      ]
     },
     "metadata": {},
     "output_type": "display_data"
    },
    {
     "data": {
      "text/markdown": [
       "-----"
      ],
      "text/plain": [
       "<IPython.core.display.Markdown object>"
      ]
     },
     "metadata": {},
     "output_type": "display_data"
    },
    {
     "data": {
      "text/html": [
       "<div>\n",
       "<style scoped>\n",
       "    .dataframe tbody tr th:only-of-type {\n",
       "        vertical-align: middle;\n",
       "    }\n",
       "\n",
       "    .dataframe tbody tr th {\n",
       "        vertical-align: top;\n",
       "    }\n",
       "\n",
       "    .dataframe thead th {\n",
       "        text-align: right;\n",
       "    }\n",
       "</style>\n",
       "<table border=\"1\" class=\"dataframe\">\n",
       "  <thead>\n",
       "    <tr style=\"text-align: right;\">\n",
       "      <th>condition</th>\n",
       "      <th>A</th>\n",
       "      <th>B</th>\n",
       "    </tr>\n",
       "    <tr>\n",
       "      <th>over_r</th>\n",
       "      <th></th>\n",
       "      <th></th>\n",
       "    </tr>\n",
       "  </thead>\n",
       "  <tbody>\n",
       "    <tr>\n",
       "      <th>1. Yes</th>\n",
       "      <td>59.5</td>\n",
       "      <td>73.1</td>\n",
       "    </tr>\n",
       "    <tr>\n",
       "      <th>9. No</th>\n",
       "      <td>40.5</td>\n",
       "      <td>26.9</td>\n",
       "    </tr>\n",
       "    <tr>\n",
       "      <th>Total n</th>\n",
       "      <td>1,045</td>\n",
       "      <td>1,039</td>\n",
       "    </tr>\n",
       "  </tbody>\n",
       "</table>\n",
       "</div>"
      ],
      "text/plain": [
       "condition      A      B\n",
       "over_r                 \n",
       "1. Yes      59.5   73.1\n",
       "9. No       40.5   26.9\n",
       "Total n    1,045  1,039"
      ]
     },
     "metadata": {},
     "output_type": "display_data"
    },
    {
     "data": {
      "text/markdown": [
       "*Chi-squared statistic = 42.1, degree of freedom = 1, p = 0.0*"
      ],
      "text/plain": [
       "<IPython.core.display.Markdown object>"
      ]
     },
     "metadata": {},
     "output_type": "display_data"
    },
    {
     "data": {
      "text/markdown": [
       "-----"
      ],
      "text/plain": [
       "<IPython.core.display.Markdown object>"
      ]
     },
     "metadata": {},
     "output_type": "display_data"
    },
    {
     "data": {
      "text/html": [
       "<div>\n",
       "<style scoped>\n",
       "    .dataframe tbody tr th:only-of-type {\n",
       "        vertical-align: middle;\n",
       "    }\n",
       "\n",
       "    .dataframe tbody tr th {\n",
       "        vertical-align: top;\n",
       "    }\n",
       "\n",
       "    .dataframe thead th {\n",
       "        text-align: right;\n",
       "    }\n",
       "</style>\n",
       "<table border=\"1\" class=\"dataframe\">\n",
       "  <thead>\n",
       "    <tr style=\"text-align: right;\">\n",
       "      <th>condition</th>\n",
       "      <th>A</th>\n",
       "      <th>B</th>\n",
       "    </tr>\n",
       "    <tr>\n",
       "      <th>outdoors_r</th>\n",
       "      <th></th>\n",
       "      <th></th>\n",
       "    </tr>\n",
       "  </thead>\n",
       "  <tbody>\n",
       "    <tr>\n",
       "      <th>1. Yes</th>\n",
       "      <td>60.9</td>\n",
       "      <td>71.0</td>\n",
       "    </tr>\n",
       "    <tr>\n",
       "      <th>9. No</th>\n",
       "      <td>39.1</td>\n",
       "      <td>29.0</td>\n",
       "    </tr>\n",
       "    <tr>\n",
       "      <th>Total n</th>\n",
       "      <td>1,045</td>\n",
       "      <td>1,039</td>\n",
       "    </tr>\n",
       "  </tbody>\n",
       "</table>\n",
       "</div>"
      ],
      "text/plain": [
       "condition       A      B\n",
       "outdoors_r              \n",
       "1. Yes       60.9   71.0\n",
       "9. No        39.1   29.0\n",
       "Total n     1,045  1,039"
      ]
     },
     "metadata": {},
     "output_type": "display_data"
    },
    {
     "data": {
      "text/markdown": [
       "*Chi-squared statistic = 23.5, degree of freedom = 1, p = 0.0*"
      ],
      "text/plain": [
       "<IPython.core.display.Markdown object>"
      ]
     },
     "metadata": {},
     "output_type": "display_data"
    },
    {
     "data": {
      "text/markdown": [
       "-----"
      ],
      "text/plain": [
       "<IPython.core.display.Markdown object>"
      ]
     },
     "metadata": {},
     "output_type": "display_data"
    }
   ],
   "source": [
    "for col in recoded_cols:\n",
    "    util.crosstab_chisq(col, 'condition', man_df)"
   ]
  }
 ],
 "metadata": {
  "kernelspec": {
   "display_name": "Python 3",
   "language": "python",
   "name": "python3"
  },
  "language_info": {
   "codemirror_mode": {
    "name": "ipython",
    "version": 3
   },
   "file_extension": ".py",
   "mimetype": "text/x-python",
   "name": "python",
   "nbconvert_exporter": "python",
   "pygments_lexer": "ipython3",
   "version": "3.7.3"
  }
 },
 "nbformat": 4,
 "nbformat_minor": 4
}
