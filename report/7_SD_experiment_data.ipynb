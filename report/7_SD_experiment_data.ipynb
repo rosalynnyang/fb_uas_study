{
 "cells": [
  {
   "cell_type": "markdown",
   "metadata": {},
   "source": [
    "## Social desirability experiment data merge"
   ]
  },
  {
   "cell_type": "markdown",
   "metadata": {},
   "source": [
    "Running this notebook will pull week 3, 4 covid image condition data and week 5 covid image only data together to create an analysis dataset"
   ]
  },
  {
   "cell_type": "code",
   "execution_count": 1,
   "metadata": {},
   "outputs": [],
   "source": [
    "import numpy as np\n",
    "import pandas as pd\n",
    "\n",
    "import warnings\n",
    "warnings.filterwarnings(\"ignore\")"
   ]
  },
  {
   "cell_type": "code",
   "execution_count": 2,
   "metadata": {},
   "outputs": [],
   "source": [
    "week3and4 = pd.read_csv('../input/34COVID.csv')\n",
    "week5 = pd.read_csv('../input/week5.csv')"
   ]
  },
  {
   "cell_type": "code",
   "execution_count": 3,
   "metadata": {},
   "outputs": [
    {
     "data": {
      "text/plain": [
       "array([ True,  True,  True,  True,  True,  True,  True,  True,  True,\n",
       "        True,  True,  True,  True,  True,  True,  True,  True,  True,\n",
       "        True,  True,  True,  True,  True,  True,  True,  True,  True,\n",
       "        True,  True,  True,  True,  True,  True,  True,  True,  True,\n",
       "        True,  True,  True,  True,  True,  True,  True,  True,  True,\n",
       "        True,  True,  True,  True,  True,  True,  True,  True,  True,\n",
       "        True,  True,  True,  True,  True,  True,  True,  True,  True,\n",
       "        True,  True,  True,  True,  True,  True,  True,  True,  True])"
      ]
     },
     "execution_count": 3,
     "metadata": {},
     "output_type": "execute_result"
    }
   ],
   "source": [
    "week3and4.columns==week5.columns"
   ]
  },
  {
   "cell_type": "code",
   "execution_count": 4,
   "metadata": {},
   "outputs": [
    {
     "data": {
      "text/plain": [
       "Index(['StartDate', 'EndDate', 'Status', 'IPAddress', 'Progress',\n",
       "       'Duration (in seconds)', 'Finished', 'RecordedDate', 'ResponseId',\n",
       "       'RecipientLastName', 'RecipientFirstName', 'RecipientEmail',\n",
       "       'ExternalReference', 'LocationLatitude', 'LocationLongitude',\n",
       "       'DistributionChannel', 'UserLanguage', 'timer_First Click',\n",
       "       'timer_Last Click', 'timer_Page Submit', 'timer_Click Count', 'Q1',\n",
       "       'Q2', 'Q3', 'Q3_1', 'Q4', 'Q5', 'Q6', 'Q7_1', 'Q8', 'Control1',\n",
       "       'Control2', 'Control3', 'Control4', 'A1', 'A2', 'A3', 'A4', 'B1', 'B2',\n",
       "       'B3', 'B4', 'C1', 'C2', 'C3', 'C4', 'Q9', 'Q9_6_TEXT', 'Q10', 'Q11',\n",
       "       'Q12', 'Control_1', 'Control_2', 'Control_3', 'Control_4',\n",
       "       'Treatment_A_1', 'Treatment_A_2', 'Treatment_A_3', 'Treatment_A_4',\n",
       "       'Treatment_B_1', 'Treatment_B_2', 'Treatment_B_3', 'Treatment_B_4',\n",
       "       'Treatment_C_1', 'Treatment_C_2', 'Treatment_C_3', 'Treatment_C_4',\n",
       "       'SC0', 'timeload', 'DeviceIdentifier', 'ResponseID', 'ipaddress'],\n",
       "      dtype='object')"
      ]
     },
     "execution_count": 4,
     "metadata": {},
     "output_type": "execute_result"
    }
   ],
   "source": [
    "week5.columns"
   ]
  },
  {
   "cell_type": "code",
   "execution_count": 5,
   "metadata": {},
   "outputs": [],
   "source": [
    "# manage columns\n",
    "keep_columns = ['ResponseId', 'Finished', 'Q5', 'Q6',\n",
    "                'Control1', 'Control2', 'Control3', 'Control4', \n",
    "                'A1', 'A2', 'A3', 'A4', \n",
    "                'B1', 'B2', 'B3', 'B4', \n",
    "                'C1', 'C2', 'C3', 'C4',\n",
    "                'Q9', 'Q9_6_TEXT', 'Q10', 'Q11', 'Q12']"
   ]
  },
  {
   "cell_type": "code",
   "execution_count": 6,
   "metadata": {},
   "outputs": [],
   "source": [
    "week3and4 = week3and4[keep_columns]\n",
    "week5 = week5[keep_columns]\n",
    "week_all = week3and4.append(week5, ignore_index=True)"
   ]
  },
  {
   "cell_type": "code",
   "execution_count": 7,
   "metadata": {},
   "outputs": [
    {
     "data": {
      "text/plain": [
       "(881, 25)"
      ]
     },
     "execution_count": 7,
     "metadata": {},
     "output_type": "execute_result"
    }
   ],
   "source": [
    "week_all.shape"
   ]
  },
  {
   "cell_type": "code",
   "execution_count": 8,
   "metadata": {},
   "outputs": [],
   "source": [
    "# drop breakoffs\n",
    "week_all_completes = week_all.loc[week_all['Finished']==1, :]"
   ]
  },
  {
   "cell_type": "code",
   "execution_count": 9,
   "metadata": {},
   "outputs": [
    {
     "data": {
      "text/plain": [
       "1.0    375\n",
       "2.0    261\n",
       "5.0      3\n",
       "6.0     21\n",
       "NaN      8\n",
       "Name: Q9, dtype: int64"
      ]
     },
     "execution_count": 9,
     "metadata": {},
     "output_type": "execute_result"
    }
   ],
   "source": [
    "week_all_completes['Q9'].value_counts(dropna=False).sort_index()"
   ]
  },
  {
   "cell_type": "code",
   "execution_count": 10,
   "metadata": {},
   "outputs": [],
   "source": [
    "# keep only those indicated gender as male and female and missing\n",
    "df = week_all_completes.loc[~np.isin(week_all_completes['Q9'], [5, 6]), :]"
   ]
  },
  {
   "cell_type": "code",
   "execution_count": 11,
   "metadata": {},
   "outputs": [],
   "source": [
    "# exclude those that are age <18\n",
    "df = df.loc[~np.isin(df['Q11'], [1]), :]"
   ]
  },
  {
   "cell_type": "markdown",
   "metadata": {},
   "source": [
    "#### Examine frequencies"
   ]
  },
  {
   "cell_type": "markdown",
   "metadata": {},
   "source": [
    "Some level of missing data exist in demographics and the COVID questions"
   ]
  },
  {
   "cell_type": "code",
   "execution_count": 12,
   "metadata": {},
   "outputs": [
    {
     "data": {
      "text/plain": [
       "1.0    374\n",
       "2.0    260\n",
       "NaN      8\n",
       "Name: Q9, dtype: int64"
      ]
     },
     "execution_count": 12,
     "metadata": {},
     "output_type": "execute_result"
    }
   ],
   "source": [
    "df['Q9'].value_counts(dropna=False).sort_index()"
   ]
  },
  {
   "cell_type": "code",
   "execution_count": 13,
   "metadata": {},
   "outputs": [
    {
     "data": {
      "text/plain": [
       "1.0    467\n",
       "7.0    162\n",
       "8.0      2\n",
       "NaN     11\n",
       "Name: Q10, dtype: int64"
      ]
     },
     "execution_count": 13,
     "metadata": {},
     "output_type": "execute_result"
    }
   ],
   "source": [
    "df['Q10'].value_counts(dropna=False).sort_index()"
   ]
  },
  {
   "cell_type": "code",
   "execution_count": 14,
   "metadata": {},
   "outputs": [
    {
     "data": {
      "text/plain": [
       "2.0     17\n",
       "3.0     42\n",
       "4.0     63\n",
       "5.0    106\n",
       "6.0    214\n",
       "7.0    189\n",
       "NaN     11\n",
       "Name: Q11, dtype: int64"
      ]
     },
     "execution_count": 14,
     "metadata": {},
     "output_type": "execute_result"
    }
   ],
   "source": [
    "df['Q11'].value_counts(dropna=False).sort_index()"
   ]
  },
  {
   "cell_type": "code",
   "execution_count": 15,
   "metadata": {},
   "outputs": [
    {
     "data": {
      "text/plain": [
       "4.0      6\n",
       "5.0     88\n",
       "6.0    248\n",
       "7.0    163\n",
       "8.0    125\n",
       "NaN     12\n",
       "Name: Q12, dtype: int64"
      ]
     },
     "execution_count": 15,
     "metadata": {},
     "output_type": "execute_result"
    }
   ],
   "source": [
    "df['Q12'].value_counts(dropna=False).sort_index()"
   ]
  },
  {
   "cell_type": "code",
   "execution_count": 16,
   "metadata": {},
   "outputs": [
    {
     "data": {
      "text/plain": [
       "1.0    304\n",
       "2.0     46\n",
       "3.0     78\n",
       "4.0    172\n",
       "5.0     38\n",
       "NaN      4\n",
       "Name: Q5, dtype: int64"
      ]
     },
     "execution_count": 16,
     "metadata": {},
     "output_type": "execute_result"
    }
   ],
   "source": [
    "df['Q5'].value_counts(dropna=False).sort_index()"
   ]
  },
  {
   "cell_type": "code",
   "execution_count": 17,
   "metadata": {},
   "outputs": [
    {
     "data": {
      "text/plain": [
       "1.0    280\n",
       "2.0    263\n",
       "3.0     95\n",
       "NaN      4\n",
       "Name: Q6, dtype: int64"
      ]
     },
     "execution_count": 17,
     "metadata": {},
     "output_type": "execute_result"
    }
   ],
   "source": [
    "df['Q6'].value_counts(dropna=False).sort_index()"
   ]
  },
  {
   "cell_type": "markdown",
   "metadata": {},
   "source": [
    "#### Reverse recodes"
   ]
  },
  {
   "cell_type": "markdown",
   "metadata": {},
   "source": [
    "This step is to reverse the recoded values generated by Qualtrics for all experimental conditions <br>\n",
    "Yes for any reason (1), Yes but only when neccessary (2), No (3), Unsure (4) <br>\n",
    "Yes (1), No (3), Unsure (4)"
   ]
  },
  {
   "cell_type": "markdown",
   "metadata": {},
   "source": [
    "Recodes correction: <br>\n",
    "Control1: 2=3, 3=4 <br>\n",
    "Control2, Control3, Control4, A1, A2, A3, A4: 4=3, 5=4 <br>\n",
    "B1, B2, B3, B4, C2, C4: 4=2, 5=3, 6=4 <br>\n",
    "C3: 7=2, 8=3, 9=4"
   ]
  },
  {
   "cell_type": "code",
   "execution_count": 18,
   "metadata": {},
   "outputs": [],
   "source": [
    "recode_set2_cols = ['Control2', 'Control3', 'Control4', 'A1', 'A2', 'A3', 'A4']\n",
    "recode_set3_cols = ['B1', 'B2', 'B3', 'B4', 'C2', 'C4']"
   ]
  },
  {
   "cell_type": "code",
   "execution_count": 19,
   "metadata": {},
   "outputs": [],
   "source": [
    "df['Control1'] = df[['Control1']].replace([2, 3], [3, 4])\n",
    "df['C3'] = df[['C3']].replace([7, 8, 9], [2, 3, 4])"
   ]
  },
  {
   "cell_type": "code",
   "execution_count": 20,
   "metadata": {},
   "outputs": [],
   "source": [
    "for col in recode_set2_cols:\n",
    "    df[col] = df[[col]].replace([4, 5], [3, 4])"
   ]
  },
  {
   "cell_type": "code",
   "execution_count": 21,
   "metadata": {},
   "outputs": [],
   "source": [
    "for col in recode_set3_cols:\n",
    "    df[col] = df[[col]].replace([4, 5, 6], [2, 3, 4])"
   ]
  },
  {
   "cell_type": "markdown",
   "metadata": {},
   "source": [
    "#### Clean up experimental conditions groupings"
   ]
  },
  {
   "cell_type": "code",
   "execution_count": 22,
   "metadata": {},
   "outputs": [],
   "source": [
    "df = df.reset_index(drop=True)"
   ]
  },
  {
   "cell_type": "code",
   "execution_count": 23,
   "metadata": {},
   "outputs": [],
   "source": [
    "grouping = np.array(['Control', 'A', 'B', 'C'])\n",
    "row_groupings = []\n",
    "\n",
    "for index, row in df[['Control1', 'A1', 'B1', 'C1']].iterrows():\n",
    "    boolean_list = ~row.isna()\n",
    "    selected = grouping[boolean_list]\n",
    "    try:\n",
    "        value_selected = selected[0]\n",
    "    except IndexError:\n",
    "        # when all columns are nan, no grouping is available\n",
    "        row_groupings.append('NAN')\n",
    "        continue\n",
    "    row_groupings.append(value_selected)"
   ]
  },
  {
   "cell_type": "code",
   "execution_count": 24,
   "metadata": {},
   "outputs": [],
   "source": [
    "df['condition'] = row_groupings"
   ]
  },
  {
   "cell_type": "code",
   "execution_count": 25,
   "metadata": {},
   "outputs": [
    {
     "data": {
      "text/plain": [
       "A          157\n",
       "B          160\n",
       "C          157\n",
       "Control    163\n",
       "NAN          5\n",
       "Name: condition, dtype: int64"
      ]
     },
     "execution_count": 25,
     "metadata": {},
     "output_type": "execute_result"
    }
   ],
   "source": [
    "df['condition'].value_counts(dropna=False).sort_index()"
   ]
  },
  {
   "cell_type": "code",
   "execution_count": 26,
   "metadata": {},
   "outputs": [],
   "source": [
    "df['gone_to_friend'] = df[['Control1', 'A1', 'B1', 'C1']].fillna(0).sum(axis=1).astype(int)\n",
    "df['had_visitors'] = df[['Control2', 'A2', 'B2', 'C2']].fillna(0).sum(axis=1).astype(int)\n",
    "df['had_close_contact'] = df[['Control3', 'A3', 'B3', 'C3']].fillna(0).sum(axis=1).astype(int)\n",
    "df['gone_outside'] = df[['Control4', 'A4', 'B4', 'C4']].fillna(0).sum(axis=1).astype(int)"
   ]
  },
  {
   "cell_type": "code",
   "execution_count": 27,
   "metadata": {},
   "outputs": [],
   "source": [
    "# exclude those with complete missing data in experimental variables\n",
    "df = df.loc[df['condition'] != 'NAN'].reset_index(drop=True)"
   ]
  },
  {
   "cell_type": "code",
   "execution_count": 28,
   "metadata": {},
   "outputs": [
    {
     "data": {
      "text/plain": [
       "Index(['ResponseId', 'Finished', 'Q5', 'Q6', 'Control1', 'Control2',\n",
       "       'Control3', 'Control4', 'A1', 'A2', 'A3', 'A4', 'B1', 'B2', 'B3', 'B4',\n",
       "       'C1', 'C2', 'C3', 'C4', 'Q9', 'Q9_6_TEXT', 'Q10', 'Q11', 'Q12',\n",
       "       'condition', 'gone_to_friend', 'had_visitors', 'had_close_contact',\n",
       "       'gone_outside'],\n",
       "      dtype='object')"
      ]
     },
     "execution_count": 28,
     "metadata": {},
     "output_type": "execute_result"
    }
   ],
   "source": [
    "df.columns"
   ]
  },
  {
   "cell_type": "code",
   "execution_count": 29,
   "metadata": {},
   "outputs": [],
   "source": [
    "df = df[['ResponseId', 'Q5', 'Q6', 'Q9', 'Q10', 'Q11', 'Q12',\n",
    "         'gone_to_friend', 'had_visitors', 'had_close_contact', 'gone_outside', 'condition']]"
   ]
  },
  {
   "cell_type": "code",
   "execution_count": 30,
   "metadata": {},
   "outputs": [],
   "source": [
    "df.columns = ['ID', 'vaccine', 'mandate', 'gender', 'marital', 'age_group', 'education', 'gone_to_friend', 'had_visitors', 'had_close_contact', 'gone_outside', 'condition']"
   ]
  },
  {
   "cell_type": "code",
   "execution_count": 31,
   "metadata": {},
   "outputs": [],
   "source": [
    "df.to_csv('../output/SD_experiment_df.csv', index=False)"
   ]
  }
 ],
 "metadata": {
  "kernelspec": {
   "display_name": "Python 3",
   "language": "python",
   "name": "python3"
  },
  "language_info": {
   "codemirror_mode": {
    "name": "ipython",
    "version": 3
   },
   "file_extension": ".py",
   "mimetype": "text/x-python",
   "name": "python",
   "nbconvert_exporter": "python",
   "pygments_lexer": "ipython3",
   "version": "3.7.3"
  }
 },
 "nbformat": 4,
 "nbformat_minor": 4
}
