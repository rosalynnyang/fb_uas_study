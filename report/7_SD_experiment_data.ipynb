{
 "cells": [
  {
   "cell_type": "markdown",
   "metadata": {},
   "source": [
    "## Social desirability experiment data merge"
   ]
  },
  {
   "cell_type": "markdown",
   "metadata": {},
   "source": [
    "Running this notebook will pull week 3, 4 covid image condition data and week 5 covid image only data together to create an analysis dataset"
   ]
  },
  {
   "cell_type": "code",
   "execution_count": 1,
   "metadata": {},
   "outputs": [],
   "source": [
    "import numpy as np\n",
    "import pandas as pd"
   ]
  },
  {
   "cell_type": "code",
   "execution_count": 60,
   "metadata": {},
   "outputs": [],
   "source": [
    "week3and4 = pd.read_csv('../input/34COVID.csv')\n",
    "week5 = pd.read_csv('../input/week5.csv')"
   ]
  },
  {
   "cell_type": "code",
   "execution_count": 61,
   "metadata": {},
   "outputs": [
    {
     "data": {
      "text/plain": [
       "array([ True,  True,  True,  True,  True,  True,  True,  True,  True,\n",
       "        True,  True,  True,  True,  True,  True,  True,  True,  True,\n",
       "        True,  True,  True,  True,  True,  True,  True,  True,  True,\n",
       "        True,  True,  True,  True,  True,  True,  True,  True,  True,\n",
       "        True,  True,  True,  True,  True,  True,  True,  True,  True,\n",
       "        True,  True,  True,  True,  True,  True,  True,  True,  True,\n",
       "        True,  True,  True,  True,  True,  True,  True,  True,  True,\n",
       "        True,  True,  True,  True,  True,  True,  True,  True,  True])"
      ]
     },
     "execution_count": 61,
     "metadata": {},
     "output_type": "execute_result"
    }
   ],
   "source": [
    "week3and4.columns==week5.columns"
   ]
  },
  {
   "cell_type": "code",
   "execution_count": 62,
   "metadata": {},
   "outputs": [
    {
     "data": {
      "text/plain": [
       "Index(['StartDate', 'EndDate', 'Status', 'IPAddress', 'Progress',\n",
       "       'Duration (in seconds)', 'Finished', 'RecordedDate', 'ResponseId',\n",
       "       'RecipientLastName', 'RecipientFirstName', 'RecipientEmail',\n",
       "       'ExternalReference', 'LocationLatitude', 'LocationLongitude',\n",
       "       'DistributionChannel', 'UserLanguage', 'timer_First Click',\n",
       "       'timer_Last Click', 'timer_Page Submit', 'timer_Click Count', 'Q1',\n",
       "       'Q2', 'Q3', 'Q3_1', 'Q4', 'Q5', 'Q6', 'Q7_1', 'Q8', 'Control1',\n",
       "       'Control2', 'Control3', 'Control4', 'A1', 'A2', 'A3', 'A4', 'B1', 'B2',\n",
       "       'B3', 'B4', 'C1', 'C2', 'C3', 'C4', 'Q9', 'Q9_6_TEXT', 'Q10', 'Q11',\n",
       "       'Q12', 'Control_1', 'Control_2', 'Control_3', 'Control_4',\n",
       "       'Treatment_A_1', 'Treatment_A_2', 'Treatment_A_3', 'Treatment_A_4',\n",
       "       'Treatment_B_1', 'Treatment_B_2', 'Treatment_B_3', 'Treatment_B_4',\n",
       "       'Treatment_C_1', 'Treatment_C_2', 'Treatment_C_3', 'Treatment_C_4',\n",
       "       'SC0', 'timeload', 'DeviceIdentifier', 'ResponseID', 'ipaddress'],\n",
       "      dtype='object')"
      ]
     },
     "execution_count": 62,
     "metadata": {},
     "output_type": "execute_result"
    }
   ],
   "source": [
    "week5.columns"
   ]
  },
  {
   "cell_type": "code",
   "execution_count": 63,
   "metadata": {},
   "outputs": [],
   "source": [
    "# manage columns\n",
    "keep_columns = ['ResponseId', 'Finished', 'Q5', 'Q6',\n",
    "                'Control1', 'Control2', 'Control3', 'Control4', \n",
    "                'A1', 'A2', 'A3', 'A4', \n",
    "                'B1', 'B2', 'B3', 'B4', \n",
    "                'C1', 'C2', 'C3', 'C4',\n",
    "                'Q9', 'Q9_6_TEXT', 'Q10', 'Q11', 'Q12']"
   ]
  },
  {
   "cell_type": "code",
   "execution_count": 64,
   "metadata": {},
   "outputs": [],
   "source": [
    "week3and4 = week3and4[keep_columns]\n",
    "week5 = week5[keep_columns]\n",
    "week_all = week3and4.append(week5, ignore_index=True)"
   ]
  },
  {
   "cell_type": "code",
   "execution_count": 65,
   "metadata": {},
   "outputs": [
    {
     "data": {
      "text/plain": [
       "(881, 25)"
      ]
     },
     "execution_count": 65,
     "metadata": {},
     "output_type": "execute_result"
    }
   ],
   "source": [
    "week_all.shape"
   ]
  },
  {
   "cell_type": "code",
   "execution_count": 66,
   "metadata": {},
   "outputs": [],
   "source": [
    "# drop breakoffs\n",
    "week_all_completes = week_all.loc[week_all['Finished']==1, :]"
   ]
  },
  {
   "cell_type": "code",
   "execution_count": 67,
   "metadata": {},
   "outputs": [
    {
     "data": {
      "text/plain": [
       "1.0    375\n",
       "2.0    261\n",
       "6.0     21\n",
       "NaN      8\n",
       "5.0      3\n",
       "Name: Q9, dtype: int64"
      ]
     },
     "execution_count": 67,
     "metadata": {},
     "output_type": "execute_result"
    }
   ],
   "source": [
    "week_all_completes['Q9'].value_counts(dropna=False)"
   ]
  },
  {
   "cell_type": "code",
   "execution_count": 68,
   "metadata": {},
   "outputs": [],
   "source": [
    "# keep only those indicated gender as male and female and missing\n",
    "df = week_all_completes.loc[~np.isin(week_all_completes['Q9'], [5, 6]), :]"
   ]
  },
  {
   "cell_type": "markdown",
   "metadata": {},
   "source": [
    "#### Examine frequencies"
   ]
  },
  {
   "cell_type": "code",
   "execution_count": 69,
   "metadata": {},
   "outputs": [
    {
     "data": {
      "text/plain": [
       "1.0    375\n",
       "2.0    261\n",
       "NaN      8\n",
       "Name: Q9, dtype: int64"
      ]
     },
     "execution_count": 69,
     "metadata": {},
     "output_type": "execute_result"
    }
   ],
   "source": [
    "df['Q9'].value_counts(dropna=False)"
   ]
  },
  {
   "cell_type": "code",
   "execution_count": 70,
   "metadata": {},
   "outputs": [
    {
     "data": {
      "text/plain": [
       "1.0    467\n",
       "7.0    164\n",
       "NaN     11\n",
       "8.0      2\n",
       "Name: Q10, dtype: int64"
      ]
     },
     "execution_count": 70,
     "metadata": {},
     "output_type": "execute_result"
    }
   ],
   "source": [
    "df['Q10'].value_counts(dropna=False)"
   ]
  },
  {
   "cell_type": "code",
   "execution_count": 71,
   "metadata": {},
   "outputs": [
    {
     "data": {
      "text/plain": [
       "6.0    214\n",
       "7.0    189\n",
       "5.0    106\n",
       "4.0     63\n",
       "3.0     42\n",
       "2.0     17\n",
       "NaN     11\n",
       "1.0      2\n",
       "Name: Q11, dtype: int64"
      ]
     },
     "execution_count": 71,
     "metadata": {},
     "output_type": "execute_result"
    }
   ],
   "source": [
    "df['Q11'].value_counts(dropna=False)"
   ]
  },
  {
   "cell_type": "code",
   "execution_count": 72,
   "metadata": {},
   "outputs": [
    {
     "data": {
      "text/plain": [
       "6.0    248\n",
       "7.0    163\n",
       "8.0    125\n",
       "5.0     89\n",
       "NaN     12\n",
       "4.0      7\n",
       "Name: Q12, dtype: int64"
      ]
     },
     "execution_count": 72,
     "metadata": {},
     "output_type": "execute_result"
    }
   ],
   "source": [
    "df['Q12'].value_counts(dropna=False)"
   ]
  },
  {
   "cell_type": "code",
   "execution_count": 73,
   "metadata": {},
   "outputs": [
    {
     "data": {
      "text/plain": [
       "1.0    304\n",
       "4.0    174\n",
       "3.0     78\n",
       "2.0     46\n",
       "5.0     38\n",
       "NaN      4\n",
       "Name: Q5, dtype: int64"
      ]
     },
     "execution_count": 73,
     "metadata": {},
     "output_type": "execute_result"
    }
   ],
   "source": [
    "df['Q5'].value_counts(dropna=False)"
   ]
  },
  {
   "cell_type": "code",
   "execution_count": 74,
   "metadata": {},
   "outputs": [
    {
     "data": {
      "text/plain": [
       "1.0    281\n",
       "2.0    263\n",
       "3.0     96\n",
       "NaN      4\n",
       "Name: Q6, dtype: int64"
      ]
     },
     "execution_count": 74,
     "metadata": {},
     "output_type": "execute_result"
    }
   ],
   "source": [
    "df['Q6'].value_counts(dropna=False)"
   ]
  },
  {
   "cell_type": "code",
   "execution_count": 75,
   "metadata": {},
   "outputs": [
    {
     "data": {
      "text/plain": [
       "NaN    481\n",
       "1.0     99\n",
       "2.0     64\n",
       "Name: Control1, dtype: int64"
      ]
     },
     "execution_count": 75,
     "metadata": {},
     "output_type": "execute_result"
    }
   ],
   "source": [
    "df['Control1'].value_counts(dropna=False)"
   ]
  },
  {
   "cell_type": "code",
   "execution_count": 76,
   "metadata": {},
   "outputs": [
    {
     "data": {
      "text/plain": [
       "NaN    481\n",
       "1.0     83\n",
       "4.0     80\n",
       "Name: Control2, dtype: int64"
      ]
     },
     "execution_count": 76,
     "metadata": {},
     "output_type": "execute_result"
    }
   ],
   "source": [
    "df['Control2'].value_counts(dropna=False)"
   ]
  },
  {
   "cell_type": "markdown",
   "metadata": {},
   "source": [
    "#### Reverse recodes"
   ]
  },
  {
   "cell_type": "markdown",
   "metadata": {},
   "source": [
    "This step is to reverse the recoded values generated by Qualtrics for all experimental conditions <br>\n",
    "Yes for any reason (1), Yes but only when neccessary (2), No (3), Unsure (4) <br>\n",
    "Yes (1), No (3), Unsure (4)"
   ]
  },
  {
   "cell_type": "markdown",
   "metadata": {},
   "source": [
    "Recodes correction: <br>\n",
    "Control1: 2=3, 3=4 <br>\n",
    "Control2, Control3, Control4, A1, A2, A3, A4: 4=3, 5=4 <br>\n",
    "B1, B2, B3, B4, C2, C4: 4=2, 5=3, 6=4 <br>\n",
    "C3: 7=2, 8=3, 9=4"
   ]
  }
 ],
 "metadata": {
  "kernelspec": {
   "display_name": "Python 3",
   "language": "python",
   "name": "python3"
  },
  "language_info": {
   "codemirror_mode": {
    "name": "ipython",
    "version": 3
   },
   "file_extension": ".py",
   "mimetype": "text/x-python",
   "name": "python",
   "nbconvert_exporter": "python",
   "pygments_lexer": "ipython3",
   "version": "3.7.3"
  }
 },
 "nbformat": 4,
 "nbformat_minor": 4
}
