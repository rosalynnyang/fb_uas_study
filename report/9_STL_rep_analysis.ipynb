{
 "cells": [
  {
   "cell_type": "markdown",
   "metadata": {},
   "source": [
    "## Analysis for the manuscript: prepare data"
   ]
  },
  {
   "cell_type": "markdown",
   "metadata": {},
   "source": [
    "This analysis is conducted based on the Dauost experiment replication data, fielded in 2020. <br>\n",
    "1) checking for randomization of treatment conditions <br>\n",
    "2) experimental data analysis <br>\n",
    "3) three-way interactions"
   ]
  },
  {
   "cell_type": "code",
   "execution_count": 1,
   "metadata": {},
   "outputs": [],
   "source": [
    "import numpy as np\n",
    "import pandas as pd\n",
    "\n",
    "import warnings\n",
    "warnings.filterwarnings(\"ignore\")"
   ]
  },
  {
   "cell_type": "code",
   "execution_count": 2,
   "metadata": {},
   "outputs": [],
   "source": [
    "rep_exp = pd.read_csv('../input/rep_exp.csv')"
   ]
  },
  {
   "cell_type": "code",
   "execution_count": 3,
   "metadata": {},
   "outputs": [],
   "source": [
    "# columns: select and rename analysis variables\n",
    "rep_exp = rep_exp[['Finished', 'Q1.3', 'Q1.4', 'Q1.5', 'Q2.3', 'Q2.4', 'Q2.5', 'Q3.1', 'Q3.2', \n",
    "                   'Q5.1', 'Q5.2', 'Q5.3', 'Q5.4']]\n",
    "\n",
    "rep_exp.columns = ['Finished', 'visit_A', 'over_A', 'outdoors_A', 'visit_B', 'over_B', 'outdoors_B', 'blame_individual', 'blame_social', \n",
    "                   'sex', 'marital', 'age_group', 'education']"
   ]
  },
  {
   "cell_type": "code",
   "execution_count": 4,
   "metadata": {},
   "outputs": [],
   "source": [
    "# rows: remove breakoffs\n",
    "rep_exp = rep_exp.loc[rep_exp['Finished']==1, :]"
   ]
  },
  {
   "cell_type": "code",
   "execution_count": 5,
   "metadata": {},
   "outputs": [
    {
     "data": {
      "text/plain": [
       "(4686, 13)"
      ]
     },
     "execution_count": 5,
     "metadata": {},
     "output_type": "execute_result"
    }
   ],
   "source": [
    "rep_exp.shape"
   ]
  },
  {
   "cell_type": "code",
   "execution_count": 6,
   "metadata": {},
   "outputs": [
    {
     "name": "stdout",
     "output_type": "stream",
     "text": [
      "1.0    2488\n",
      "2.0    2109\n",
      "NaN      89\n",
      "Name: sex, dtype: int64\n",
      "................\n",
      "1.0    3029\n",
      "2.0     391\n",
      "3.0     665\n",
      "4.0      44\n",
      "5.0     476\n",
      "NaN      81\n",
      "Name: marital, dtype: int64\n",
      "................\n",
      "1.0      10\n",
      "2.0      89\n",
      "3.0     195\n",
      "4.0     329\n",
      "5.0     680\n",
      "6.0    1342\n",
      "7.0    1966\n",
      "NaN      75\n",
      "Name: age_group, dtype: int64\n",
      "................\n",
      "1.0      55\n",
      "2.0     767\n",
      "3.0    1746\n",
      "4.0    1253\n",
      "5.0     800\n",
      "NaN      65\n",
      "Name: education, dtype: int64\n",
      "................\n"
     ]
    }
   ],
   "source": [
    "# rows: check demographic frequencies - at analysis stage: consider whether 1) remove missing demographics, 2) recode demographics\n",
    "demographic_cols = ['sex', 'marital', 'age_group', 'education']\n",
    "\n",
    "for col in demographic_cols:\n",
    "    print(rep_exp[col].value_counts(dropna=False).sort_index())\n",
    "    print(\"................\")"
   ]
  },
  {
   "cell_type": "code",
   "execution_count": 7,
   "metadata": {},
   "outputs": [],
   "source": [
    "# rows: remove those that are age<18\n",
    "rep_exp = rep_exp.loc[~np.isin(rep_exp['age_group'], [1]), :]"
   ]
  },
  {
   "cell_type": "code",
   "execution_count": 8,
   "metadata": {},
   "outputs": [],
   "source": [
    "# rows: remove those with missing demographics\n",
    "rep_exp = rep_exp.dropna( how='any', subset= demographic_cols)"
   ]
  },
  {
   "cell_type": "code",
   "execution_count": 9,
   "metadata": {},
   "outputs": [
    {
     "data": {
      "text/plain": [
       "(4545, 13)"
      ]
     },
     "execution_count": 9,
     "metadata": {},
     "output_type": "execute_result"
    }
   ],
   "source": [
    "rep_exp.shape"
   ]
  },
  {
   "cell_type": "code",
   "execution_count": 10,
   "metadata": {},
   "outputs": [],
   "source": [
    "# reset and add index column \"id\"\n",
    "rep_exp = rep_exp.reset_index(drop=True)\n",
    "rep_exp['id'] = range(1, len(rep_exp) + 1)"
   ]
  },
  {
   "cell_type": "code",
   "execution_count": 11,
   "metadata": {},
   "outputs": [],
   "source": [
    "# extract the replication dataset\n",
    "df_rep = rep_exp[['id', 'visit_A', 'over_A', 'outdoors_A', 'visit_B', 'over_B', 'outdoors_B', 'sex', 'marital', 'age_group', 'education']]"
   ]
  },
  {
   "cell_type": "code",
   "execution_count": 12,
   "metadata": {},
   "outputs": [],
   "source": [
    "# recoding for consistency \n",
    "A_cols = ['visit_A', 'over_A', 'outdoors_A']\n",
    "B_cols = ['visit_B', 'over_B', 'outdoors_B'] \n",
    "\n",
    "for col in A_cols:\n",
    "    df_rep[col] = df_rep[[col]].replace([3], [8]) # unsure=8\n",
    "    \n",
    "for col in B_cols:\n",
    "    df_rep[col] = df_rep[[col]].replace([4], [8]) # unsure=8\n",
    "    \n",
    "for col in B_cols:\n",
    "    df_rep[col] = df_rep[[col]].replace([2], [11]) # only when neccessary=11\n",
    "    \n",
    "for col in B_cols:\n",
    "    df_rep[col] = df_rep[[col]].replace([3], [2]) # no=2"
   ]
  },
  {
   "cell_type": "code",
   "execution_count": 13,
   "metadata": {},
   "outputs": [],
   "source": [
    "# assign conditions\n",
    "grouping = np.array(['A', 'B'])\n",
    "row_groupings = []\n",
    "\n",
    "for index, row in df_rep[['visit_A', 'visit_B']].iterrows():\n",
    "    boolean_list = ~row.isna()\n",
    "    selected = grouping[boolean_list]\n",
    "    try:\n",
    "        value_selected = selected[0]\n",
    "    except IndexError:\n",
    "        # when all columns are nan, no grouping is available\n",
    "        row_groupings.append('NAN')\n",
    "        continue\n",
    "    row_groupings.append(value_selected)"
   ]
  },
  {
   "cell_type": "code",
   "execution_count": 14,
   "metadata": {},
   "outputs": [],
   "source": [
    "df_rep['condition'] = row_groupings"
   ]
  },
  {
   "cell_type": "code",
   "execution_count": 15,
   "metadata": {},
   "outputs": [
    {
     "data": {
      "text/plain": [
       "A    2269\n",
       "B    2276\n",
       "Name: condition, dtype: int64"
      ]
     },
     "execution_count": 15,
     "metadata": {},
     "output_type": "execute_result"
    }
   ],
   "source": [
    "df_rep['condition'].value_counts(dropna=False).sort_index()"
   ]
  },
  {
   "cell_type": "code",
   "execution_count": 16,
   "metadata": {},
   "outputs": [
    {
     "data": {
      "text/html": [
       "<div>\n",
       "<style scoped>\n",
       "    .dataframe tbody tr th:only-of-type {\n",
       "        vertical-align: middle;\n",
       "    }\n",
       "\n",
       "    .dataframe tbody tr th {\n",
       "        vertical-align: top;\n",
       "    }\n",
       "\n",
       "    .dataframe thead th {\n",
       "        text-align: right;\n",
       "    }\n",
       "</style>\n",
       "<table border=\"1\" class=\"dataframe\">\n",
       "  <thead>\n",
       "    <tr style=\"text-align: right;\">\n",
       "      <th></th>\n",
       "      <th>id</th>\n",
       "      <th>visit_A</th>\n",
       "      <th>over_A</th>\n",
       "      <th>outdoors_A</th>\n",
       "      <th>visit_B</th>\n",
       "      <th>over_B</th>\n",
       "      <th>outdoors_B</th>\n",
       "      <th>sex</th>\n",
       "      <th>marital</th>\n",
       "      <th>age_group</th>\n",
       "      <th>education</th>\n",
       "      <th>condition</th>\n",
       "    </tr>\n",
       "  </thead>\n",
       "  <tbody>\n",
       "    <tr>\n",
       "      <th>0</th>\n",
       "      <td>1</td>\n",
       "      <td>NaN</td>\n",
       "      <td>NaN</td>\n",
       "      <td>NaN</td>\n",
       "      <td>2.0</td>\n",
       "      <td>2.0</td>\n",
       "      <td>1.0</td>\n",
       "      <td>1.0</td>\n",
       "      <td>3.0</td>\n",
       "      <td>7.0</td>\n",
       "      <td>5.0</td>\n",
       "      <td>B</td>\n",
       "    </tr>\n",
       "    <tr>\n",
       "      <th>1</th>\n",
       "      <td>2</td>\n",
       "      <td>2.0</td>\n",
       "      <td>1.0</td>\n",
       "      <td>2.0</td>\n",
       "      <td>NaN</td>\n",
       "      <td>NaN</td>\n",
       "      <td>NaN</td>\n",
       "      <td>1.0</td>\n",
       "      <td>1.0</td>\n",
       "      <td>7.0</td>\n",
       "      <td>5.0</td>\n",
       "      <td>A</td>\n",
       "    </tr>\n",
       "    <tr>\n",
       "      <th>2</th>\n",
       "      <td>3</td>\n",
       "      <td>2.0</td>\n",
       "      <td>2.0</td>\n",
       "      <td>2.0</td>\n",
       "      <td>NaN</td>\n",
       "      <td>NaN</td>\n",
       "      <td>NaN</td>\n",
       "      <td>1.0</td>\n",
       "      <td>1.0</td>\n",
       "      <td>7.0</td>\n",
       "      <td>3.0</td>\n",
       "      <td>A</td>\n",
       "    </tr>\n",
       "    <tr>\n",
       "      <th>3</th>\n",
       "      <td>4</td>\n",
       "      <td>2.0</td>\n",
       "      <td>2.0</td>\n",
       "      <td>1.0</td>\n",
       "      <td>NaN</td>\n",
       "      <td>NaN</td>\n",
       "      <td>NaN</td>\n",
       "      <td>1.0</td>\n",
       "      <td>3.0</td>\n",
       "      <td>7.0</td>\n",
       "      <td>3.0</td>\n",
       "      <td>A</td>\n",
       "    </tr>\n",
       "    <tr>\n",
       "      <th>4</th>\n",
       "      <td>5</td>\n",
       "      <td>NaN</td>\n",
       "      <td>NaN</td>\n",
       "      <td>NaN</td>\n",
       "      <td>2.0</td>\n",
       "      <td>2.0</td>\n",
       "      <td>2.0</td>\n",
       "      <td>1.0</td>\n",
       "      <td>1.0</td>\n",
       "      <td>7.0</td>\n",
       "      <td>5.0</td>\n",
       "      <td>B</td>\n",
       "    </tr>\n",
       "  </tbody>\n",
       "</table>\n",
       "</div>"
      ],
      "text/plain": [
       "   id  visit_A  over_A  outdoors_A  visit_B  over_B  outdoors_B  sex  marital  \\\n",
       "0   1      NaN     NaN         NaN      2.0     2.0         1.0  1.0      3.0   \n",
       "1   2      2.0     1.0         2.0      NaN     NaN         NaN  1.0      1.0   \n",
       "2   3      2.0     2.0         2.0      NaN     NaN         NaN  1.0      1.0   \n",
       "3   4      2.0     2.0         1.0      NaN     NaN         NaN  1.0      3.0   \n",
       "4   5      NaN     NaN         NaN      2.0     2.0         2.0  1.0      1.0   \n",
       "\n",
       "   age_group  education condition  \n",
       "0        7.0        5.0         B  \n",
       "1        7.0        5.0         A  \n",
       "2        7.0        3.0         A  \n",
       "3        7.0        3.0         A  \n",
       "4        7.0        5.0         B  "
      ]
     },
     "execution_count": 16,
     "metadata": {},
     "output_type": "execute_result"
    }
   ],
   "source": [
    "df_rep.head()"
   ]
  },
  {
   "cell_type": "code",
   "execution_count": 17,
   "metadata": {},
   "outputs": [],
   "source": [
    "# combine two sets of variables into one\n",
    "df_rep['visit'] = df_rep[['visit_A', 'visit_B']].fillna(0).sum(axis=1).astype(int)\n",
    "df_rep['over'] = df_rep[['over_A', 'over_B']].fillna(0).sum(axis=1).astype(int)\n",
    "df_rep['outdoors'] = df_rep[['outdoors_A', 'outdoors_B']].fillna(0).sum(axis=1).astype(int)"
   ]
  },
  {
   "cell_type": "code",
   "execution_count": 18,
   "metadata": {},
   "outputs": [],
   "source": [
    "df_rep = df_rep[['id', 'condition', 'visit', 'over', 'outdoors', 'sex', 'marital', 'age_group', 'education']]"
   ]
  },
  {
   "cell_type": "code",
   "execution_count": 19,
   "metadata": {},
   "outputs": [
    {
     "data": {
      "text/html": [
       "<div>\n",
       "<style scoped>\n",
       "    .dataframe tbody tr th:only-of-type {\n",
       "        vertical-align: middle;\n",
       "    }\n",
       "\n",
       "    .dataframe tbody tr th {\n",
       "        vertical-align: top;\n",
       "    }\n",
       "\n",
       "    .dataframe thead th {\n",
       "        text-align: right;\n",
       "    }\n",
       "</style>\n",
       "<table border=\"1\" class=\"dataframe\">\n",
       "  <thead>\n",
       "    <tr style=\"text-align: right;\">\n",
       "      <th></th>\n",
       "      <th>id</th>\n",
       "      <th>condition</th>\n",
       "      <th>visit</th>\n",
       "      <th>over</th>\n",
       "      <th>outdoors</th>\n",
       "      <th>sex</th>\n",
       "      <th>marital</th>\n",
       "      <th>age_group</th>\n",
       "      <th>education</th>\n",
       "    </tr>\n",
       "  </thead>\n",
       "  <tbody>\n",
       "    <tr>\n",
       "      <th>0</th>\n",
       "      <td>1</td>\n",
       "      <td>B</td>\n",
       "      <td>2</td>\n",
       "      <td>2</td>\n",
       "      <td>1</td>\n",
       "      <td>1.0</td>\n",
       "      <td>3.0</td>\n",
       "      <td>7.0</td>\n",
       "      <td>5.0</td>\n",
       "    </tr>\n",
       "    <tr>\n",
       "      <th>1</th>\n",
       "      <td>2</td>\n",
       "      <td>A</td>\n",
       "      <td>2</td>\n",
       "      <td>1</td>\n",
       "      <td>2</td>\n",
       "      <td>1.0</td>\n",
       "      <td>1.0</td>\n",
       "      <td>7.0</td>\n",
       "      <td>5.0</td>\n",
       "    </tr>\n",
       "    <tr>\n",
       "      <th>2</th>\n",
       "      <td>3</td>\n",
       "      <td>A</td>\n",
       "      <td>2</td>\n",
       "      <td>2</td>\n",
       "      <td>2</td>\n",
       "      <td>1.0</td>\n",
       "      <td>1.0</td>\n",
       "      <td>7.0</td>\n",
       "      <td>3.0</td>\n",
       "    </tr>\n",
       "    <tr>\n",
       "      <th>3</th>\n",
       "      <td>4</td>\n",
       "      <td>A</td>\n",
       "      <td>2</td>\n",
       "      <td>2</td>\n",
       "      <td>1</td>\n",
       "      <td>1.0</td>\n",
       "      <td>3.0</td>\n",
       "      <td>7.0</td>\n",
       "      <td>3.0</td>\n",
       "    </tr>\n",
       "    <tr>\n",
       "      <th>4</th>\n",
       "      <td>5</td>\n",
       "      <td>B</td>\n",
       "      <td>2</td>\n",
       "      <td>2</td>\n",
       "      <td>2</td>\n",
       "      <td>1.0</td>\n",
       "      <td>1.0</td>\n",
       "      <td>7.0</td>\n",
       "      <td>5.0</td>\n",
       "    </tr>\n",
       "  </tbody>\n",
       "</table>\n",
       "</div>"
      ],
      "text/plain": [
       "   id condition  visit  over  outdoors  sex  marital  age_group  education\n",
       "0   1         B      2     2         1  1.0      3.0        7.0        5.0\n",
       "1   2         A      2     1         2  1.0      1.0        7.0        5.0\n",
       "2   3         A      2     2         2  1.0      1.0        7.0        3.0\n",
       "3   4         A      2     2         1  1.0      3.0        7.0        3.0\n",
       "4   5         B      2     2         2  1.0      1.0        7.0        5.0"
      ]
     },
     "execution_count": 19,
     "metadata": {},
     "output_type": "execute_result"
    }
   ],
   "source": [
    "df_rep.head()"
   ]
  },
  {
   "cell_type": "code",
   "execution_count": 20,
   "metadata": {},
   "outputs": [
    {
     "data": {
      "text/plain": [
       "(4545, 9)"
      ]
     },
     "execution_count": 20,
     "metadata": {},
     "output_type": "execute_result"
    }
   ],
   "source": [
    "df_rep.shape"
   ]
  },
  {
   "cell_type": "code",
   "execution_count": 21,
   "metadata": {},
   "outputs": [
    {
     "name": "stdout",
     "output_type": "stream",
     "text": [
      "1     2797\n",
      "2     1521\n",
      "8       11\n",
      "11     216\n",
      "Name: visit, dtype: int64\n",
      "................\n",
      "1     2977\n",
      "2     1302\n",
      "8       25\n",
      "11     241\n",
      "Name: over, dtype: int64\n",
      "................\n",
      "1     3086\n",
      "2     1227\n",
      "8       20\n",
      "11     212\n",
      "Name: outdoors, dtype: int64\n",
      "................\n"
     ]
    }
   ],
   "source": [
    "# rows: check frequency of experimental variables\n",
    "experiment_cols = ['visit', 'over', 'outdoors']\n",
    "\n",
    "for col in experiment_cols:\n",
    "    print(df_rep[col].value_counts(dropna=False).sort_index())\n",
    "    print(\"................\")"
   ]
  },
  {
   "cell_type": "code",
   "execution_count": 22,
   "metadata": {},
   "outputs": [],
   "source": [
    "df_rep.to_csv('../output/df_rep.csv', index=False)"
   ]
  }
 ],
 "metadata": {
  "kernelspec": {
   "display_name": "Python 3",
   "language": "python",
   "name": "python3"
  },
  "language_info": {
   "codemirror_mode": {
    "name": "ipython",
    "version": 3
   },
   "file_extension": ".py",
   "mimetype": "text/x-python",
   "name": "python",
   "nbconvert_exporter": "python",
   "pygments_lexer": "ipython3",
   "version": "3.7.3"
  }
 },
 "nbformat": 4,
 "nbformat_minor": 4
}
