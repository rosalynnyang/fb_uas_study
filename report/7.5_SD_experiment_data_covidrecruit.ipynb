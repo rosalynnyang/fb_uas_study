{
 "cells": [
  {
   "cell_type": "markdown",
   "metadata": {},
   "source": [
    "## Social desirability experiment data analysis: checking image effect - COVID"
   ]
  },
  {
   "cell_type": "code",
   "execution_count": 1,
   "metadata": {},
   "outputs": [],
   "source": [
    "import numpy as np\n",
    "import pandas as pd\n",
    "import utility as util\n",
    "\n",
    "import warnings\n",
    "warnings.filterwarnings(\"ignore\")"
   ]
  },
  {
   "cell_type": "code",
   "execution_count": 2,
   "metadata": {},
   "outputs": [],
   "source": [
    "week3and4covid = pd.read_csv('../input/34COVID.csv')"
   ]
  },
  {
   "cell_type": "code",
   "execution_count": 3,
   "metadata": {},
   "outputs": [],
   "source": [
    "# manage columns\n",
    "keep_columns = ['ResponseId', 'Finished', 'Q5', 'Q6',\n",
    "                'Control1', 'Control2', 'Control3', 'Control4', \n",
    "                'A1', 'A2', 'A3', 'A4', \n",
    "                'B1', 'B2', 'B3', 'B4', \n",
    "                'C1', 'C2', 'C3', 'C4',\n",
    "                'Q9', 'Q9_6_TEXT', 'Q10', 'Q11', 'Q12']"
   ]
  },
  {
   "cell_type": "code",
   "execution_count": 5,
   "metadata": {},
   "outputs": [],
   "source": [
    "week3and4covid = week3and4covid[keep_columns]"
   ]
  },
  {
   "cell_type": "code",
   "execution_count": 6,
   "metadata": {},
   "outputs": [
    {
     "data": {
      "text/plain": [
       "(723, 25)"
      ]
     },
     "execution_count": 6,
     "metadata": {},
     "output_type": "execute_result"
    }
   ],
   "source": [
    "week3and4covid.shape"
   ]
  },
  {
   "cell_type": "code",
   "execution_count": 7,
   "metadata": {},
   "outputs": [],
   "source": [
    "# drop breakoffs\n",
    "completes = week3and4covid.loc[week3and4covid['Finished']==1, :]"
   ]
  },
  {
   "cell_type": "code",
   "execution_count": 8,
   "metadata": {},
   "outputs": [],
   "source": [
    "# keep only those indicated gender as male and female and missing\n",
    "df = completes.loc[~np.isin(completes['Q9'], [5, 6]), :]"
   ]
  },
  {
   "cell_type": "code",
   "execution_count": 9,
   "metadata": {},
   "outputs": [],
   "source": [
    "# exclude those that are age <18\n",
    "df = df.loc[~np.isin(df['Q11'], [1]), :]"
   ]
  },
  {
   "cell_type": "code",
   "execution_count": 10,
   "metadata": {},
   "outputs": [],
   "source": [
    "recode_set2_cols = ['Control2', 'Control3', 'Control4', 'A1', 'A2', 'A3', 'A4']\n",
    "recode_set3_cols = ['B1', 'B2', 'B3', 'B4', 'C2', 'C4']"
   ]
  },
  {
   "cell_type": "code",
   "execution_count": 11,
   "metadata": {},
   "outputs": [],
   "source": [
    "df['Control1'] = df[['Control1']].replace([2, 3], [3, 4])\n",
    "df['C3'] = df[['C3']].replace([7, 8, 9], [2, 3, 4])"
   ]
  },
  {
   "cell_type": "code",
   "execution_count": 12,
   "metadata": {},
   "outputs": [],
   "source": [
    "for col in recode_set2_cols:\n",
    "    df[col] = df[[col]].replace([4, 5], [3, 4])"
   ]
  },
  {
   "cell_type": "code",
   "execution_count": 13,
   "metadata": {},
   "outputs": [],
   "source": [
    "for col in recode_set3_cols:\n",
    "    df[col] = df[[col]].replace([4, 5, 6], [2, 3, 4])"
   ]
  },
  {
   "cell_type": "code",
   "execution_count": 14,
   "metadata": {},
   "outputs": [],
   "source": [
    "grouping = np.array(['Control', 'A', 'B', 'C'])\n",
    "row_groupings = []\n",
    "\n",
    "for index, row in df[['Control1', 'A1', 'B1', 'C1']].iterrows():\n",
    "    boolean_list = ~row.isna()\n",
    "    selected = grouping[boolean_list]\n",
    "    try:\n",
    "        value_selected = selected[0]\n",
    "    except IndexError:\n",
    "        # when all columns are nan, no grouping is available\n",
    "        row_groupings.append('NAN')\n",
    "        continue\n",
    "    row_groupings.append(value_selected)"
   ]
  },
  {
   "cell_type": "code",
   "execution_count": 15,
   "metadata": {},
   "outputs": [],
   "source": [
    "df['condition'] = row_groupings"
   ]
  },
  {
   "cell_type": "code",
   "execution_count": 16,
   "metadata": {},
   "outputs": [
    {
     "data": {
      "text/plain": [
       "A          131\n",
       "B          130\n",
       "C          128\n",
       "Control    131\n",
       "NAN          4\n",
       "Name: condition, dtype: int64"
      ]
     },
     "execution_count": 16,
     "metadata": {},
     "output_type": "execute_result"
    }
   ],
   "source": [
    "df['condition'].value_counts(dropna=False).sort_index()"
   ]
  },
  {
   "cell_type": "code",
   "execution_count": 17,
   "metadata": {},
   "outputs": [],
   "source": [
    "df['gone_to_friend'] = df[['Control1', 'A1', 'B1', 'C1']].fillna(0).sum(axis=1).astype(int)\n",
    "df['had_visitors'] = df[['Control2', 'A2', 'B2', 'C2']].fillna(0).sum(axis=1).astype(int)\n",
    "df['had_close_contact'] = df[['Control3', 'A3', 'B3', 'C3']].fillna(0).sum(axis=1).astype(int)\n",
    "df['gone_outside'] = df[['Control4', 'A4', 'B4', 'C4']].fillna(0).sum(axis=1).astype(int)"
   ]
  },
  {
   "cell_type": "code",
   "execution_count": 18,
   "metadata": {},
   "outputs": [],
   "source": [
    "# exclude those with complete missing data in experimental variables\n",
    "df = df.loc[df['condition'] != 'NAN'].reset_index(drop=True)"
   ]
  },
  {
   "cell_type": "code",
   "execution_count": 19,
   "metadata": {},
   "outputs": [
    {
     "data": {
      "text/plain": [
       "Index(['ResponseId', 'Finished', 'Q5', 'Q6', 'Control1', 'Control2',\n",
       "       'Control3', 'Control4', 'A1', 'A2', 'A3', 'A4', 'B1', 'B2', 'B3', 'B4',\n",
       "       'C1', 'C2', 'C3', 'C4', 'Q9', 'Q9_6_TEXT', 'Q10', 'Q11', 'Q12',\n",
       "       'condition', 'gone_to_friend', 'had_visitors', 'had_close_contact',\n",
       "       'gone_outside'],\n",
       "      dtype='object')"
      ]
     },
     "execution_count": 19,
     "metadata": {},
     "output_type": "execute_result"
    }
   ],
   "source": [
    "df.columns"
   ]
  },
  {
   "cell_type": "code",
   "execution_count": 20,
   "metadata": {},
   "outputs": [],
   "source": [
    "df = df[['ResponseId', 'Q5', 'Q6', 'Q9', 'Q10', 'Q11', 'Q12',\n",
    "         'gone_to_friend', 'had_visitors', 'had_close_contact', 'gone_outside', 'condition']]"
   ]
  },
  {
   "cell_type": "code",
   "execution_count": 21,
   "metadata": {},
   "outputs": [],
   "source": [
    "df.columns = ['ID', 'vaccine', 'mandate', 'gender', 'marital', 'age_group', 'education', 'gone_to_friend', 'had_visitors', 'had_close_contact', 'gone_outside', 'condition']"
   ]
  },
  {
   "cell_type": "code",
   "execution_count": 22,
   "metadata": {},
   "outputs": [],
   "source": [
    "df.to_csv('../output/SD_experiment_df_34control.csv', index=False)"
   ]
  },
  {
   "cell_type": "code",
   "execution_count": 23,
   "metadata": {},
   "outputs": [],
   "source": [
    "# numeric -> character display\n",
    "display_change_cols = ['gone_to_friend', 'had_visitors', 'had_close_contact', 'gone_outside']\n",
    "\n",
    "for col in display_change_cols:\n",
    "    df[col] = df[[col]].replace([1, 2, 3, 4], [\"1. Yes/Yes any time\", \"2. Yes only when neccessary\", \"3. No\", \"4. Unsure\"])"
   ]
  },
  {
   "cell_type": "code",
   "execution_count": 24,
   "metadata": {},
   "outputs": [],
   "source": [
    "# combine top two response options into \"yes\"\n",
    "combine_top_two = {\"1. Yes/Yes any time\": \"1. Yes\", \n",
    "                   \"2. Yes only when neccessary\": \"1. Yes\", \n",
    "                   \"3. No\": \"2. No\",\n",
    "                   \"4. Unsure\": \"3. Unsure\"}"
   ]
  },
  {
   "cell_type": "code",
   "execution_count": 25,
   "metadata": {},
   "outputs": [],
   "source": [
    "# create recodes that reflect the combinations\n",
    "SD_cols = ['gone_to_friend', 'had_visitors', 'had_close_contact', 'gone_outside']\n",
    "\n",
    "for col in SD_cols:\n",
    "    df[f'{col}_r'] = df[col].map(combine_top_two)"
   ]
  },
  {
   "cell_type": "code",
   "execution_count": 26,
   "metadata": {},
   "outputs": [],
   "source": [
    "recoded_cols = ['gone_to_friend_r', 'had_visitors_r', 'had_close_contact_r', 'gone_outside_r']"
   ]
  },
  {
   "cell_type": "code",
   "execution_count": 27,
   "metadata": {},
   "outputs": [],
   "source": [
    "# create two separate factor variables\n",
    "excuse_map = {'Control': 'no_excuse',\n",
    "              'B': 'no_excuse',\n",
    "              'A': 'with_excuse', \n",
    "              'C': 'with_excuse'}\n",
    "\n",
    "response_map = {'Control': 'two_response',\n",
    "                'A': 'two_response',\n",
    "                'B': 'three_response', \n",
    "                'C': 'three_response'}"
   ]
  },
  {
   "cell_type": "code",
   "execution_count": 28,
   "metadata": {},
   "outputs": [],
   "source": [
    "df['excuse_statement_condition'] = df['condition'].map(excuse_map)\n",
    "df['response_set_condition'] = df['condition'].map(response_map)"
   ]
  },
  {
   "cell_type": "code",
   "execution_count": 29,
   "metadata": {},
   "outputs": [],
   "source": [
    "# use variable label for table display\n",
    "gender_map = {1.0: '1. Woman',\n",
    "              2.0: '2. Man',\n",
    "              np.nan: np.nan}\n",
    "\n",
    "marital_map = {1.0: '1. Married',\n",
    "               7.0: '2. Not married',\n",
    "               8.0: np.nan,\n",
    "               np.nan: np.nan}\n",
    "\n",
    "age_group_map = {2.0: '19-25',\n",
    "                 3.0: '26-35',\n",
    "                 4.0: '36-45', \n",
    "                 5.0: '46-55',\n",
    "                 6.0: '56-65',\n",
    "                 7.0: '66+',\n",
    "                 np.nan: np.nan}\n",
    "\n",
    "education_map = {4.0: '1. Less than high school diploma',\n",
    "                 5.0: '2. High school diploma',\n",
    "                 6.0: '3. Some college',\n",
    "                 7.0: '4. Bachelor degree',\n",
    "                 8.0: '5. Graduate degree',\n",
    "                 np.nan: np.nan}"
   ]
  },
  {
   "cell_type": "code",
   "execution_count": 30,
   "metadata": {},
   "outputs": [],
   "source": [
    "df['gender'] = df['gender'].map(gender_map)\n",
    "df['marital'] = df['marital'].map(marital_map)\n",
    "df['age_group'] = df['age_group'].map(age_group_map)\n",
    "df['education'] = df['education'].map(education_map)"
   ]
  },
  {
   "cell_type": "code",
   "execution_count": 31,
   "metadata": {},
   "outputs": [],
   "source": [
    "# create a version of the data that excludes \"unsure\"\n",
    "df_no_miss = df[(df['gone_to_friend'] != '4. Unsure') & (df['had_visitors'] != '4. Unsure') & \n",
    "                (df['had_close_contact'] != '4. Unsure') & (df['gone_outside'] != '4. Unsure')]"
   ]
  },
  {
   "cell_type": "code",
   "execution_count": 32,
   "metadata": {},
   "outputs": [
    {
     "data": {
      "text/plain": [
       "(505, 18)"
      ]
     },
     "execution_count": 32,
     "metadata": {},
     "output_type": "execute_result"
    }
   ],
   "source": [
    "df_no_miss.shape"
   ]
  },
  {
   "cell_type": "code",
   "execution_count": 33,
   "metadata": {},
   "outputs": [],
   "source": [
    "conditions = ['Control', 'A', 'B', 'C']"
   ]
  },
  {
   "cell_type": "code",
   "execution_count": 34,
   "metadata": {},
   "outputs": [
    {
     "data": {
      "text/html": [
       "<div>\n",
       "<style scoped>\n",
       "    .dataframe tbody tr th:only-of-type {\n",
       "        vertical-align: middle;\n",
       "    }\n",
       "\n",
       "    .dataframe tbody tr th {\n",
       "        vertical-align: top;\n",
       "    }\n",
       "\n",
       "    .dataframe thead th {\n",
       "        text-align: right;\n",
       "    }\n",
       "</style>\n",
       "<table border=\"1\" class=\"dataframe\">\n",
       "  <thead>\n",
       "    <tr style=\"text-align: right;\">\n",
       "      <th>condition</th>\n",
       "      <th>Control</th>\n",
       "      <th>A</th>\n",
       "      <th>B</th>\n",
       "      <th>C</th>\n",
       "    </tr>\n",
       "    <tr>\n",
       "      <th>gone_to_friend</th>\n",
       "      <th></th>\n",
       "      <th></th>\n",
       "      <th></th>\n",
       "      <th></th>\n",
       "    </tr>\n",
       "  </thead>\n",
       "  <tbody>\n",
       "    <tr>\n",
       "      <th>1. Yes/Yes any time</th>\n",
       "      <td>60.5</td>\n",
       "      <td>61.2</td>\n",
       "      <td>48.8</td>\n",
       "      <td>46.3</td>\n",
       "    </tr>\n",
       "    <tr>\n",
       "      <th>2. Yes only when neccessary</th>\n",
       "      <td>0.0</td>\n",
       "      <td>0.0</td>\n",
       "      <td>17.1</td>\n",
       "      <td>20.3</td>\n",
       "    </tr>\n",
       "    <tr>\n",
       "      <th>3. No</th>\n",
       "      <td>39.5</td>\n",
       "      <td>38.8</td>\n",
       "      <td>34.1</td>\n",
       "      <td>33.3</td>\n",
       "    </tr>\n",
       "    <tr>\n",
       "      <th>Total n</th>\n",
       "      <td>124</td>\n",
       "      <td>129</td>\n",
       "      <td>129</td>\n",
       "      <td>123</td>\n",
       "    </tr>\n",
       "  </tbody>\n",
       "</table>\n",
       "</div>"
      ],
      "text/plain": [
       "condition                   Control     A     B     C\n",
       "gone_to_friend                                       \n",
       "1. Yes/Yes any time            60.5  61.2  48.8  46.3\n",
       "2. Yes only when neccessary     0.0   0.0  17.1  20.3\n",
       "3. No                          39.5  38.8  34.1  33.3\n",
       "Total n                         124   129   129   123"
      ]
     },
     "metadata": {},
     "output_type": "display_data"
    },
    {
     "data": {
      "text/markdown": [
       "-----"
      ],
      "text/plain": [
       "<IPython.core.display.Markdown object>"
      ]
     },
     "metadata": {},
     "output_type": "display_data"
    },
    {
     "data": {
      "text/html": [
       "<div>\n",
       "<style scoped>\n",
       "    .dataframe tbody tr th:only-of-type {\n",
       "        vertical-align: middle;\n",
       "    }\n",
       "\n",
       "    .dataframe tbody tr th {\n",
       "        vertical-align: top;\n",
       "    }\n",
       "\n",
       "    .dataframe thead th {\n",
       "        text-align: right;\n",
       "    }\n",
       "</style>\n",
       "<table border=\"1\" class=\"dataframe\">\n",
       "  <thead>\n",
       "    <tr style=\"text-align: right;\">\n",
       "      <th>condition</th>\n",
       "      <th>Control</th>\n",
       "      <th>A</th>\n",
       "      <th>B</th>\n",
       "      <th>C</th>\n",
       "    </tr>\n",
       "    <tr>\n",
       "      <th>had_visitors</th>\n",
       "      <th></th>\n",
       "      <th></th>\n",
       "      <th></th>\n",
       "      <th></th>\n",
       "    </tr>\n",
       "  </thead>\n",
       "  <tbody>\n",
       "    <tr>\n",
       "      <th>1. Yes/Yes any time</th>\n",
       "      <td>50.8</td>\n",
       "      <td>57.4</td>\n",
       "      <td>45.0</td>\n",
       "      <td>48.0</td>\n",
       "    </tr>\n",
       "    <tr>\n",
       "      <th>2. Yes only when neccessary</th>\n",
       "      <td>0.0</td>\n",
       "      <td>0.0</td>\n",
       "      <td>15.5</td>\n",
       "      <td>20.3</td>\n",
       "    </tr>\n",
       "    <tr>\n",
       "      <th>3. No</th>\n",
       "      <td>49.2</td>\n",
       "      <td>42.6</td>\n",
       "      <td>39.5</td>\n",
       "      <td>31.7</td>\n",
       "    </tr>\n",
       "    <tr>\n",
       "      <th>Total n</th>\n",
       "      <td>124</td>\n",
       "      <td>129</td>\n",
       "      <td>129</td>\n",
       "      <td>123</td>\n",
       "    </tr>\n",
       "  </tbody>\n",
       "</table>\n",
       "</div>"
      ],
      "text/plain": [
       "condition                   Control     A     B     C\n",
       "had_visitors                                         \n",
       "1. Yes/Yes any time            50.8  57.4  45.0  48.0\n",
       "2. Yes only when neccessary     0.0   0.0  15.5  20.3\n",
       "3. No                          49.2  42.6  39.5  31.7\n",
       "Total n                         124   129   129   123"
      ]
     },
     "metadata": {},
     "output_type": "display_data"
    },
    {
     "data": {
      "text/markdown": [
       "-----"
      ],
      "text/plain": [
       "<IPython.core.display.Markdown object>"
      ]
     },
     "metadata": {},
     "output_type": "display_data"
    },
    {
     "data": {
      "text/html": [
       "<div>\n",
       "<style scoped>\n",
       "    .dataframe tbody tr th:only-of-type {\n",
       "        vertical-align: middle;\n",
       "    }\n",
       "\n",
       "    .dataframe tbody tr th {\n",
       "        vertical-align: top;\n",
       "    }\n",
       "\n",
       "    .dataframe thead th {\n",
       "        text-align: right;\n",
       "    }\n",
       "</style>\n",
       "<table border=\"1\" class=\"dataframe\">\n",
       "  <thead>\n",
       "    <tr style=\"text-align: right;\">\n",
       "      <th>condition</th>\n",
       "      <th>Control</th>\n",
       "      <th>A</th>\n",
       "      <th>B</th>\n",
       "      <th>C</th>\n",
       "    </tr>\n",
       "    <tr>\n",
       "      <th>had_close_contact</th>\n",
       "      <th></th>\n",
       "      <th></th>\n",
       "      <th></th>\n",
       "      <th></th>\n",
       "    </tr>\n",
       "  </thead>\n",
       "  <tbody>\n",
       "    <tr>\n",
       "      <th>1. Yes/Yes any time</th>\n",
       "      <td>77.4</td>\n",
       "      <td>82.9</td>\n",
       "      <td>51.2</td>\n",
       "      <td>52.8</td>\n",
       "    </tr>\n",
       "    <tr>\n",
       "      <th>2. Yes only when neccessary</th>\n",
       "      <td>0.0</td>\n",
       "      <td>0.0</td>\n",
       "      <td>28.7</td>\n",
       "      <td>30.1</td>\n",
       "    </tr>\n",
       "    <tr>\n",
       "      <th>3. No</th>\n",
       "      <td>22.6</td>\n",
       "      <td>17.1</td>\n",
       "      <td>20.2</td>\n",
       "      <td>17.1</td>\n",
       "    </tr>\n",
       "    <tr>\n",
       "      <th>Total n</th>\n",
       "      <td>124</td>\n",
       "      <td>129</td>\n",
       "      <td>129</td>\n",
       "      <td>123</td>\n",
       "    </tr>\n",
       "  </tbody>\n",
       "</table>\n",
       "</div>"
      ],
      "text/plain": [
       "condition                   Control     A     B     C\n",
       "had_close_contact                                    \n",
       "1. Yes/Yes any time            77.4  82.9  51.2  52.8\n",
       "2. Yes only when neccessary     0.0   0.0  28.7  30.1\n",
       "3. No                          22.6  17.1  20.2  17.1\n",
       "Total n                         124   129   129   123"
      ]
     },
     "metadata": {},
     "output_type": "display_data"
    },
    {
     "data": {
      "text/markdown": [
       "-----"
      ],
      "text/plain": [
       "<IPython.core.display.Markdown object>"
      ]
     },
     "metadata": {},
     "output_type": "display_data"
    },
    {
     "data": {
      "text/html": [
       "<div>\n",
       "<style scoped>\n",
       "    .dataframe tbody tr th:only-of-type {\n",
       "        vertical-align: middle;\n",
       "    }\n",
       "\n",
       "    .dataframe tbody tr th {\n",
       "        vertical-align: top;\n",
       "    }\n",
       "\n",
       "    .dataframe thead th {\n",
       "        text-align: right;\n",
       "    }\n",
       "</style>\n",
       "<table border=\"1\" class=\"dataframe\">\n",
       "  <thead>\n",
       "    <tr style=\"text-align: right;\">\n",
       "      <th>condition</th>\n",
       "      <th>Control</th>\n",
       "      <th>A</th>\n",
       "      <th>B</th>\n",
       "      <th>C</th>\n",
       "    </tr>\n",
       "    <tr>\n",
       "      <th>gone_outside</th>\n",
       "      <th></th>\n",
       "      <th></th>\n",
       "      <th></th>\n",
       "      <th></th>\n",
       "    </tr>\n",
       "  </thead>\n",
       "  <tbody>\n",
       "    <tr>\n",
       "      <th>1. Yes/Yes any time</th>\n",
       "      <td>85.5</td>\n",
       "      <td>88.4</td>\n",
       "      <td>80.6</td>\n",
       "      <td>77.2</td>\n",
       "    </tr>\n",
       "    <tr>\n",
       "      <th>2. Yes only when neccessary</th>\n",
       "      <td>0.0</td>\n",
       "      <td>0.0</td>\n",
       "      <td>8.5</td>\n",
       "      <td>8.1</td>\n",
       "    </tr>\n",
       "    <tr>\n",
       "      <th>3. No</th>\n",
       "      <td>14.5</td>\n",
       "      <td>11.6</td>\n",
       "      <td>10.9</td>\n",
       "      <td>14.6</td>\n",
       "    </tr>\n",
       "    <tr>\n",
       "      <th>Total n</th>\n",
       "      <td>124</td>\n",
       "      <td>129</td>\n",
       "      <td>129</td>\n",
       "      <td>123</td>\n",
       "    </tr>\n",
       "  </tbody>\n",
       "</table>\n",
       "</div>"
      ],
      "text/plain": [
       "condition                   Control     A     B     C\n",
       "gone_outside                                         \n",
       "1. Yes/Yes any time            85.5  88.4  80.6  77.2\n",
       "2. Yes only when neccessary     0.0   0.0   8.5   8.1\n",
       "3. No                          14.5  11.6  10.9  14.6\n",
       "Total n                         124   129   129   123"
      ]
     },
     "metadata": {},
     "output_type": "display_data"
    },
    {
     "data": {
      "text/markdown": [
       "-----"
      ],
      "text/plain": [
       "<IPython.core.display.Markdown object>"
      ]
     },
     "metadata": {},
     "output_type": "display_data"
    }
   ],
   "source": [
    "for col in SD_cols:\n",
    "    util.crosstab_chisq(col, 'condition', df_no_miss, conditions, chisqtest=False)"
   ]
  },
  {
   "cell_type": "code",
   "execution_count": null,
   "metadata": {},
   "outputs": [],
   "source": []
  }
 ],
 "metadata": {
  "kernelspec": {
   "display_name": "Python 3",
   "language": "python",
   "name": "python3"
  },
  "language_info": {
   "codemirror_mode": {
    "name": "ipython",
    "version": 3
   },
   "file_extension": ".py",
   "mimetype": "text/x-python",
   "name": "python",
   "nbconvert_exporter": "python",
   "pygments_lexer": "ipython3",
   "version": "3.7.3"
  }
 },
 "nbformat": 4,
 "nbformat_minor": 4
}
