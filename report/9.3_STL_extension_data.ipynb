{
 "cells": [
  {
   "cell_type": "markdown",
   "metadata": {},
   "source": [
    "## Prepare data for the extension study"
   ]
  },
  {
   "cell_type": "code",
   "execution_count": 30,
   "metadata": {},
   "outputs": [],
   "source": [
    "import numpy as np\n",
    "import pandas as pd\n",
    "import utility as util\n",
    "\n",
    "import warnings\n",
    "warnings.filterwarnings(\"ignore\")"
   ]
  },
  {
   "cell_type": "code",
   "execution_count": 3,
   "metadata": {},
   "outputs": [],
   "source": [
    "ext_df = pd.read_csv('../output/SD_experiment_df.csv')"
   ]
  },
  {
   "cell_type": "code",
   "execution_count": 7,
   "metadata": {},
   "outputs": [],
   "source": [
    "# reset and add index column \"id\"\n",
    "ext_df = ext_df.reset_index(drop=True)\n",
    "ext_df['id'] = range(1, len(ext_df) + 1)"
   ]
  },
  {
   "cell_type": "code",
   "execution_count": 9,
   "metadata": {},
   "outputs": [],
   "source": [
    "ext_df = ext_df[['id', 'condition', 'gone_to_friend', 'had_visitors', 'had_close_contact', 'gone_outside',\n",
    "                 'gender', 'marital', 'age_group', 'education']]"
   ]
  },
  {
   "cell_type": "code",
   "execution_count": 12,
   "metadata": {},
   "outputs": [],
   "source": [
    "# remove missing based on demographic variables\n",
    "democols = ['gender', 'marital', 'age_group', 'education']\n",
    "\n",
    "ext_df = ext_df.dropna(how='any', subset= democols)"
   ]
  },
  {
   "cell_type": "code",
   "execution_count": 18,
   "metadata": {},
   "outputs": [],
   "source": [
    "# remove those that reported unsure in the marital variable\n",
    "ext_df = ext_df.loc[~np.isin(ext_df['marital'], [8]), :]"
   ]
  },
  {
   "cell_type": "code",
   "execution_count": 28,
   "metadata": {},
   "outputs": [
    {
     "data": {
      "text/plain": [
       "(627, 14)"
      ]
     },
     "execution_count": 28,
     "metadata": {},
     "output_type": "execute_result"
    }
   ],
   "source": [
    "ext_df.shape"
   ]
  },
  {
   "cell_type": "markdown",
   "metadata": {},
   "source": [
    "### 1) checking for randomization of treatment conditions"
   ]
  },
  {
   "cell_type": "code",
   "execution_count": 29,
   "metadata": {},
   "outputs": [
    {
     "name": "stdout",
     "output_type": "stream",
     "text": [
      "1.0    369\n",
      "2.0    258\n",
      "Name: gender, dtype: int64\n",
      "................\n",
      "1.0    465\n",
      "7.0    162\n",
      "Name: marital, dtype: int64\n",
      "................\n",
      "2.0     17\n",
      "3.0     42\n",
      "4.0     63\n",
      "5.0    106\n",
      "6.0    212\n",
      "7.0    187\n",
      "Name: age_group, dtype: int64\n",
      "................\n",
      "4.0      6\n",
      "5.0     88\n",
      "6.0    247\n",
      "7.0    162\n",
      "8.0    124\n",
      "Name: education, dtype: int64\n",
      "................\n"
     ]
    }
   ],
   "source": [
    "democols = ['gender', 'marital', 'age_group', 'education']\n",
    "\n",
    "for col in democols:\n",
    "    print(ext_df[col].value_counts(dropna=False).sort_index())\n",
    "    print(\"................\")"
   ]
  },
  {
   "cell_type": "code",
   "execution_count": 24,
   "metadata": {},
   "outputs": [],
   "source": [
    "# recode demographic variables for consistency\n",
    "ext_df['gender_r'] = np.nan\n",
    "ext_df.loc[ext_df['gender']==1, ['gender_r']] = 2 # woman\n",
    "ext_df.loc[ext_df['gender']==2, ['gender_r']] = 1 # man\n",
    "\n",
    "ext_df['marital_r'] = np.nan\n",
    "ext_df.loc[ext_df['marital']==1, ['marital_r']] = 1 # married\n",
    "ext_df.loc[ext_df['marital']==7, ['marital_r']] = 2 # not married\n",
    "\n",
    "ext_df['age_group_r'] = np.nan\n",
    "ext_df.loc[np.isin(ext_df['age_group'], [2, 3, 4, 5]), ['age_group_r']] = 1 # 19-55\n",
    "ext_df.loc[ext_df['age_group']==6, ['age_group_r']] = 2 # 56-65\n",
    "ext_df.loc[ext_df['age_group']==7, ['age_group_r']] = 3 # 66+\n",
    "\n",
    "ext_df['education_r'] = np.nan\n",
    "ext_df.loc[np.isin(ext_df['education'], [4, 5, 6]), ['education_r']] = 1 # less than college\n",
    "ext_df.loc[np.isin(ext_df['education'], [7, 8]), ['education_r']] = 2 # college or more"
   ]
  },
  {
   "cell_type": "code",
   "execution_count": 26,
   "metadata": {},
   "outputs": [
    {
     "name": "stdout",
     "output_type": "stream",
     "text": [
      "1.0    258\n",
      "2.0    369\n",
      "Name: gender_r, dtype: int64\n",
      "................\n",
      "1.0    465\n",
      "2.0    162\n",
      "Name: marital_r, dtype: int64\n",
      "................\n",
      "1.0    228\n",
      "2.0    212\n",
      "3.0    187\n",
      "Name: age_group_r, dtype: int64\n",
      "................\n",
      "1.0    341\n",
      "2.0    286\n",
      "Name: education_r, dtype: int64\n",
      "................\n"
     ]
    }
   ],
   "source": [
    "# checking recoded variables\n",
    "democols_r = ['gender_r', 'marital_r', 'age_group_r', 'education_r']\n",
    "\n",
    "for col in democols_r:\n",
    "    print(ext_df[col].value_counts(dropna=False).sort_index())\n",
    "    print(\"................\")"
   ]
  },
  {
   "cell_type": "code",
   "execution_count": 31,
   "metadata": {},
   "outputs": [
    {
     "data": {
      "text/html": [
       "<div>\n",
       "<style scoped>\n",
       "    .dataframe tbody tr th:only-of-type {\n",
       "        vertical-align: middle;\n",
       "    }\n",
       "\n",
       "    .dataframe tbody tr th {\n",
       "        vertical-align: top;\n",
       "    }\n",
       "\n",
       "    .dataframe thead th {\n",
       "        text-align: right;\n",
       "    }\n",
       "</style>\n",
       "<table border=\"1\" class=\"dataframe\">\n",
       "  <thead>\n",
       "    <tr style=\"text-align: right;\">\n",
       "      <th>condition</th>\n",
       "      <th>A</th>\n",
       "      <th>B</th>\n",
       "      <th>C</th>\n",
       "      <th>Control</th>\n",
       "    </tr>\n",
       "    <tr>\n",
       "      <th>gender_r</th>\n",
       "      <th></th>\n",
       "      <th></th>\n",
       "      <th></th>\n",
       "      <th></th>\n",
       "    </tr>\n",
       "  </thead>\n",
       "  <tbody>\n",
       "    <tr>\n",
       "      <th>1.0</th>\n",
       "      <td>44.8</td>\n",
       "      <td>42.7</td>\n",
       "      <td>41.0</td>\n",
       "      <td>36.2</td>\n",
       "    </tr>\n",
       "    <tr>\n",
       "      <th>2.0</th>\n",
       "      <td>55.2</td>\n",
       "      <td>57.3</td>\n",
       "      <td>59.0</td>\n",
       "      <td>63.7</td>\n",
       "    </tr>\n",
       "    <tr>\n",
       "      <th>Total n</th>\n",
       "      <td>154</td>\n",
       "      <td>157</td>\n",
       "      <td>156</td>\n",
       "      <td>160</td>\n",
       "    </tr>\n",
       "  </tbody>\n",
       "</table>\n",
       "</div>"
      ],
      "text/plain": [
       "condition     A     B     C Control\n",
       "gender_r                           \n",
       "1.0        44.8  42.7  41.0    36.2\n",
       "2.0        55.2  57.3  59.0    63.7\n",
       "Total n     154   157   156     160"
      ]
     },
     "metadata": {},
     "output_type": "display_data"
    },
    {
     "data": {
      "text/markdown": [
       "*Chi-squared statistic = 2.6, degree of freedom = 3, p = 0.46*"
      ],
      "text/plain": [
       "<IPython.core.display.Markdown object>"
      ]
     },
     "metadata": {},
     "output_type": "display_data"
    },
    {
     "data": {
      "text/markdown": [
       "-----"
      ],
      "text/plain": [
       "<IPython.core.display.Markdown object>"
      ]
     },
     "metadata": {},
     "output_type": "display_data"
    },
    {
     "data": {
      "text/html": [
       "<div>\n",
       "<style scoped>\n",
       "    .dataframe tbody tr th:only-of-type {\n",
       "        vertical-align: middle;\n",
       "    }\n",
       "\n",
       "    .dataframe tbody tr th {\n",
       "        vertical-align: top;\n",
       "    }\n",
       "\n",
       "    .dataframe thead th {\n",
       "        text-align: right;\n",
       "    }\n",
       "</style>\n",
       "<table border=\"1\" class=\"dataframe\">\n",
       "  <thead>\n",
       "    <tr style=\"text-align: right;\">\n",
       "      <th>condition</th>\n",
       "      <th>A</th>\n",
       "      <th>B</th>\n",
       "      <th>C</th>\n",
       "      <th>Control</th>\n",
       "    </tr>\n",
       "    <tr>\n",
       "      <th>marital_r</th>\n",
       "      <th></th>\n",
       "      <th></th>\n",
       "      <th></th>\n",
       "      <th></th>\n",
       "    </tr>\n",
       "  </thead>\n",
       "  <tbody>\n",
       "    <tr>\n",
       "      <th>1.0</th>\n",
       "      <td>72.7</td>\n",
       "      <td>77.7</td>\n",
       "      <td>78.8</td>\n",
       "      <td>67.5</td>\n",
       "    </tr>\n",
       "    <tr>\n",
       "      <th>2.0</th>\n",
       "      <td>27.3</td>\n",
       "      <td>22.3</td>\n",
       "      <td>21.2</td>\n",
       "      <td>32.5</td>\n",
       "    </tr>\n",
       "    <tr>\n",
       "      <th>Total n</th>\n",
       "      <td>154</td>\n",
       "      <td>157</td>\n",
       "      <td>156</td>\n",
       "      <td>160</td>\n",
       "    </tr>\n",
       "  </tbody>\n",
       "</table>\n",
       "</div>"
      ],
      "text/plain": [
       "condition     A     B     C Control\n",
       "marital_r                          \n",
       "1.0        72.7  77.7  78.8    67.5\n",
       "2.0        27.3  22.3  21.2    32.5\n",
       "Total n     154   157   156     160"
      ]
     },
     "metadata": {},
     "output_type": "display_data"
    },
    {
     "data": {
      "text/markdown": [
       "*Chi-squared statistic = 6.7, degree of freedom = 3, p = 0.083*"
      ],
      "text/plain": [
       "<IPython.core.display.Markdown object>"
      ]
     },
     "metadata": {},
     "output_type": "display_data"
    },
    {
     "data": {
      "text/markdown": [
       "-----"
      ],
      "text/plain": [
       "<IPython.core.display.Markdown object>"
      ]
     },
     "metadata": {},
     "output_type": "display_data"
    },
    {
     "data": {
      "text/html": [
       "<div>\n",
       "<style scoped>\n",
       "    .dataframe tbody tr th:only-of-type {\n",
       "        vertical-align: middle;\n",
       "    }\n",
       "\n",
       "    .dataframe tbody tr th {\n",
       "        vertical-align: top;\n",
       "    }\n",
       "\n",
       "    .dataframe thead th {\n",
       "        text-align: right;\n",
       "    }\n",
       "</style>\n",
       "<table border=\"1\" class=\"dataframe\">\n",
       "  <thead>\n",
       "    <tr style=\"text-align: right;\">\n",
       "      <th>condition</th>\n",
       "      <th>A</th>\n",
       "      <th>B</th>\n",
       "      <th>C</th>\n",
       "      <th>Control</th>\n",
       "    </tr>\n",
       "    <tr>\n",
       "      <th>age_group_r</th>\n",
       "      <th></th>\n",
       "      <th></th>\n",
       "      <th></th>\n",
       "      <th></th>\n",
       "    </tr>\n",
       "  </thead>\n",
       "  <tbody>\n",
       "    <tr>\n",
       "      <th>1.0</th>\n",
       "      <td>34.4</td>\n",
       "      <td>42.0</td>\n",
       "      <td>37.2</td>\n",
       "      <td>31.9</td>\n",
       "    </tr>\n",
       "    <tr>\n",
       "      <th>2.0</th>\n",
       "      <td>32.5</td>\n",
       "      <td>31.2</td>\n",
       "      <td>31.4</td>\n",
       "      <td>40.0</td>\n",
       "    </tr>\n",
       "    <tr>\n",
       "      <th>3.0</th>\n",
       "      <td>33.1</td>\n",
       "      <td>26.8</td>\n",
       "      <td>31.4</td>\n",
       "      <td>28.1</td>\n",
       "    </tr>\n",
       "    <tr>\n",
       "      <th>Total n</th>\n",
       "      <td>154</td>\n",
       "      <td>157</td>\n",
       "      <td>156</td>\n",
       "      <td>160</td>\n",
       "    </tr>\n",
       "  </tbody>\n",
       "</table>\n",
       "</div>"
      ],
      "text/plain": [
       "condition       A     B     C Control\n",
       "age_group_r                          \n",
       "1.0          34.4  42.0  37.2    31.9\n",
       "2.0          32.5  31.2  31.4    40.0\n",
       "3.0          33.1  26.8  31.4    28.1\n",
       "Total n       154   157   156     160"
      ]
     },
     "metadata": {},
     "output_type": "display_data"
    },
    {
     "data": {
      "text/markdown": [
       "*Chi-squared statistic = 6.3, degree of freedom = 6, p = 0.392*"
      ],
      "text/plain": [
       "<IPython.core.display.Markdown object>"
      ]
     },
     "metadata": {},
     "output_type": "display_data"
    },
    {
     "data": {
      "text/markdown": [
       "-----"
      ],
      "text/plain": [
       "<IPython.core.display.Markdown object>"
      ]
     },
     "metadata": {},
     "output_type": "display_data"
    },
    {
     "data": {
      "text/html": [
       "<div>\n",
       "<style scoped>\n",
       "    .dataframe tbody tr th:only-of-type {\n",
       "        vertical-align: middle;\n",
       "    }\n",
       "\n",
       "    .dataframe tbody tr th {\n",
       "        vertical-align: top;\n",
       "    }\n",
       "\n",
       "    .dataframe thead th {\n",
       "        text-align: right;\n",
       "    }\n",
       "</style>\n",
       "<table border=\"1\" class=\"dataframe\">\n",
       "  <thead>\n",
       "    <tr style=\"text-align: right;\">\n",
       "      <th>condition</th>\n",
       "      <th>A</th>\n",
       "      <th>B</th>\n",
       "      <th>C</th>\n",
       "      <th>Control</th>\n",
       "    </tr>\n",
       "    <tr>\n",
       "      <th>education_r</th>\n",
       "      <th></th>\n",
       "      <th></th>\n",
       "      <th></th>\n",
       "      <th></th>\n",
       "    </tr>\n",
       "  </thead>\n",
       "  <tbody>\n",
       "    <tr>\n",
       "      <th>1.0</th>\n",
       "      <td>54.5</td>\n",
       "      <td>49.0</td>\n",
       "      <td>57.7</td>\n",
       "      <td>56.2</td>\n",
       "    </tr>\n",
       "    <tr>\n",
       "      <th>2.0</th>\n",
       "      <td>45.5</td>\n",
       "      <td>51.0</td>\n",
       "      <td>42.3</td>\n",
       "      <td>43.8</td>\n",
       "    </tr>\n",
       "    <tr>\n",
       "      <th>Total n</th>\n",
       "      <td>154</td>\n",
       "      <td>157</td>\n",
       "      <td>156</td>\n",
       "      <td>160</td>\n",
       "    </tr>\n",
       "  </tbody>\n",
       "</table>\n",
       "</div>"
      ],
      "text/plain": [
       "condition       A     B     C Control\n",
       "education_r                          \n",
       "1.0          54.5  49.0  57.7    56.2\n",
       "2.0          45.5  51.0  42.3    43.8\n",
       "Total n       154   157   156     160"
      ]
     },
     "metadata": {},
     "output_type": "display_data"
    },
    {
     "data": {
      "text/markdown": [
       "*Chi-squared statistic = 2.7, degree of freedom = 3, p = 0.437*"
      ],
      "text/plain": [
       "<IPython.core.display.Markdown object>"
      ]
     },
     "metadata": {},
     "output_type": "display_data"
    },
    {
     "data": {
      "text/markdown": [
       "-----"
      ],
      "text/plain": [
       "<IPython.core.display.Markdown object>"
      ]
     },
     "metadata": {},
     "output_type": "display_data"
    }
   ],
   "source": [
    "for col in democols_r:\n",
    "    util.crosstab_chisq(col, 'condition', ext_df, chisqtest=True)"
   ]
  },
  {
   "cell_type": "markdown",
   "metadata": {},
   "source": [
    "### 2) experimental data analysis"
   ]
  },
  {
   "cell_type": "code",
   "execution_count": 33,
   "metadata": {},
   "outputs": [
    {
     "name": "stdout",
     "output_type": "stream",
     "text": [
      "1    327\n",
      "2     59\n",
      "3    238\n",
      "4      3\n",
      "Name: gone_to_friend, dtype: int64\n",
      "................\n",
      "1    309\n",
      "2     56\n",
      "3    258\n",
      "4      4\n",
      "Name: had_visitors, dtype: int64\n",
      "................\n",
      "1    384\n",
      "2     99\n",
      "3    132\n",
      "4     12\n",
      "Name: had_close_contact, dtype: int64\n",
      "................\n",
      "1    498\n",
      "2     27\n",
      "3     95\n",
      "4      7\n",
      "Name: gone_outside, dtype: int64\n",
      "................\n"
     ]
    }
   ],
   "source": [
    "# check missing in experiment cols\n",
    "expcols = ['gone_to_friend', 'had_visitors', 'had_close_contact', 'gone_outside']\n",
    "\n",
    "for col in expcols:\n",
    "    print(ext_df[col].value_counts(dropna=False).sort_index())\n",
    "    print(\"................\")"
   ]
  },
  {
   "cell_type": "code",
   "execution_count": 34,
   "metadata": {},
   "outputs": [],
   "source": [
    "# numeric -> character display\n",
    "for col in expcols:\n",
    "    ext_df[col] = ext_df[[col]].replace([1, 2, 3, 4], [\"1a. Yes/Yes for any reason\", \"1b. Yes but only when neccessary\", \n",
    "                                                       \"2. No\", \"3. Unsure\"])"
   ]
  },
  {
   "cell_type": "code",
   "execution_count": 35,
   "metadata": {},
   "outputs": [
    {
     "data": {
      "text/html": [
       "<div>\n",
       "<style scoped>\n",
       "    .dataframe tbody tr th:only-of-type {\n",
       "        vertical-align: middle;\n",
       "    }\n",
       "\n",
       "    .dataframe tbody tr th {\n",
       "        vertical-align: top;\n",
       "    }\n",
       "\n",
       "    .dataframe thead th {\n",
       "        text-align: right;\n",
       "    }\n",
       "</style>\n",
       "<table border=\"1\" class=\"dataframe\">\n",
       "  <thead>\n",
       "    <tr style=\"text-align: right;\">\n",
       "      <th>condition</th>\n",
       "      <th>A</th>\n",
       "      <th>B</th>\n",
       "      <th>C</th>\n",
       "      <th>Control</th>\n",
       "    </tr>\n",
       "    <tr>\n",
       "      <th>gone_to_friend</th>\n",
       "      <th></th>\n",
       "      <th></th>\n",
       "      <th></th>\n",
       "      <th></th>\n",
       "    </tr>\n",
       "  </thead>\n",
       "  <tbody>\n",
       "    <tr>\n",
       "      <th>1a. Yes/Yes for any reason</th>\n",
       "      <td>57.8</td>\n",
       "      <td>49.0</td>\n",
       "      <td>40.4</td>\n",
       "      <td>61.3</td>\n",
       "    </tr>\n",
       "    <tr>\n",
       "      <th>1b. Yes but only when neccessary</th>\n",
       "      <td>0.0</td>\n",
       "      <td>15.9</td>\n",
       "      <td>21.8</td>\n",
       "      <td>0.0</td>\n",
       "    </tr>\n",
       "    <tr>\n",
       "      <th>2. No</th>\n",
       "      <td>40.9</td>\n",
       "      <td>35.0</td>\n",
       "      <td>37.2</td>\n",
       "      <td>38.8</td>\n",
       "    </tr>\n",
       "    <tr>\n",
       "      <th>3. Unsure</th>\n",
       "      <td>1.3</td>\n",
       "      <td>0.0</td>\n",
       "      <td>0.6</td>\n",
       "      <td>0.0</td>\n",
       "    </tr>\n",
       "    <tr>\n",
       "      <th>Total n</th>\n",
       "      <td>154</td>\n",
       "      <td>157</td>\n",
       "      <td>156</td>\n",
       "      <td>160</td>\n",
       "    </tr>\n",
       "  </tbody>\n",
       "</table>\n",
       "</div>"
      ],
      "text/plain": [
       "condition                            A     B     C Control\n",
       "gone_to_friend                                            \n",
       "1a. Yes/Yes for any reason        57.8  49.0  40.4    61.3\n",
       "1b. Yes but only when neccessary   0.0  15.9  21.8     0.0\n",
       "2. No                             40.9  35.0  37.2    38.8\n",
       "3. Unsure                          1.3   0.0   0.6     0.0\n",
       "Total n                            154   157   156     160"
      ]
     },
     "metadata": {},
     "output_type": "display_data"
    },
    {
     "data": {
      "text/markdown": [
       "-----"
      ],
      "text/plain": [
       "<IPython.core.display.Markdown object>"
      ]
     },
     "metadata": {},
     "output_type": "display_data"
    },
    {
     "data": {
      "text/html": [
       "<div>\n",
       "<style scoped>\n",
       "    .dataframe tbody tr th:only-of-type {\n",
       "        vertical-align: middle;\n",
       "    }\n",
       "\n",
       "    .dataframe tbody tr th {\n",
       "        vertical-align: top;\n",
       "    }\n",
       "\n",
       "    .dataframe thead th {\n",
       "        text-align: right;\n",
       "    }\n",
       "</style>\n",
       "<table border=\"1\" class=\"dataframe\">\n",
       "  <thead>\n",
       "    <tr style=\"text-align: right;\">\n",
       "      <th>condition</th>\n",
       "      <th>A</th>\n",
       "      <th>B</th>\n",
       "      <th>C</th>\n",
       "      <th>Control</th>\n",
       "    </tr>\n",
       "    <tr>\n",
       "      <th>had_visitors</th>\n",
       "      <th></th>\n",
       "      <th></th>\n",
       "      <th></th>\n",
       "      <th></th>\n",
       "    </tr>\n",
       "  </thead>\n",
       "  <tbody>\n",
       "    <tr>\n",
       "      <th>1a. Yes/Yes for any reason</th>\n",
       "      <td>56.5</td>\n",
       "      <td>45.2</td>\n",
       "      <td>44.2</td>\n",
       "      <td>51.2</td>\n",
       "    </tr>\n",
       "    <tr>\n",
       "      <th>1b. Yes but only when neccessary</th>\n",
       "      <td>0.0</td>\n",
       "      <td>15.9</td>\n",
       "      <td>19.9</td>\n",
       "      <td>0.0</td>\n",
       "    </tr>\n",
       "    <tr>\n",
       "      <th>2. No</th>\n",
       "      <td>42.9</td>\n",
       "      <td>38.2</td>\n",
       "      <td>34.6</td>\n",
       "      <td>48.8</td>\n",
       "    </tr>\n",
       "    <tr>\n",
       "      <th>3. Unsure</th>\n",
       "      <td>0.6</td>\n",
       "      <td>0.6</td>\n",
       "      <td>1.3</td>\n",
       "      <td>0.0</td>\n",
       "    </tr>\n",
       "    <tr>\n",
       "      <th>Total n</th>\n",
       "      <td>154</td>\n",
       "      <td>157</td>\n",
       "      <td>156</td>\n",
       "      <td>160</td>\n",
       "    </tr>\n",
       "  </tbody>\n",
       "</table>\n",
       "</div>"
      ],
      "text/plain": [
       "condition                            A     B     C Control\n",
       "had_visitors                                              \n",
       "1a. Yes/Yes for any reason        56.5  45.2  44.2    51.2\n",
       "1b. Yes but only when neccessary   0.0  15.9  19.9     0.0\n",
       "2. No                             42.9  38.2  34.6    48.8\n",
       "3. Unsure                          0.6   0.6   1.3     0.0\n",
       "Total n                            154   157   156     160"
      ]
     },
     "metadata": {},
     "output_type": "display_data"
    },
    {
     "data": {
      "text/markdown": [
       "-----"
      ],
      "text/plain": [
       "<IPython.core.display.Markdown object>"
      ]
     },
     "metadata": {},
     "output_type": "display_data"
    },
    {
     "data": {
      "text/html": [
       "<div>\n",
       "<style scoped>\n",
       "    .dataframe tbody tr th:only-of-type {\n",
       "        vertical-align: middle;\n",
       "    }\n",
       "\n",
       "    .dataframe tbody tr th {\n",
       "        vertical-align: top;\n",
       "    }\n",
       "\n",
       "    .dataframe thead th {\n",
       "        text-align: right;\n",
       "    }\n",
       "</style>\n",
       "<table border=\"1\" class=\"dataframe\">\n",
       "  <thead>\n",
       "    <tr style=\"text-align: right;\">\n",
       "      <th>condition</th>\n",
       "      <th>A</th>\n",
       "      <th>B</th>\n",
       "      <th>C</th>\n",
       "      <th>Control</th>\n",
       "    </tr>\n",
       "    <tr>\n",
       "      <th>had_close_contact</th>\n",
       "      <th></th>\n",
       "      <th></th>\n",
       "      <th></th>\n",
       "      <th></th>\n",
       "    </tr>\n",
       "  </thead>\n",
       "  <tbody>\n",
       "    <tr>\n",
       "      <th>1a. Yes/Yes for any reason</th>\n",
       "      <td>79.9</td>\n",
       "      <td>49.0</td>\n",
       "      <td>44.2</td>\n",
       "      <td>71.9</td>\n",
       "    </tr>\n",
       "    <tr>\n",
       "      <th>1b. Yes but only when neccessary</th>\n",
       "      <td>0.0</td>\n",
       "      <td>29.9</td>\n",
       "      <td>33.3</td>\n",
       "      <td>0.0</td>\n",
       "    </tr>\n",
       "    <tr>\n",
       "      <th>2. No</th>\n",
       "      <td>19.5</td>\n",
       "      <td>20.4</td>\n",
       "      <td>19.9</td>\n",
       "      <td>24.4</td>\n",
       "    </tr>\n",
       "    <tr>\n",
       "      <th>3. Unsure</th>\n",
       "      <td>0.6</td>\n",
       "      <td>0.6</td>\n",
       "      <td>2.6</td>\n",
       "      <td>3.8</td>\n",
       "    </tr>\n",
       "    <tr>\n",
       "      <th>Total n</th>\n",
       "      <td>154</td>\n",
       "      <td>157</td>\n",
       "      <td>156</td>\n",
       "      <td>160</td>\n",
       "    </tr>\n",
       "  </tbody>\n",
       "</table>\n",
       "</div>"
      ],
      "text/plain": [
       "condition                            A     B     C Control\n",
       "had_close_contact                                         \n",
       "1a. Yes/Yes for any reason        79.9  49.0  44.2    71.9\n",
       "1b. Yes but only when neccessary   0.0  29.9  33.3     0.0\n",
       "2. No                             19.5  20.4  19.9    24.4\n",
       "3. Unsure                          0.6   0.6   2.6     3.8\n",
       "Total n                            154   157   156     160"
      ]
     },
     "metadata": {},
     "output_type": "display_data"
    },
    {
     "data": {
      "text/markdown": [
       "-----"
      ],
      "text/plain": [
       "<IPython.core.display.Markdown object>"
      ]
     },
     "metadata": {},
     "output_type": "display_data"
    },
    {
     "data": {
      "text/html": [
       "<div>\n",
       "<style scoped>\n",
       "    .dataframe tbody tr th:only-of-type {\n",
       "        vertical-align: middle;\n",
       "    }\n",
       "\n",
       "    .dataframe tbody tr th {\n",
       "        vertical-align: top;\n",
       "    }\n",
       "\n",
       "    .dataframe thead th {\n",
       "        text-align: right;\n",
       "    }\n",
       "</style>\n",
       "<table border=\"1\" class=\"dataframe\">\n",
       "  <thead>\n",
       "    <tr style=\"text-align: right;\">\n",
       "      <th>condition</th>\n",
       "      <th>A</th>\n",
       "      <th>B</th>\n",
       "      <th>C</th>\n",
       "      <th>Control</th>\n",
       "    </tr>\n",
       "    <tr>\n",
       "      <th>gone_outside</th>\n",
       "      <th></th>\n",
       "      <th></th>\n",
       "      <th></th>\n",
       "      <th></th>\n",
       "    </tr>\n",
       "  </thead>\n",
       "  <tbody>\n",
       "    <tr>\n",
       "      <th>1a. Yes/Yes for any reason</th>\n",
       "      <td>85.7</td>\n",
       "      <td>77.7</td>\n",
       "      <td>73.7</td>\n",
       "      <td>80.6</td>\n",
       "    </tr>\n",
       "    <tr>\n",
       "      <th>1b. Yes but only when neccessary</th>\n",
       "      <td>0.0</td>\n",
       "      <td>8.3</td>\n",
       "      <td>9.0</td>\n",
       "      <td>0.0</td>\n",
       "    </tr>\n",
       "    <tr>\n",
       "      <th>2. No</th>\n",
       "      <td>13.6</td>\n",
       "      <td>14.0</td>\n",
       "      <td>16.0</td>\n",
       "      <td>16.9</td>\n",
       "    </tr>\n",
       "    <tr>\n",
       "      <th>3. Unsure</th>\n",
       "      <td>0.6</td>\n",
       "      <td>0.0</td>\n",
       "      <td>1.3</td>\n",
       "      <td>2.5</td>\n",
       "    </tr>\n",
       "    <tr>\n",
       "      <th>Total n</th>\n",
       "      <td>154</td>\n",
       "      <td>157</td>\n",
       "      <td>156</td>\n",
       "      <td>160</td>\n",
       "    </tr>\n",
       "  </tbody>\n",
       "</table>\n",
       "</div>"
      ],
      "text/plain": [
       "condition                            A     B     C Control\n",
       "gone_outside                                              \n",
       "1a. Yes/Yes for any reason        85.7  77.7  73.7    80.6\n",
       "1b. Yes but only when neccessary   0.0   8.3   9.0     0.0\n",
       "2. No                             13.6  14.0  16.0    16.9\n",
       "3. Unsure                          0.6   0.0   1.3     2.5\n",
       "Total n                            154   157   156     160"
      ]
     },
     "metadata": {},
     "output_type": "display_data"
    },
    {
     "data": {
      "text/markdown": [
       "-----"
      ],
      "text/plain": [
       "<IPython.core.display.Markdown object>"
      ]
     },
     "metadata": {},
     "output_type": "display_data"
    }
   ],
   "source": [
    "# raw distributions for cross-tabs\n",
    "for col in expcols:\n",
    "    util.crosstab_chisq(col, 'condition', ext_df, chisqtest=False)"
   ]
  },
  {
   "cell_type": "code",
   "execution_count": 36,
   "metadata": {},
   "outputs": [],
   "source": [
    "# combining 1a, 1b, and 8 together as 1/yes\n",
    "combine_three = {\"1a. Yes/Yes for any reason\": \"1. Yes\", \n",
    "                 \"2. No\": \"2. No\",\n",
    "                 \"1b. Yes but only when neccessary\": \"1. Yes\", \n",
    "                 \"8. Unsure\": \"1. Yes\"}\n",
    "\n",
    "for col in expcols:\n",
    "    ext_df[f'{col}_r'] = ext_df[col].map(combine_three)\n",
    "    \n",
    "recoded_cols = ['gone_to_friend_r', 'had_visitors_r', 'had_close_contact_r', 'gone_outside_r'] # use recoded_cols for further analyses"
   ]
  }
 ],
 "metadata": {
  "kernelspec": {
   "display_name": "Python 3",
   "language": "python",
   "name": "python3"
  },
  "language_info": {
   "codemirror_mode": {
    "name": "ipython",
    "version": 3
   },
   "file_extension": ".py",
   "mimetype": "text/x-python",
   "name": "python",
   "nbconvert_exporter": "python",
   "pygments_lexer": "ipython3",
   "version": "3.7.3"
  }
 },
 "nbformat": 4,
 "nbformat_minor": 4
}
