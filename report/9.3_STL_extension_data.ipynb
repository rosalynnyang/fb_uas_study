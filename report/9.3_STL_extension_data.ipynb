{
 "cells": [
  {
   "cell_type": "markdown",
   "metadata": {},
   "source": [
    "## Analysis based on the extension study data"
   ]
  },
  {
   "cell_type": "code",
   "execution_count": 2,
   "metadata": {},
   "outputs": [],
   "source": [
    "import numpy as np\n",
    "import pandas as pd\n",
    "import utility as util\n",
    "\n",
    "import warnings\n",
    "warnings.filterwarnings(\"ignore\")"
   ]
  },
  {
   "cell_type": "code",
   "execution_count": 3,
   "metadata": {},
   "outputs": [],
   "source": [
    "ext_df = pd.read_csv('../output/SD_experiment_df.csv')"
   ]
  },
  {
   "cell_type": "code",
   "execution_count": 4,
   "metadata": {},
   "outputs": [],
   "source": [
    "# reset and add index column \"id\"\n",
    "ext_df = ext_df.reset_index(drop=True)\n",
    "ext_df['id'] = range(1, len(ext_df) + 1)"
   ]
  },
  {
   "cell_type": "code",
   "execution_count": 5,
   "metadata": {},
   "outputs": [],
   "source": [
    "ext_df = ext_df[['id', 'condition', 'gone_to_friend', 'had_visitors', 'had_close_contact', 'gone_outside',\n",
    "                 'gender', 'marital', 'age_group', 'education']]"
   ]
  },
  {
   "cell_type": "code",
   "execution_count": 6,
   "metadata": {},
   "outputs": [],
   "source": [
    "# remove missing based on demographic variables\n",
    "democols = ['gender', 'marital', 'age_group', 'education']\n",
    "\n",
    "ext_df = ext_df.dropna(how='any', subset= democols)"
   ]
  },
  {
   "cell_type": "code",
   "execution_count": 7,
   "metadata": {},
   "outputs": [],
   "source": [
    "# remove those that reported unsure in the marital variable\n",
    "ext_df = ext_df.loc[~np.isin(ext_df['marital'], [8]), :]"
   ]
  },
  {
   "cell_type": "code",
   "execution_count": 8,
   "metadata": {},
   "outputs": [
    {
     "data": {
      "text/plain": [
       "(627, 10)"
      ]
     },
     "execution_count": 8,
     "metadata": {},
     "output_type": "execute_result"
    }
   ],
   "source": [
    "ext_df.shape"
   ]
  },
  {
   "cell_type": "markdown",
   "metadata": {},
   "source": [
    "### 1) checking for randomization of treatment conditions"
   ]
  },
  {
   "cell_type": "code",
   "execution_count": 9,
   "metadata": {},
   "outputs": [
    {
     "name": "stdout",
     "output_type": "stream",
     "text": [
      "1.0    369\n",
      "2.0    258\n",
      "Name: gender, dtype: int64\n",
      "................\n",
      "1.0    465\n",
      "7.0    162\n",
      "Name: marital, dtype: int64\n",
      "................\n",
      "2.0     17\n",
      "3.0     42\n",
      "4.0     63\n",
      "5.0    106\n",
      "6.0    212\n",
      "7.0    187\n",
      "Name: age_group, dtype: int64\n",
      "................\n",
      "4.0      6\n",
      "5.0     88\n",
      "6.0    247\n",
      "7.0    162\n",
      "8.0    124\n",
      "Name: education, dtype: int64\n",
      "................\n"
     ]
    }
   ],
   "source": [
    "democols = ['gender', 'marital', 'age_group', 'education']\n",
    "\n",
    "for col in democols:\n",
    "    print(ext_df[col].value_counts(dropna=False).sort_index())\n",
    "    print(\"................\")"
   ]
  },
  {
   "cell_type": "code",
   "execution_count": 10,
   "metadata": {},
   "outputs": [],
   "source": [
    "# recode demographic variables for consistency\n",
    "ext_df['gender_r'] = np.nan\n",
    "ext_df.loc[ext_df['gender']==1, ['gender_r']] = 2 # woman\n",
    "ext_df.loc[ext_df['gender']==2, ['gender_r']] = 1 # man\n",
    "\n",
    "ext_df['marital_r'] = np.nan\n",
    "ext_df.loc[ext_df['marital']==1, ['marital_r']] = 1 # married\n",
    "ext_df.loc[ext_df['marital']==7, ['marital_r']] = 2 # not married\n",
    "\n",
    "ext_df['age_group_r'] = np.nan\n",
    "ext_df.loc[np.isin(ext_df['age_group'], [2, 3, 4, 5]), ['age_group_r']] = 1 # 19-55\n",
    "ext_df.loc[ext_df['age_group']==6, ['age_group_r']] = 2 # 56-65\n",
    "ext_df.loc[ext_df['age_group']==7, ['age_group_r']] = 3 # 66+\n",
    "\n",
    "ext_df['education_r'] = np.nan\n",
    "ext_df.loc[np.isin(ext_df['education'], [4, 5, 6]), ['education_r']] = 1 # less than college\n",
    "ext_df.loc[np.isin(ext_df['education'], [7, 8]), ['education_r']] = 2 # college or more"
   ]
  },
  {
   "cell_type": "code",
   "execution_count": 11,
   "metadata": {},
   "outputs": [
    {
     "name": "stdout",
     "output_type": "stream",
     "text": [
      "1.0    258\n",
      "2.0    369\n",
      "Name: gender_r, dtype: int64\n",
      "................\n",
      "1.0    465\n",
      "2.0    162\n",
      "Name: marital_r, dtype: int64\n",
      "................\n",
      "1.0    228\n",
      "2.0    212\n",
      "3.0    187\n",
      "Name: age_group_r, dtype: int64\n",
      "................\n",
      "1.0    341\n",
      "2.0    286\n",
      "Name: education_r, dtype: int64\n",
      "................\n"
     ]
    }
   ],
   "source": [
    "# checking recoded variables\n",
    "democols_r = ['gender_r', 'marital_r', 'age_group_r', 'education_r']\n",
    "\n",
    "for col in democols_r:\n",
    "    print(ext_df[col].value_counts(dropna=False).sort_index())\n",
    "    print(\"................\")"
   ]
  },
  {
   "cell_type": "code",
   "execution_count": 12,
   "metadata": {},
   "outputs": [
    {
     "data": {
      "text/html": [
       "<div>\n",
       "<style scoped>\n",
       "    .dataframe tbody tr th:only-of-type {\n",
       "        vertical-align: middle;\n",
       "    }\n",
       "\n",
       "    .dataframe tbody tr th {\n",
       "        vertical-align: top;\n",
       "    }\n",
       "\n",
       "    .dataframe thead th {\n",
       "        text-align: right;\n",
       "    }\n",
       "</style>\n",
       "<table border=\"1\" class=\"dataframe\">\n",
       "  <thead>\n",
       "    <tr style=\"text-align: right;\">\n",
       "      <th>condition</th>\n",
       "      <th>A</th>\n",
       "      <th>B</th>\n",
       "      <th>C</th>\n",
       "      <th>Control</th>\n",
       "    </tr>\n",
       "    <tr>\n",
       "      <th>gender_r</th>\n",
       "      <th></th>\n",
       "      <th></th>\n",
       "      <th></th>\n",
       "      <th></th>\n",
       "    </tr>\n",
       "  </thead>\n",
       "  <tbody>\n",
       "    <tr>\n",
       "      <th>1.0</th>\n",
       "      <td>44.8</td>\n",
       "      <td>42.7</td>\n",
       "      <td>41.0</td>\n",
       "      <td>36.2</td>\n",
       "    </tr>\n",
       "    <tr>\n",
       "      <th>2.0</th>\n",
       "      <td>55.2</td>\n",
       "      <td>57.3</td>\n",
       "      <td>59.0</td>\n",
       "      <td>63.7</td>\n",
       "    </tr>\n",
       "    <tr>\n",
       "      <th>Total n</th>\n",
       "      <td>154</td>\n",
       "      <td>157</td>\n",
       "      <td>156</td>\n",
       "      <td>160</td>\n",
       "    </tr>\n",
       "  </tbody>\n",
       "</table>\n",
       "</div>"
      ],
      "text/plain": [
       "condition     A     B     C Control\n",
       "gender_r                           \n",
       "1.0        44.8  42.7  41.0    36.2\n",
       "2.0        55.2  57.3  59.0    63.7\n",
       "Total n     154   157   156     160"
      ]
     },
     "metadata": {},
     "output_type": "display_data"
    },
    {
     "data": {
      "text/markdown": [
       "*Chi-squared statistic = 2.6, degree of freedom = 3, p = 0.46*"
      ],
      "text/plain": [
       "<IPython.core.display.Markdown object>"
      ]
     },
     "metadata": {},
     "output_type": "display_data"
    },
    {
     "data": {
      "text/markdown": [
       "-----"
      ],
      "text/plain": [
       "<IPython.core.display.Markdown object>"
      ]
     },
     "metadata": {},
     "output_type": "display_data"
    },
    {
     "data": {
      "text/html": [
       "<div>\n",
       "<style scoped>\n",
       "    .dataframe tbody tr th:only-of-type {\n",
       "        vertical-align: middle;\n",
       "    }\n",
       "\n",
       "    .dataframe tbody tr th {\n",
       "        vertical-align: top;\n",
       "    }\n",
       "\n",
       "    .dataframe thead th {\n",
       "        text-align: right;\n",
       "    }\n",
       "</style>\n",
       "<table border=\"1\" class=\"dataframe\">\n",
       "  <thead>\n",
       "    <tr style=\"text-align: right;\">\n",
       "      <th>condition</th>\n",
       "      <th>A</th>\n",
       "      <th>B</th>\n",
       "      <th>C</th>\n",
       "      <th>Control</th>\n",
       "    </tr>\n",
       "    <tr>\n",
       "      <th>marital_r</th>\n",
       "      <th></th>\n",
       "      <th></th>\n",
       "      <th></th>\n",
       "      <th></th>\n",
       "    </tr>\n",
       "  </thead>\n",
       "  <tbody>\n",
       "    <tr>\n",
       "      <th>1.0</th>\n",
       "      <td>72.7</td>\n",
       "      <td>77.7</td>\n",
       "      <td>78.8</td>\n",
       "      <td>67.5</td>\n",
       "    </tr>\n",
       "    <tr>\n",
       "      <th>2.0</th>\n",
       "      <td>27.3</td>\n",
       "      <td>22.3</td>\n",
       "      <td>21.2</td>\n",
       "      <td>32.5</td>\n",
       "    </tr>\n",
       "    <tr>\n",
       "      <th>Total n</th>\n",
       "      <td>154</td>\n",
       "      <td>157</td>\n",
       "      <td>156</td>\n",
       "      <td>160</td>\n",
       "    </tr>\n",
       "  </tbody>\n",
       "</table>\n",
       "</div>"
      ],
      "text/plain": [
       "condition     A     B     C Control\n",
       "marital_r                          \n",
       "1.0        72.7  77.7  78.8    67.5\n",
       "2.0        27.3  22.3  21.2    32.5\n",
       "Total n     154   157   156     160"
      ]
     },
     "metadata": {},
     "output_type": "display_data"
    },
    {
     "data": {
      "text/markdown": [
       "*Chi-squared statistic = 6.7, degree of freedom = 3, p = 0.083*"
      ],
      "text/plain": [
       "<IPython.core.display.Markdown object>"
      ]
     },
     "metadata": {},
     "output_type": "display_data"
    },
    {
     "data": {
      "text/markdown": [
       "-----"
      ],
      "text/plain": [
       "<IPython.core.display.Markdown object>"
      ]
     },
     "metadata": {},
     "output_type": "display_data"
    },
    {
     "data": {
      "text/html": [
       "<div>\n",
       "<style scoped>\n",
       "    .dataframe tbody tr th:only-of-type {\n",
       "        vertical-align: middle;\n",
       "    }\n",
       "\n",
       "    .dataframe tbody tr th {\n",
       "        vertical-align: top;\n",
       "    }\n",
       "\n",
       "    .dataframe thead th {\n",
       "        text-align: right;\n",
       "    }\n",
       "</style>\n",
       "<table border=\"1\" class=\"dataframe\">\n",
       "  <thead>\n",
       "    <tr style=\"text-align: right;\">\n",
       "      <th>condition</th>\n",
       "      <th>A</th>\n",
       "      <th>B</th>\n",
       "      <th>C</th>\n",
       "      <th>Control</th>\n",
       "    </tr>\n",
       "    <tr>\n",
       "      <th>age_group_r</th>\n",
       "      <th></th>\n",
       "      <th></th>\n",
       "      <th></th>\n",
       "      <th></th>\n",
       "    </tr>\n",
       "  </thead>\n",
       "  <tbody>\n",
       "    <tr>\n",
       "      <th>1.0</th>\n",
       "      <td>34.4</td>\n",
       "      <td>42.0</td>\n",
       "      <td>37.2</td>\n",
       "      <td>31.9</td>\n",
       "    </tr>\n",
       "    <tr>\n",
       "      <th>2.0</th>\n",
       "      <td>32.5</td>\n",
       "      <td>31.2</td>\n",
       "      <td>31.4</td>\n",
       "      <td>40.0</td>\n",
       "    </tr>\n",
       "    <tr>\n",
       "      <th>3.0</th>\n",
       "      <td>33.1</td>\n",
       "      <td>26.8</td>\n",
       "      <td>31.4</td>\n",
       "      <td>28.1</td>\n",
       "    </tr>\n",
       "    <tr>\n",
       "      <th>Total n</th>\n",
       "      <td>154</td>\n",
       "      <td>157</td>\n",
       "      <td>156</td>\n",
       "      <td>160</td>\n",
       "    </tr>\n",
       "  </tbody>\n",
       "</table>\n",
       "</div>"
      ],
      "text/plain": [
       "condition       A     B     C Control\n",
       "age_group_r                          \n",
       "1.0          34.4  42.0  37.2    31.9\n",
       "2.0          32.5  31.2  31.4    40.0\n",
       "3.0          33.1  26.8  31.4    28.1\n",
       "Total n       154   157   156     160"
      ]
     },
     "metadata": {},
     "output_type": "display_data"
    },
    {
     "data": {
      "text/markdown": [
       "*Chi-squared statistic = 6.3, degree of freedom = 6, p = 0.392*"
      ],
      "text/plain": [
       "<IPython.core.display.Markdown object>"
      ]
     },
     "metadata": {},
     "output_type": "display_data"
    },
    {
     "data": {
      "text/markdown": [
       "-----"
      ],
      "text/plain": [
       "<IPython.core.display.Markdown object>"
      ]
     },
     "metadata": {},
     "output_type": "display_data"
    },
    {
     "data": {
      "text/html": [
       "<div>\n",
       "<style scoped>\n",
       "    .dataframe tbody tr th:only-of-type {\n",
       "        vertical-align: middle;\n",
       "    }\n",
       "\n",
       "    .dataframe tbody tr th {\n",
       "        vertical-align: top;\n",
       "    }\n",
       "\n",
       "    .dataframe thead th {\n",
       "        text-align: right;\n",
       "    }\n",
       "</style>\n",
       "<table border=\"1\" class=\"dataframe\">\n",
       "  <thead>\n",
       "    <tr style=\"text-align: right;\">\n",
       "      <th>condition</th>\n",
       "      <th>A</th>\n",
       "      <th>B</th>\n",
       "      <th>C</th>\n",
       "      <th>Control</th>\n",
       "    </tr>\n",
       "    <tr>\n",
       "      <th>education_r</th>\n",
       "      <th></th>\n",
       "      <th></th>\n",
       "      <th></th>\n",
       "      <th></th>\n",
       "    </tr>\n",
       "  </thead>\n",
       "  <tbody>\n",
       "    <tr>\n",
       "      <th>1.0</th>\n",
       "      <td>54.5</td>\n",
       "      <td>49.0</td>\n",
       "      <td>57.7</td>\n",
       "      <td>56.2</td>\n",
       "    </tr>\n",
       "    <tr>\n",
       "      <th>2.0</th>\n",
       "      <td>45.5</td>\n",
       "      <td>51.0</td>\n",
       "      <td>42.3</td>\n",
       "      <td>43.8</td>\n",
       "    </tr>\n",
       "    <tr>\n",
       "      <th>Total n</th>\n",
       "      <td>154</td>\n",
       "      <td>157</td>\n",
       "      <td>156</td>\n",
       "      <td>160</td>\n",
       "    </tr>\n",
       "  </tbody>\n",
       "</table>\n",
       "</div>"
      ],
      "text/plain": [
       "condition       A     B     C Control\n",
       "education_r                          \n",
       "1.0          54.5  49.0  57.7    56.2\n",
       "2.0          45.5  51.0  42.3    43.8\n",
       "Total n       154   157   156     160"
      ]
     },
     "metadata": {},
     "output_type": "display_data"
    },
    {
     "data": {
      "text/markdown": [
       "*Chi-squared statistic = 2.7, degree of freedom = 3, p = 0.437*"
      ],
      "text/plain": [
       "<IPython.core.display.Markdown object>"
      ]
     },
     "metadata": {},
     "output_type": "display_data"
    },
    {
     "data": {
      "text/markdown": [
       "-----"
      ],
      "text/plain": [
       "<IPython.core.display.Markdown object>"
      ]
     },
     "metadata": {},
     "output_type": "display_data"
    }
   ],
   "source": [
    "for col in democols_r:\n",
    "    util.crosstab_chisq(col, 'condition', ext_df, chisqtest=True)"
   ]
  },
  {
   "cell_type": "markdown",
   "metadata": {},
   "source": [
    "### 1.5) Control vs. ABC combined"
   ]
  },
  {
   "cell_type": "code",
   "execution_count": 15,
   "metadata": {},
   "outputs": [
    {
     "data": {
      "text/plain": [
       "Control    160\n",
       "B          157\n",
       "C          156\n",
       "A          154\n",
       "Name: condition, dtype: int64"
      ]
     },
     "execution_count": 15,
     "metadata": {},
     "output_type": "execute_result"
    }
   ],
   "source": [
    "ext_df['condition'].value_counts()"
   ]
  },
  {
   "cell_type": "code",
   "execution_count": 16,
   "metadata": {},
   "outputs": [],
   "source": [
    "ext_df['condition_r'] = np.nan\n",
    "ext_df.loc[ext_df['condition']=='Control', ['condition_r']] = 'Control'\n",
    "ext_df.loc[ext_df['condition']=='A', ['condition_r']] = 'Experiment'\n",
    "ext_df.loc[ext_df['condition']=='B', ['condition_r']] = 'Experiment'\n",
    "ext_df.loc[ext_df['condition']=='C', ['condition_r']] = 'Experiment'"
   ]
  },
  {
   "cell_type": "code",
   "execution_count": 17,
   "metadata": {},
   "outputs": [
    {
     "data": {
      "text/plain": [
       "Experiment    467\n",
       "Control       160\n",
       "Name: condition_r, dtype: int64"
      ]
     },
     "execution_count": 17,
     "metadata": {},
     "output_type": "execute_result"
    }
   ],
   "source": [
    "ext_df['condition_r'].value_counts()"
   ]
  },
  {
   "cell_type": "code",
   "execution_count": 18,
   "metadata": {},
   "outputs": [
    {
     "data": {
      "text/html": [
       "<div>\n",
       "<style scoped>\n",
       "    .dataframe tbody tr th:only-of-type {\n",
       "        vertical-align: middle;\n",
       "    }\n",
       "\n",
       "    .dataframe tbody tr th {\n",
       "        vertical-align: top;\n",
       "    }\n",
       "\n",
       "    .dataframe thead th {\n",
       "        text-align: right;\n",
       "    }\n",
       "</style>\n",
       "<table border=\"1\" class=\"dataframe\">\n",
       "  <thead>\n",
       "    <tr style=\"text-align: right;\">\n",
       "      <th>condition_r</th>\n",
       "      <th>Control</th>\n",
       "      <th>Experiment</th>\n",
       "    </tr>\n",
       "    <tr>\n",
       "      <th>gender_r</th>\n",
       "      <th></th>\n",
       "      <th></th>\n",
       "    </tr>\n",
       "  </thead>\n",
       "  <tbody>\n",
       "    <tr>\n",
       "      <th>1.0</th>\n",
       "      <td>36.2</td>\n",
       "      <td>42.8</td>\n",
       "    </tr>\n",
       "    <tr>\n",
       "      <th>2.0</th>\n",
       "      <td>63.7</td>\n",
       "      <td>57.2</td>\n",
       "    </tr>\n",
       "    <tr>\n",
       "      <th>Total n</th>\n",
       "      <td>160</td>\n",
       "      <td>467</td>\n",
       "    </tr>\n",
       "  </tbody>\n",
       "</table>\n",
       "</div>"
      ],
      "text/plain": [
       "condition_r Control Experiment\n",
       "gender_r                      \n",
       "1.0            36.2       42.8\n",
       "2.0            63.7       57.2\n",
       "Total n         160        467"
      ]
     },
     "metadata": {},
     "output_type": "display_data"
    },
    {
     "data": {
      "text/markdown": [
       "*Chi-squared statistic = 1.9, degree of freedom = 1, p = 0.172*"
      ],
      "text/plain": [
       "<IPython.core.display.Markdown object>"
      ]
     },
     "metadata": {},
     "output_type": "display_data"
    },
    {
     "data": {
      "text/markdown": [
       "-----"
      ],
      "text/plain": [
       "<IPython.core.display.Markdown object>"
      ]
     },
     "metadata": {},
     "output_type": "display_data"
    },
    {
     "data": {
      "text/html": [
       "<div>\n",
       "<style scoped>\n",
       "    .dataframe tbody tr th:only-of-type {\n",
       "        vertical-align: middle;\n",
       "    }\n",
       "\n",
       "    .dataframe tbody tr th {\n",
       "        vertical-align: top;\n",
       "    }\n",
       "\n",
       "    .dataframe thead th {\n",
       "        text-align: right;\n",
       "    }\n",
       "</style>\n",
       "<table border=\"1\" class=\"dataframe\">\n",
       "  <thead>\n",
       "    <tr style=\"text-align: right;\">\n",
       "      <th>condition_r</th>\n",
       "      <th>Control</th>\n",
       "      <th>Experiment</th>\n",
       "    </tr>\n",
       "    <tr>\n",
       "      <th>marital_r</th>\n",
       "      <th></th>\n",
       "      <th></th>\n",
       "    </tr>\n",
       "  </thead>\n",
       "  <tbody>\n",
       "    <tr>\n",
       "      <th>1.0</th>\n",
       "      <td>67.5</td>\n",
       "      <td>76.4</td>\n",
       "    </tr>\n",
       "    <tr>\n",
       "      <th>2.0</th>\n",
       "      <td>32.5</td>\n",
       "      <td>23.6</td>\n",
       "    </tr>\n",
       "    <tr>\n",
       "      <th>Total n</th>\n",
       "      <td>160</td>\n",
       "      <td>467</td>\n",
       "    </tr>\n",
       "  </tbody>\n",
       "</table>\n",
       "</div>"
      ],
      "text/plain": [
       "condition_r Control Experiment\n",
       "marital_r                     \n",
       "1.0            67.5       76.4\n",
       "2.0            32.5       23.6\n",
       "Total n         160        467"
      ]
     },
     "metadata": {},
     "output_type": "display_data"
    },
    {
     "data": {
      "text/markdown": [
       "*Chi-squared statistic = 4.5, degree of freedom = 1, p = 0.033*"
      ],
      "text/plain": [
       "<IPython.core.display.Markdown object>"
      ]
     },
     "metadata": {},
     "output_type": "display_data"
    },
    {
     "data": {
      "text/markdown": [
       "-----"
      ],
      "text/plain": [
       "<IPython.core.display.Markdown object>"
      ]
     },
     "metadata": {},
     "output_type": "display_data"
    },
    {
     "data": {
      "text/html": [
       "<div>\n",
       "<style scoped>\n",
       "    .dataframe tbody tr th:only-of-type {\n",
       "        vertical-align: middle;\n",
       "    }\n",
       "\n",
       "    .dataframe tbody tr th {\n",
       "        vertical-align: top;\n",
       "    }\n",
       "\n",
       "    .dataframe thead th {\n",
       "        text-align: right;\n",
       "    }\n",
       "</style>\n",
       "<table border=\"1\" class=\"dataframe\">\n",
       "  <thead>\n",
       "    <tr style=\"text-align: right;\">\n",
       "      <th>condition_r</th>\n",
       "      <th>Control</th>\n",
       "      <th>Experiment</th>\n",
       "    </tr>\n",
       "    <tr>\n",
       "      <th>age_group_r</th>\n",
       "      <th></th>\n",
       "      <th></th>\n",
       "    </tr>\n",
       "  </thead>\n",
       "  <tbody>\n",
       "    <tr>\n",
       "      <th>1.0</th>\n",
       "      <td>31.9</td>\n",
       "      <td>37.9</td>\n",
       "    </tr>\n",
       "    <tr>\n",
       "      <th>2.0</th>\n",
       "      <td>40.0</td>\n",
       "      <td>31.7</td>\n",
       "    </tr>\n",
       "    <tr>\n",
       "      <th>3.0</th>\n",
       "      <td>28.1</td>\n",
       "      <td>30.4</td>\n",
       "    </tr>\n",
       "    <tr>\n",
       "      <th>Total n</th>\n",
       "      <td>160</td>\n",
       "      <td>467</td>\n",
       "    </tr>\n",
       "  </tbody>\n",
       "</table>\n",
       "</div>"
      ],
      "text/plain": [
       "condition_r Control Experiment\n",
       "age_group_r                   \n",
       "1.0            31.9       37.9\n",
       "2.0            40.0       31.7\n",
       "3.0            28.1       30.4\n",
       "Total n         160        467"
      ]
     },
     "metadata": {},
     "output_type": "display_data"
    },
    {
     "data": {
      "text/markdown": [
       "*Chi-squared statistic = 3.8, degree of freedom = 2, p = 0.147*"
      ],
      "text/plain": [
       "<IPython.core.display.Markdown object>"
      ]
     },
     "metadata": {},
     "output_type": "display_data"
    },
    {
     "data": {
      "text/markdown": [
       "-----"
      ],
      "text/plain": [
       "<IPython.core.display.Markdown object>"
      ]
     },
     "metadata": {},
     "output_type": "display_data"
    },
    {
     "data": {
      "text/html": [
       "<div>\n",
       "<style scoped>\n",
       "    .dataframe tbody tr th:only-of-type {\n",
       "        vertical-align: middle;\n",
       "    }\n",
       "\n",
       "    .dataframe tbody tr th {\n",
       "        vertical-align: top;\n",
       "    }\n",
       "\n",
       "    .dataframe thead th {\n",
       "        text-align: right;\n",
       "    }\n",
       "</style>\n",
       "<table border=\"1\" class=\"dataframe\">\n",
       "  <thead>\n",
       "    <tr style=\"text-align: right;\">\n",
       "      <th>condition_r</th>\n",
       "      <th>Control</th>\n",
       "      <th>Experiment</th>\n",
       "    </tr>\n",
       "    <tr>\n",
       "      <th>education_r</th>\n",
       "      <th></th>\n",
       "      <th></th>\n",
       "    </tr>\n",
       "  </thead>\n",
       "  <tbody>\n",
       "    <tr>\n",
       "      <th>1.0</th>\n",
       "      <td>56.2</td>\n",
       "      <td>53.7</td>\n",
       "    </tr>\n",
       "    <tr>\n",
       "      <th>2.0</th>\n",
       "      <td>43.8</td>\n",
       "      <td>46.3</td>\n",
       "    </tr>\n",
       "    <tr>\n",
       "      <th>Total n</th>\n",
       "      <td>160</td>\n",
       "      <td>467</td>\n",
       "    </tr>\n",
       "  </tbody>\n",
       "</table>\n",
       "</div>"
      ],
      "text/plain": [
       "condition_r Control Experiment\n",
       "education_r                   \n",
       "1.0            56.2       53.7\n",
       "2.0            43.8       46.3\n",
       "Total n         160        467"
      ]
     },
     "metadata": {},
     "output_type": "display_data"
    },
    {
     "data": {
      "text/markdown": [
       "*Chi-squared statistic = 0.2, degree of freedom = 1, p = 0.648*"
      ],
      "text/plain": [
       "<IPython.core.display.Markdown object>"
      ]
     },
     "metadata": {},
     "output_type": "display_data"
    },
    {
     "data": {
      "text/markdown": [
       "-----"
      ],
      "text/plain": [
       "<IPython.core.display.Markdown object>"
      ]
     },
     "metadata": {},
     "output_type": "display_data"
    }
   ],
   "source": [
    "for col in democols_r:\n",
    "    util.crosstab_chisq(col, 'condition_r', ext_df, chisqtest=True)"
   ]
  },
  {
   "cell_type": "markdown",
   "metadata": {},
   "source": [
    "### 2) experimental data analysis"
   ]
  },
  {
   "cell_type": "code",
   "execution_count": 12,
   "metadata": {},
   "outputs": [
    {
     "name": "stdout",
     "output_type": "stream",
     "text": [
      "1    327\n",
      "2     59\n",
      "3    238\n",
      "4      3\n",
      "Name: gone_to_friend, dtype: int64\n",
      "................\n",
      "1    309\n",
      "2     56\n",
      "3    258\n",
      "4      4\n",
      "Name: had_visitors, dtype: int64\n",
      "................\n",
      "1    384\n",
      "2     99\n",
      "3    132\n",
      "4     12\n",
      "Name: had_close_contact, dtype: int64\n",
      "................\n",
      "1    498\n",
      "2     27\n",
      "3     95\n",
      "4      7\n",
      "Name: gone_outside, dtype: int64\n",
      "................\n"
     ]
    }
   ],
   "source": [
    "# check missing in experiment cols\n",
    "expcols = ['gone_to_friend', 'had_visitors', 'had_close_contact', 'gone_outside']\n",
    "\n",
    "for col in expcols:\n",
    "    print(ext_df[col].value_counts(dropna=False).sort_index())\n",
    "    print(\"................\")"
   ]
  },
  {
   "cell_type": "code",
   "execution_count": 13,
   "metadata": {},
   "outputs": [],
   "source": [
    "# numeric -> character display\n",
    "for col in expcols:\n",
    "    ext_df[col] = ext_df[[col]].replace([1, 2, 3, 4], [\"1a. Yes/Yes for any reason\", \"1b. Yes but only when neccessary\", \n",
    "                                                       \"2. No\", \"3. Unsure\"])"
   ]
  },
  {
   "cell_type": "code",
   "execution_count": 14,
   "metadata": {},
   "outputs": [
    {
     "data": {
      "text/html": [
       "<div>\n",
       "<style scoped>\n",
       "    .dataframe tbody tr th:only-of-type {\n",
       "        vertical-align: middle;\n",
       "    }\n",
       "\n",
       "    .dataframe tbody tr th {\n",
       "        vertical-align: top;\n",
       "    }\n",
       "\n",
       "    .dataframe thead th {\n",
       "        text-align: right;\n",
       "    }\n",
       "</style>\n",
       "<table border=\"1\" class=\"dataframe\">\n",
       "  <thead>\n",
       "    <tr style=\"text-align: right;\">\n",
       "      <th>condition</th>\n",
       "      <th>A</th>\n",
       "      <th>B</th>\n",
       "      <th>C</th>\n",
       "      <th>Control</th>\n",
       "    </tr>\n",
       "    <tr>\n",
       "      <th>gone_to_friend</th>\n",
       "      <th></th>\n",
       "      <th></th>\n",
       "      <th></th>\n",
       "      <th></th>\n",
       "    </tr>\n",
       "  </thead>\n",
       "  <tbody>\n",
       "    <tr>\n",
       "      <th>1a. Yes/Yes for any reason</th>\n",
       "      <td>57.8</td>\n",
       "      <td>49.0</td>\n",
       "      <td>40.4</td>\n",
       "      <td>61.3</td>\n",
       "    </tr>\n",
       "    <tr>\n",
       "      <th>1b. Yes but only when neccessary</th>\n",
       "      <td>0.0</td>\n",
       "      <td>15.9</td>\n",
       "      <td>21.8</td>\n",
       "      <td>0.0</td>\n",
       "    </tr>\n",
       "    <tr>\n",
       "      <th>2. No</th>\n",
       "      <td>40.9</td>\n",
       "      <td>35.0</td>\n",
       "      <td>37.2</td>\n",
       "      <td>38.8</td>\n",
       "    </tr>\n",
       "    <tr>\n",
       "      <th>3. Unsure</th>\n",
       "      <td>1.3</td>\n",
       "      <td>0.0</td>\n",
       "      <td>0.6</td>\n",
       "      <td>0.0</td>\n",
       "    </tr>\n",
       "    <tr>\n",
       "      <th>Total n</th>\n",
       "      <td>154</td>\n",
       "      <td>157</td>\n",
       "      <td>156</td>\n",
       "      <td>160</td>\n",
       "    </tr>\n",
       "  </tbody>\n",
       "</table>\n",
       "</div>"
      ],
      "text/plain": [
       "condition                            A     B     C Control\n",
       "gone_to_friend                                            \n",
       "1a. Yes/Yes for any reason        57.8  49.0  40.4    61.3\n",
       "1b. Yes but only when neccessary   0.0  15.9  21.8     0.0\n",
       "2. No                             40.9  35.0  37.2    38.8\n",
       "3. Unsure                          1.3   0.0   0.6     0.0\n",
       "Total n                            154   157   156     160"
      ]
     },
     "metadata": {},
     "output_type": "display_data"
    },
    {
     "data": {
      "text/markdown": [
       "-----"
      ],
      "text/plain": [
       "<IPython.core.display.Markdown object>"
      ]
     },
     "metadata": {},
     "output_type": "display_data"
    },
    {
     "data": {
      "text/html": [
       "<div>\n",
       "<style scoped>\n",
       "    .dataframe tbody tr th:only-of-type {\n",
       "        vertical-align: middle;\n",
       "    }\n",
       "\n",
       "    .dataframe tbody tr th {\n",
       "        vertical-align: top;\n",
       "    }\n",
       "\n",
       "    .dataframe thead th {\n",
       "        text-align: right;\n",
       "    }\n",
       "</style>\n",
       "<table border=\"1\" class=\"dataframe\">\n",
       "  <thead>\n",
       "    <tr style=\"text-align: right;\">\n",
       "      <th>condition</th>\n",
       "      <th>A</th>\n",
       "      <th>B</th>\n",
       "      <th>C</th>\n",
       "      <th>Control</th>\n",
       "    </tr>\n",
       "    <tr>\n",
       "      <th>had_visitors</th>\n",
       "      <th></th>\n",
       "      <th></th>\n",
       "      <th></th>\n",
       "      <th></th>\n",
       "    </tr>\n",
       "  </thead>\n",
       "  <tbody>\n",
       "    <tr>\n",
       "      <th>1a. Yes/Yes for any reason</th>\n",
       "      <td>56.5</td>\n",
       "      <td>45.2</td>\n",
       "      <td>44.2</td>\n",
       "      <td>51.2</td>\n",
       "    </tr>\n",
       "    <tr>\n",
       "      <th>1b. Yes but only when neccessary</th>\n",
       "      <td>0.0</td>\n",
       "      <td>15.9</td>\n",
       "      <td>19.9</td>\n",
       "      <td>0.0</td>\n",
       "    </tr>\n",
       "    <tr>\n",
       "      <th>2. No</th>\n",
       "      <td>42.9</td>\n",
       "      <td>38.2</td>\n",
       "      <td>34.6</td>\n",
       "      <td>48.8</td>\n",
       "    </tr>\n",
       "    <tr>\n",
       "      <th>3. Unsure</th>\n",
       "      <td>0.6</td>\n",
       "      <td>0.6</td>\n",
       "      <td>1.3</td>\n",
       "      <td>0.0</td>\n",
       "    </tr>\n",
       "    <tr>\n",
       "      <th>Total n</th>\n",
       "      <td>154</td>\n",
       "      <td>157</td>\n",
       "      <td>156</td>\n",
       "      <td>160</td>\n",
       "    </tr>\n",
       "  </tbody>\n",
       "</table>\n",
       "</div>"
      ],
      "text/plain": [
       "condition                            A     B     C Control\n",
       "had_visitors                                              \n",
       "1a. Yes/Yes for any reason        56.5  45.2  44.2    51.2\n",
       "1b. Yes but only when neccessary   0.0  15.9  19.9     0.0\n",
       "2. No                             42.9  38.2  34.6    48.8\n",
       "3. Unsure                          0.6   0.6   1.3     0.0\n",
       "Total n                            154   157   156     160"
      ]
     },
     "metadata": {},
     "output_type": "display_data"
    },
    {
     "data": {
      "text/markdown": [
       "-----"
      ],
      "text/plain": [
       "<IPython.core.display.Markdown object>"
      ]
     },
     "metadata": {},
     "output_type": "display_data"
    },
    {
     "data": {
      "text/html": [
       "<div>\n",
       "<style scoped>\n",
       "    .dataframe tbody tr th:only-of-type {\n",
       "        vertical-align: middle;\n",
       "    }\n",
       "\n",
       "    .dataframe tbody tr th {\n",
       "        vertical-align: top;\n",
       "    }\n",
       "\n",
       "    .dataframe thead th {\n",
       "        text-align: right;\n",
       "    }\n",
       "</style>\n",
       "<table border=\"1\" class=\"dataframe\">\n",
       "  <thead>\n",
       "    <tr style=\"text-align: right;\">\n",
       "      <th>condition</th>\n",
       "      <th>A</th>\n",
       "      <th>B</th>\n",
       "      <th>C</th>\n",
       "      <th>Control</th>\n",
       "    </tr>\n",
       "    <tr>\n",
       "      <th>had_close_contact</th>\n",
       "      <th></th>\n",
       "      <th></th>\n",
       "      <th></th>\n",
       "      <th></th>\n",
       "    </tr>\n",
       "  </thead>\n",
       "  <tbody>\n",
       "    <tr>\n",
       "      <th>1a. Yes/Yes for any reason</th>\n",
       "      <td>79.9</td>\n",
       "      <td>49.0</td>\n",
       "      <td>44.2</td>\n",
       "      <td>71.9</td>\n",
       "    </tr>\n",
       "    <tr>\n",
       "      <th>1b. Yes but only when neccessary</th>\n",
       "      <td>0.0</td>\n",
       "      <td>29.9</td>\n",
       "      <td>33.3</td>\n",
       "      <td>0.0</td>\n",
       "    </tr>\n",
       "    <tr>\n",
       "      <th>2. No</th>\n",
       "      <td>19.5</td>\n",
       "      <td>20.4</td>\n",
       "      <td>19.9</td>\n",
       "      <td>24.4</td>\n",
       "    </tr>\n",
       "    <tr>\n",
       "      <th>3. Unsure</th>\n",
       "      <td>0.6</td>\n",
       "      <td>0.6</td>\n",
       "      <td>2.6</td>\n",
       "      <td>3.8</td>\n",
       "    </tr>\n",
       "    <tr>\n",
       "      <th>Total n</th>\n",
       "      <td>154</td>\n",
       "      <td>157</td>\n",
       "      <td>156</td>\n",
       "      <td>160</td>\n",
       "    </tr>\n",
       "  </tbody>\n",
       "</table>\n",
       "</div>"
      ],
      "text/plain": [
       "condition                            A     B     C Control\n",
       "had_close_contact                                         \n",
       "1a. Yes/Yes for any reason        79.9  49.0  44.2    71.9\n",
       "1b. Yes but only when neccessary   0.0  29.9  33.3     0.0\n",
       "2. No                             19.5  20.4  19.9    24.4\n",
       "3. Unsure                          0.6   0.6   2.6     3.8\n",
       "Total n                            154   157   156     160"
      ]
     },
     "metadata": {},
     "output_type": "display_data"
    },
    {
     "data": {
      "text/markdown": [
       "-----"
      ],
      "text/plain": [
       "<IPython.core.display.Markdown object>"
      ]
     },
     "metadata": {},
     "output_type": "display_data"
    },
    {
     "data": {
      "text/html": [
       "<div>\n",
       "<style scoped>\n",
       "    .dataframe tbody tr th:only-of-type {\n",
       "        vertical-align: middle;\n",
       "    }\n",
       "\n",
       "    .dataframe tbody tr th {\n",
       "        vertical-align: top;\n",
       "    }\n",
       "\n",
       "    .dataframe thead th {\n",
       "        text-align: right;\n",
       "    }\n",
       "</style>\n",
       "<table border=\"1\" class=\"dataframe\">\n",
       "  <thead>\n",
       "    <tr style=\"text-align: right;\">\n",
       "      <th>condition</th>\n",
       "      <th>A</th>\n",
       "      <th>B</th>\n",
       "      <th>C</th>\n",
       "      <th>Control</th>\n",
       "    </tr>\n",
       "    <tr>\n",
       "      <th>gone_outside</th>\n",
       "      <th></th>\n",
       "      <th></th>\n",
       "      <th></th>\n",
       "      <th></th>\n",
       "    </tr>\n",
       "  </thead>\n",
       "  <tbody>\n",
       "    <tr>\n",
       "      <th>1a. Yes/Yes for any reason</th>\n",
       "      <td>85.7</td>\n",
       "      <td>77.7</td>\n",
       "      <td>73.7</td>\n",
       "      <td>80.6</td>\n",
       "    </tr>\n",
       "    <tr>\n",
       "      <th>1b. Yes but only when neccessary</th>\n",
       "      <td>0.0</td>\n",
       "      <td>8.3</td>\n",
       "      <td>9.0</td>\n",
       "      <td>0.0</td>\n",
       "    </tr>\n",
       "    <tr>\n",
       "      <th>2. No</th>\n",
       "      <td>13.6</td>\n",
       "      <td>14.0</td>\n",
       "      <td>16.0</td>\n",
       "      <td>16.9</td>\n",
       "    </tr>\n",
       "    <tr>\n",
       "      <th>3. Unsure</th>\n",
       "      <td>0.6</td>\n",
       "      <td>0.0</td>\n",
       "      <td>1.3</td>\n",
       "      <td>2.5</td>\n",
       "    </tr>\n",
       "    <tr>\n",
       "      <th>Total n</th>\n",
       "      <td>154</td>\n",
       "      <td>157</td>\n",
       "      <td>156</td>\n",
       "      <td>160</td>\n",
       "    </tr>\n",
       "  </tbody>\n",
       "</table>\n",
       "</div>"
      ],
      "text/plain": [
       "condition                            A     B     C Control\n",
       "gone_outside                                              \n",
       "1a. Yes/Yes for any reason        85.7  77.7  73.7    80.6\n",
       "1b. Yes but only when neccessary   0.0   8.3   9.0     0.0\n",
       "2. No                             13.6  14.0  16.0    16.9\n",
       "3. Unsure                          0.6   0.0   1.3     2.5\n",
       "Total n                            154   157   156     160"
      ]
     },
     "metadata": {},
     "output_type": "display_data"
    },
    {
     "data": {
      "text/markdown": [
       "-----"
      ],
      "text/plain": [
       "<IPython.core.display.Markdown object>"
      ]
     },
     "metadata": {},
     "output_type": "display_data"
    }
   ],
   "source": [
    "# raw distributions for cross-tabs\n",
    "for col in expcols:\n",
    "    util.crosstab_chisq(col, 'condition', ext_df, chisqtest=False)"
   ]
  },
  {
   "cell_type": "code",
   "execution_count": 15,
   "metadata": {},
   "outputs": [],
   "source": [
    "# combining 1a, 1b, and 8 together as 1/yes\n",
    "combine_three = {\"1a. Yes/Yes for any reason\": \"1. Yes\", \n",
    "                 \"2. No\": \"2. No\",\n",
    "                 \"1b. Yes but only when neccessary\": \"1. Yes\", \n",
    "                 \"3. Unsure\": \"1. Yes\"}\n",
    "\n",
    "for col in expcols:\n",
    "    ext_df[f'{col}_r'] = ext_df[col].map(combine_three)\n",
    "    \n",
    "recoded_cols = ['gone_to_friend_r', 'had_visitors_r', 'had_close_contact_r', 'gone_outside_r'] # use recoded_cols for further analyses"
   ]
  },
  {
   "cell_type": "code",
   "execution_count": 16,
   "metadata": {},
   "outputs": [
    {
     "data": {
      "text/plain": [
       "Control    160\n",
       "B          157\n",
       "C          156\n",
       "A          154\n",
       "Name: condition, dtype: int64"
      ]
     },
     "execution_count": 16,
     "metadata": {},
     "output_type": "execute_result"
    }
   ],
   "source": [
    "ext_df['condition'].value_counts()"
   ]
  },
  {
   "cell_type": "code",
   "execution_count": 17,
   "metadata": {},
   "outputs": [],
   "source": [
    "# subset data for control vs. particular treatment condition comparisons\n",
    "ext_A = ext_df[ext_df['condition'].isin(['Control', 'A'])]\n",
    "ext_B = ext_df[ext_df['condition'].isin(['Control', 'B'])]\n",
    "ext_C = ext_df[ext_df['condition'].isin(['Control', 'C'])]"
   ]
  },
  {
   "cell_type": "code",
   "execution_count": 18,
   "metadata": {},
   "outputs": [
    {
     "data": {
      "text/html": [
       "<div>\n",
       "<style scoped>\n",
       "    .dataframe tbody tr th:only-of-type {\n",
       "        vertical-align: middle;\n",
       "    }\n",
       "\n",
       "    .dataframe tbody tr th {\n",
       "        vertical-align: top;\n",
       "    }\n",
       "\n",
       "    .dataframe thead th {\n",
       "        text-align: right;\n",
       "    }\n",
       "</style>\n",
       "<table border=\"1\" class=\"dataframe\">\n",
       "  <thead>\n",
       "    <tr style=\"text-align: right;\">\n",
       "      <th>condition</th>\n",
       "      <th>A</th>\n",
       "      <th>Control</th>\n",
       "    </tr>\n",
       "    <tr>\n",
       "      <th>gone_to_friend_r</th>\n",
       "      <th></th>\n",
       "      <th></th>\n",
       "    </tr>\n",
       "  </thead>\n",
       "  <tbody>\n",
       "    <tr>\n",
       "      <th>1. Yes</th>\n",
       "      <td>59.1</td>\n",
       "      <td>61.3</td>\n",
       "    </tr>\n",
       "    <tr>\n",
       "      <th>2. No</th>\n",
       "      <td>40.9</td>\n",
       "      <td>38.8</td>\n",
       "    </tr>\n",
       "    <tr>\n",
       "      <th>Total n</th>\n",
       "      <td>154</td>\n",
       "      <td>160</td>\n",
       "    </tr>\n",
       "  </tbody>\n",
       "</table>\n",
       "</div>"
      ],
      "text/plain": [
       "condition            A Control\n",
       "gone_to_friend_r              \n",
       "1. Yes            59.1    61.3\n",
       "2. No             40.9    38.8\n",
       "Total n            154     160"
      ]
     },
     "metadata": {},
     "output_type": "display_data"
    },
    {
     "data": {
      "text/markdown": [
       "*Chi-squared statistic = 0.1, degree of freedom = 1, p = 0.783*"
      ],
      "text/plain": [
       "<IPython.core.display.Markdown object>"
      ]
     },
     "metadata": {},
     "output_type": "display_data"
    },
    {
     "data": {
      "text/markdown": [
       "-----"
      ],
      "text/plain": [
       "<IPython.core.display.Markdown object>"
      ]
     },
     "metadata": {},
     "output_type": "display_data"
    },
    {
     "data": {
      "text/html": [
       "<div>\n",
       "<style scoped>\n",
       "    .dataframe tbody tr th:only-of-type {\n",
       "        vertical-align: middle;\n",
       "    }\n",
       "\n",
       "    .dataframe tbody tr th {\n",
       "        vertical-align: top;\n",
       "    }\n",
       "\n",
       "    .dataframe thead th {\n",
       "        text-align: right;\n",
       "    }\n",
       "</style>\n",
       "<table border=\"1\" class=\"dataframe\">\n",
       "  <thead>\n",
       "    <tr style=\"text-align: right;\">\n",
       "      <th>condition</th>\n",
       "      <th>A</th>\n",
       "      <th>Control</th>\n",
       "    </tr>\n",
       "    <tr>\n",
       "      <th>had_visitors_r</th>\n",
       "      <th></th>\n",
       "      <th></th>\n",
       "    </tr>\n",
       "  </thead>\n",
       "  <tbody>\n",
       "    <tr>\n",
       "      <th>1. Yes</th>\n",
       "      <td>57.1</td>\n",
       "      <td>51.2</td>\n",
       "    </tr>\n",
       "    <tr>\n",
       "      <th>2. No</th>\n",
       "      <td>42.9</td>\n",
       "      <td>48.8</td>\n",
       "    </tr>\n",
       "    <tr>\n",
       "      <th>Total n</th>\n",
       "      <td>154</td>\n",
       "      <td>160</td>\n",
       "    </tr>\n",
       "  </tbody>\n",
       "</table>\n",
       "</div>"
      ],
      "text/plain": [
       "condition          A Control\n",
       "had_visitors_r              \n",
       "1. Yes          57.1    51.2\n",
       "2. No           42.9    48.8\n",
       "Total n          154     160"
      ]
     },
     "metadata": {},
     "output_type": "display_data"
    },
    {
     "data": {
      "text/markdown": [
       "*Chi-squared statistic = 0.9, degree of freedom = 1, p = 0.35*"
      ],
      "text/plain": [
       "<IPython.core.display.Markdown object>"
      ]
     },
     "metadata": {},
     "output_type": "display_data"
    },
    {
     "data": {
      "text/markdown": [
       "-----"
      ],
      "text/plain": [
       "<IPython.core.display.Markdown object>"
      ]
     },
     "metadata": {},
     "output_type": "display_data"
    },
    {
     "data": {
      "text/html": [
       "<div>\n",
       "<style scoped>\n",
       "    .dataframe tbody tr th:only-of-type {\n",
       "        vertical-align: middle;\n",
       "    }\n",
       "\n",
       "    .dataframe tbody tr th {\n",
       "        vertical-align: top;\n",
       "    }\n",
       "\n",
       "    .dataframe thead th {\n",
       "        text-align: right;\n",
       "    }\n",
       "</style>\n",
       "<table border=\"1\" class=\"dataframe\">\n",
       "  <thead>\n",
       "    <tr style=\"text-align: right;\">\n",
       "      <th>condition</th>\n",
       "      <th>A</th>\n",
       "      <th>Control</th>\n",
       "    </tr>\n",
       "    <tr>\n",
       "      <th>had_close_contact_r</th>\n",
       "      <th></th>\n",
       "      <th></th>\n",
       "    </tr>\n",
       "  </thead>\n",
       "  <tbody>\n",
       "    <tr>\n",
       "      <th>1. Yes</th>\n",
       "      <td>80.5</td>\n",
       "      <td>75.6</td>\n",
       "    </tr>\n",
       "    <tr>\n",
       "      <th>2. No</th>\n",
       "      <td>19.5</td>\n",
       "      <td>24.4</td>\n",
       "    </tr>\n",
       "    <tr>\n",
       "      <th>Total n</th>\n",
       "      <td>154</td>\n",
       "      <td>160</td>\n",
       "    </tr>\n",
       "  </tbody>\n",
       "</table>\n",
       "</div>"
      ],
      "text/plain": [
       "condition               A Control\n",
       "had_close_contact_r              \n",
       "1. Yes               80.5    75.6\n",
       "2. No                19.5    24.4\n",
       "Total n               154     160"
      ]
     },
     "metadata": {},
     "output_type": "display_data"
    },
    {
     "data": {
      "text/markdown": [
       "*Chi-squared statistic = 0.8, degree of freedom = 1, p = 0.362*"
      ],
      "text/plain": [
       "<IPython.core.display.Markdown object>"
      ]
     },
     "metadata": {},
     "output_type": "display_data"
    },
    {
     "data": {
      "text/markdown": [
       "-----"
      ],
      "text/plain": [
       "<IPython.core.display.Markdown object>"
      ]
     },
     "metadata": {},
     "output_type": "display_data"
    },
    {
     "data": {
      "text/html": [
       "<div>\n",
       "<style scoped>\n",
       "    .dataframe tbody tr th:only-of-type {\n",
       "        vertical-align: middle;\n",
       "    }\n",
       "\n",
       "    .dataframe tbody tr th {\n",
       "        vertical-align: top;\n",
       "    }\n",
       "\n",
       "    .dataframe thead th {\n",
       "        text-align: right;\n",
       "    }\n",
       "</style>\n",
       "<table border=\"1\" class=\"dataframe\">\n",
       "  <thead>\n",
       "    <tr style=\"text-align: right;\">\n",
       "      <th>condition</th>\n",
       "      <th>A</th>\n",
       "      <th>Control</th>\n",
       "    </tr>\n",
       "    <tr>\n",
       "      <th>gone_outside_r</th>\n",
       "      <th></th>\n",
       "      <th></th>\n",
       "    </tr>\n",
       "  </thead>\n",
       "  <tbody>\n",
       "    <tr>\n",
       "      <th>1. Yes</th>\n",
       "      <td>86.4</td>\n",
       "      <td>83.1</td>\n",
       "    </tr>\n",
       "    <tr>\n",
       "      <th>2. No</th>\n",
       "      <td>13.6</td>\n",
       "      <td>16.9</td>\n",
       "    </tr>\n",
       "    <tr>\n",
       "      <th>Total n</th>\n",
       "      <td>154</td>\n",
       "      <td>160</td>\n",
       "    </tr>\n",
       "  </tbody>\n",
       "</table>\n",
       "</div>"
      ],
      "text/plain": [
       "condition          A Control\n",
       "gone_outside_r              \n",
       "1. Yes          86.4    83.1\n",
       "2. No           13.6    16.9\n",
       "Total n          154     160"
      ]
     },
     "metadata": {},
     "output_type": "display_data"
    },
    {
     "data": {
      "text/markdown": [
       "*Chi-squared statistic = 0.4, degree of freedom = 1, p = 0.522*"
      ],
      "text/plain": [
       "<IPython.core.display.Markdown object>"
      ]
     },
     "metadata": {},
     "output_type": "display_data"
    },
    {
     "data": {
      "text/markdown": [
       "-----"
      ],
      "text/plain": [
       "<IPython.core.display.Markdown object>"
      ]
     },
     "metadata": {},
     "output_type": "display_data"
    }
   ],
   "source": [
    "# cross-tabs based on recodes\n",
    "for col in recoded_cols:\n",
    "    util.crosstab_chisq(col, 'condition', ext_A, chisqtest=True)"
   ]
  },
  {
   "cell_type": "code",
   "execution_count": 19,
   "metadata": {},
   "outputs": [
    {
     "data": {
      "text/html": [
       "<div>\n",
       "<style scoped>\n",
       "    .dataframe tbody tr th:only-of-type {\n",
       "        vertical-align: middle;\n",
       "    }\n",
       "\n",
       "    .dataframe tbody tr th {\n",
       "        vertical-align: top;\n",
       "    }\n",
       "\n",
       "    .dataframe thead th {\n",
       "        text-align: right;\n",
       "    }\n",
       "</style>\n",
       "<table border=\"1\" class=\"dataframe\">\n",
       "  <thead>\n",
       "    <tr style=\"text-align: right;\">\n",
       "      <th>condition</th>\n",
       "      <th>B</th>\n",
       "      <th>Control</th>\n",
       "    </tr>\n",
       "    <tr>\n",
       "      <th>gone_to_friend_r</th>\n",
       "      <th></th>\n",
       "      <th></th>\n",
       "    </tr>\n",
       "  </thead>\n",
       "  <tbody>\n",
       "    <tr>\n",
       "      <th>1. Yes</th>\n",
       "      <td>65.0</td>\n",
       "      <td>61.3</td>\n",
       "    </tr>\n",
       "    <tr>\n",
       "      <th>2. No</th>\n",
       "      <td>35.0</td>\n",
       "      <td>38.8</td>\n",
       "    </tr>\n",
       "    <tr>\n",
       "      <th>Total n</th>\n",
       "      <td>157</td>\n",
       "      <td>160</td>\n",
       "    </tr>\n",
       "  </tbody>\n",
       "</table>\n",
       "</div>"
      ],
      "text/plain": [
       "condition            B Control\n",
       "gone_to_friend_r              \n",
       "1. Yes            65.0    61.3\n",
       "2. No             35.0    38.8\n",
       "Total n            157     160"
      ]
     },
     "metadata": {},
     "output_type": "display_data"
    },
    {
     "data": {
      "text/markdown": [
       "*Chi-squared statistic = 0.3, degree of freedom = 1, p = 0.569*"
      ],
      "text/plain": [
       "<IPython.core.display.Markdown object>"
      ]
     },
     "metadata": {},
     "output_type": "display_data"
    },
    {
     "data": {
      "text/markdown": [
       "-----"
      ],
      "text/plain": [
       "<IPython.core.display.Markdown object>"
      ]
     },
     "metadata": {},
     "output_type": "display_data"
    },
    {
     "data": {
      "text/html": [
       "<div>\n",
       "<style scoped>\n",
       "    .dataframe tbody tr th:only-of-type {\n",
       "        vertical-align: middle;\n",
       "    }\n",
       "\n",
       "    .dataframe tbody tr th {\n",
       "        vertical-align: top;\n",
       "    }\n",
       "\n",
       "    .dataframe thead th {\n",
       "        text-align: right;\n",
       "    }\n",
       "</style>\n",
       "<table border=\"1\" class=\"dataframe\">\n",
       "  <thead>\n",
       "    <tr style=\"text-align: right;\">\n",
       "      <th>condition</th>\n",
       "      <th>B</th>\n",
       "      <th>Control</th>\n",
       "    </tr>\n",
       "    <tr>\n",
       "      <th>had_visitors_r</th>\n",
       "      <th></th>\n",
       "      <th></th>\n",
       "    </tr>\n",
       "  </thead>\n",
       "  <tbody>\n",
       "    <tr>\n",
       "      <th>1. Yes</th>\n",
       "      <td>61.8</td>\n",
       "      <td>51.2</td>\n",
       "    </tr>\n",
       "    <tr>\n",
       "      <th>2. No</th>\n",
       "      <td>38.2</td>\n",
       "      <td>48.8</td>\n",
       "    </tr>\n",
       "    <tr>\n",
       "      <th>Total n</th>\n",
       "      <td>157</td>\n",
       "      <td>160</td>\n",
       "    </tr>\n",
       "  </tbody>\n",
       "</table>\n",
       "</div>"
      ],
      "text/plain": [
       "condition          B Control\n",
       "had_visitors_r              \n",
       "1. Yes          61.8    51.2\n",
       "2. No           38.2    48.8\n",
       "Total n          157     160"
      ]
     },
     "metadata": {},
     "output_type": "display_data"
    },
    {
     "data": {
      "text/markdown": [
       "*Chi-squared statistic = 3.2, degree of freedom = 1, p = 0.075*"
      ],
      "text/plain": [
       "<IPython.core.display.Markdown object>"
      ]
     },
     "metadata": {},
     "output_type": "display_data"
    },
    {
     "data": {
      "text/markdown": [
       "-----"
      ],
      "text/plain": [
       "<IPython.core.display.Markdown object>"
      ]
     },
     "metadata": {},
     "output_type": "display_data"
    },
    {
     "data": {
      "text/html": [
       "<div>\n",
       "<style scoped>\n",
       "    .dataframe tbody tr th:only-of-type {\n",
       "        vertical-align: middle;\n",
       "    }\n",
       "\n",
       "    .dataframe tbody tr th {\n",
       "        vertical-align: top;\n",
       "    }\n",
       "\n",
       "    .dataframe thead th {\n",
       "        text-align: right;\n",
       "    }\n",
       "</style>\n",
       "<table border=\"1\" class=\"dataframe\">\n",
       "  <thead>\n",
       "    <tr style=\"text-align: right;\">\n",
       "      <th>condition</th>\n",
       "      <th>B</th>\n",
       "      <th>Control</th>\n",
       "    </tr>\n",
       "    <tr>\n",
       "      <th>had_close_contact_r</th>\n",
       "      <th></th>\n",
       "      <th></th>\n",
       "    </tr>\n",
       "  </thead>\n",
       "  <tbody>\n",
       "    <tr>\n",
       "      <th>1. Yes</th>\n",
       "      <td>79.6</td>\n",
       "      <td>75.6</td>\n",
       "    </tr>\n",
       "    <tr>\n",
       "      <th>2. No</th>\n",
       "      <td>20.4</td>\n",
       "      <td>24.4</td>\n",
       "    </tr>\n",
       "    <tr>\n",
       "      <th>Total n</th>\n",
       "      <td>157</td>\n",
       "      <td>160</td>\n",
       "    </tr>\n",
       "  </tbody>\n",
       "</table>\n",
       "</div>"
      ],
      "text/plain": [
       "condition               B Control\n",
       "had_close_contact_r              \n",
       "1. Yes               79.6    75.6\n",
       "2. No                20.4    24.4\n",
       "Total n               157     160"
      ]
     },
     "metadata": {},
     "output_type": "display_data"
    },
    {
     "data": {
      "text/markdown": [
       "*Chi-squared statistic = 0.5, degree of freedom = 1, p = 0.473*"
      ],
      "text/plain": [
       "<IPython.core.display.Markdown object>"
      ]
     },
     "metadata": {},
     "output_type": "display_data"
    },
    {
     "data": {
      "text/markdown": [
       "-----"
      ],
      "text/plain": [
       "<IPython.core.display.Markdown object>"
      ]
     },
     "metadata": {},
     "output_type": "display_data"
    },
    {
     "data": {
      "text/html": [
       "<div>\n",
       "<style scoped>\n",
       "    .dataframe tbody tr th:only-of-type {\n",
       "        vertical-align: middle;\n",
       "    }\n",
       "\n",
       "    .dataframe tbody tr th {\n",
       "        vertical-align: top;\n",
       "    }\n",
       "\n",
       "    .dataframe thead th {\n",
       "        text-align: right;\n",
       "    }\n",
       "</style>\n",
       "<table border=\"1\" class=\"dataframe\">\n",
       "  <thead>\n",
       "    <tr style=\"text-align: right;\">\n",
       "      <th>condition</th>\n",
       "      <th>B</th>\n",
       "      <th>Control</th>\n",
       "    </tr>\n",
       "    <tr>\n",
       "      <th>gone_outside_r</th>\n",
       "      <th></th>\n",
       "      <th></th>\n",
       "    </tr>\n",
       "  </thead>\n",
       "  <tbody>\n",
       "    <tr>\n",
       "      <th>1. Yes</th>\n",
       "      <td>86.0</td>\n",
       "      <td>83.1</td>\n",
       "    </tr>\n",
       "    <tr>\n",
       "      <th>2. No</th>\n",
       "      <td>14.0</td>\n",
       "      <td>16.9</td>\n",
       "    </tr>\n",
       "    <tr>\n",
       "      <th>Total n</th>\n",
       "      <td>157</td>\n",
       "      <td>160</td>\n",
       "    </tr>\n",
       "  </tbody>\n",
       "</table>\n",
       "</div>"
      ],
      "text/plain": [
       "condition          B Control\n",
       "gone_outside_r              \n",
       "1. Yes          86.0    83.1\n",
       "2. No           14.0    16.9\n",
       "Total n          157     160"
      ]
     },
     "metadata": {},
     "output_type": "display_data"
    },
    {
     "data": {
      "text/markdown": [
       "*Chi-squared statistic = 0.3, degree of freedom = 1, p = 0.583*"
      ],
      "text/plain": [
       "<IPython.core.display.Markdown object>"
      ]
     },
     "metadata": {},
     "output_type": "display_data"
    },
    {
     "data": {
      "text/markdown": [
       "-----"
      ],
      "text/plain": [
       "<IPython.core.display.Markdown object>"
      ]
     },
     "metadata": {},
     "output_type": "display_data"
    }
   ],
   "source": [
    "# cross-tabs based on recodes\n",
    "for col in recoded_cols:\n",
    "    util.crosstab_chisq(col, 'condition', ext_B, chisqtest=True)"
   ]
  },
  {
   "cell_type": "code",
   "execution_count": 20,
   "metadata": {},
   "outputs": [
    {
     "data": {
      "text/html": [
       "<div>\n",
       "<style scoped>\n",
       "    .dataframe tbody tr th:only-of-type {\n",
       "        vertical-align: middle;\n",
       "    }\n",
       "\n",
       "    .dataframe tbody tr th {\n",
       "        vertical-align: top;\n",
       "    }\n",
       "\n",
       "    .dataframe thead th {\n",
       "        text-align: right;\n",
       "    }\n",
       "</style>\n",
       "<table border=\"1\" class=\"dataframe\">\n",
       "  <thead>\n",
       "    <tr style=\"text-align: right;\">\n",
       "      <th>condition</th>\n",
       "      <th>C</th>\n",
       "      <th>Control</th>\n",
       "    </tr>\n",
       "    <tr>\n",
       "      <th>gone_to_friend_r</th>\n",
       "      <th></th>\n",
       "      <th></th>\n",
       "    </tr>\n",
       "  </thead>\n",
       "  <tbody>\n",
       "    <tr>\n",
       "      <th>1. Yes</th>\n",
       "      <td>62.8</td>\n",
       "      <td>61.3</td>\n",
       "    </tr>\n",
       "    <tr>\n",
       "      <th>2. No</th>\n",
       "      <td>37.2</td>\n",
       "      <td>38.8</td>\n",
       "    </tr>\n",
       "    <tr>\n",
       "      <th>Total n</th>\n",
       "      <td>156</td>\n",
       "      <td>160</td>\n",
       "    </tr>\n",
       "  </tbody>\n",
       "</table>\n",
       "</div>"
      ],
      "text/plain": [
       "condition            C Control\n",
       "gone_to_friend_r              \n",
       "1. Yes            62.8    61.3\n",
       "2. No             37.2    38.8\n",
       "Total n            156     160"
      ]
     },
     "metadata": {},
     "output_type": "display_data"
    },
    {
     "data": {
      "text/markdown": [
       "*Chi-squared statistic = 0.0, degree of freedom = 1, p = 0.864*"
      ],
      "text/plain": [
       "<IPython.core.display.Markdown object>"
      ]
     },
     "metadata": {},
     "output_type": "display_data"
    },
    {
     "data": {
      "text/markdown": [
       "-----"
      ],
      "text/plain": [
       "<IPython.core.display.Markdown object>"
      ]
     },
     "metadata": {},
     "output_type": "display_data"
    },
    {
     "data": {
      "text/html": [
       "<div>\n",
       "<style scoped>\n",
       "    .dataframe tbody tr th:only-of-type {\n",
       "        vertical-align: middle;\n",
       "    }\n",
       "\n",
       "    .dataframe tbody tr th {\n",
       "        vertical-align: top;\n",
       "    }\n",
       "\n",
       "    .dataframe thead th {\n",
       "        text-align: right;\n",
       "    }\n",
       "</style>\n",
       "<table border=\"1\" class=\"dataframe\">\n",
       "  <thead>\n",
       "    <tr style=\"text-align: right;\">\n",
       "      <th>condition</th>\n",
       "      <th>C</th>\n",
       "      <th>Control</th>\n",
       "    </tr>\n",
       "    <tr>\n",
       "      <th>had_visitors_r</th>\n",
       "      <th></th>\n",
       "      <th></th>\n",
       "    </tr>\n",
       "  </thead>\n",
       "  <tbody>\n",
       "    <tr>\n",
       "      <th>1. Yes</th>\n",
       "      <td>65.4</td>\n",
       "      <td>51.2</td>\n",
       "    </tr>\n",
       "    <tr>\n",
       "      <th>2. No</th>\n",
       "      <td>34.6</td>\n",
       "      <td>48.8</td>\n",
       "    </tr>\n",
       "    <tr>\n",
       "      <th>Total n</th>\n",
       "      <td>156</td>\n",
       "      <td>160</td>\n",
       "    </tr>\n",
       "  </tbody>\n",
       "</table>\n",
       "</div>"
      ],
      "text/plain": [
       "condition          C Control\n",
       "had_visitors_r              \n",
       "1. Yes          65.4    51.2\n",
       "2. No           34.6    48.8\n",
       "Total n          156     160"
      ]
     },
     "metadata": {},
     "output_type": "display_data"
    },
    {
     "data": {
      "text/markdown": [
       "*Chi-squared statistic = 5.9, degree of freedom = 1, p = 0.015*"
      ],
      "text/plain": [
       "<IPython.core.display.Markdown object>"
      ]
     },
     "metadata": {},
     "output_type": "display_data"
    },
    {
     "data": {
      "text/markdown": [
       "-----"
      ],
      "text/plain": [
       "<IPython.core.display.Markdown object>"
      ]
     },
     "metadata": {},
     "output_type": "display_data"
    },
    {
     "data": {
      "text/html": [
       "<div>\n",
       "<style scoped>\n",
       "    .dataframe tbody tr th:only-of-type {\n",
       "        vertical-align: middle;\n",
       "    }\n",
       "\n",
       "    .dataframe tbody tr th {\n",
       "        vertical-align: top;\n",
       "    }\n",
       "\n",
       "    .dataframe thead th {\n",
       "        text-align: right;\n",
       "    }\n",
       "</style>\n",
       "<table border=\"1\" class=\"dataframe\">\n",
       "  <thead>\n",
       "    <tr style=\"text-align: right;\">\n",
       "      <th>condition</th>\n",
       "      <th>C</th>\n",
       "      <th>Control</th>\n",
       "    </tr>\n",
       "    <tr>\n",
       "      <th>had_close_contact_r</th>\n",
       "      <th></th>\n",
       "      <th></th>\n",
       "    </tr>\n",
       "  </thead>\n",
       "  <tbody>\n",
       "    <tr>\n",
       "      <th>1. Yes</th>\n",
       "      <td>80.1</td>\n",
       "      <td>75.6</td>\n",
       "    </tr>\n",
       "    <tr>\n",
       "      <th>2. No</th>\n",
       "      <td>19.9</td>\n",
       "      <td>24.4</td>\n",
       "    </tr>\n",
       "    <tr>\n",
       "      <th>Total n</th>\n",
       "      <td>156</td>\n",
       "      <td>160</td>\n",
       "    </tr>\n",
       "  </tbody>\n",
       "</table>\n",
       "</div>"
      ],
      "text/plain": [
       "condition               C Control\n",
       "had_close_contact_r              \n",
       "1. Yes               80.1    75.6\n",
       "2. No                19.9    24.4\n",
       "Total n               156     160"
      ]
     },
     "metadata": {},
     "output_type": "display_data"
    },
    {
     "data": {
      "text/markdown": [
       "*Chi-squared statistic = 0.7, degree of freedom = 1, p = 0.408*"
      ],
      "text/plain": [
       "<IPython.core.display.Markdown object>"
      ]
     },
     "metadata": {},
     "output_type": "display_data"
    },
    {
     "data": {
      "text/markdown": [
       "-----"
      ],
      "text/plain": [
       "<IPython.core.display.Markdown object>"
      ]
     },
     "metadata": {},
     "output_type": "display_data"
    },
    {
     "data": {
      "text/html": [
       "<div>\n",
       "<style scoped>\n",
       "    .dataframe tbody tr th:only-of-type {\n",
       "        vertical-align: middle;\n",
       "    }\n",
       "\n",
       "    .dataframe tbody tr th {\n",
       "        vertical-align: top;\n",
       "    }\n",
       "\n",
       "    .dataframe thead th {\n",
       "        text-align: right;\n",
       "    }\n",
       "</style>\n",
       "<table border=\"1\" class=\"dataframe\">\n",
       "  <thead>\n",
       "    <tr style=\"text-align: right;\">\n",
       "      <th>condition</th>\n",
       "      <th>C</th>\n",
       "      <th>Control</th>\n",
       "    </tr>\n",
       "    <tr>\n",
       "      <th>gone_outside_r</th>\n",
       "      <th></th>\n",
       "      <th></th>\n",
       "    </tr>\n",
       "  </thead>\n",
       "  <tbody>\n",
       "    <tr>\n",
       "      <th>1. Yes</th>\n",
       "      <td>84.0</td>\n",
       "      <td>83.1</td>\n",
       "    </tr>\n",
       "    <tr>\n",
       "      <th>2. No</th>\n",
       "      <td>16.0</td>\n",
       "      <td>16.9</td>\n",
       "    </tr>\n",
       "    <tr>\n",
       "      <th>Total n</th>\n",
       "      <td>156</td>\n",
       "      <td>160</td>\n",
       "    </tr>\n",
       "  </tbody>\n",
       "</table>\n",
       "</div>"
      ],
      "text/plain": [
       "condition          C Control\n",
       "gone_outside_r              \n",
       "1. Yes          84.0    83.1\n",
       "2. No           16.0    16.9\n",
       "Total n          156     160"
      ]
     },
     "metadata": {},
     "output_type": "display_data"
    },
    {
     "data": {
      "text/markdown": [
       "*Chi-squared statistic = 0.0, degree of freedom = 1, p = 0.959*"
      ],
      "text/plain": [
       "<IPython.core.display.Markdown object>"
      ]
     },
     "metadata": {},
     "output_type": "display_data"
    },
    {
     "data": {
      "text/markdown": [
       "-----"
      ],
      "text/plain": [
       "<IPython.core.display.Markdown object>"
      ]
     },
     "metadata": {},
     "output_type": "display_data"
    }
   ],
   "source": [
    "# cross-tabs based on recodes\n",
    "for col in recoded_cols:\n",
    "    util.crosstab_chisq(col, 'condition', ext_C, chisqtest=True)"
   ]
  },
  {
   "cell_type": "markdown",
   "metadata": {},
   "source": [
    "### 3) testing interactions"
   ]
  },
  {
   "cell_type": "code",
   "execution_count": 21,
   "metadata": {},
   "outputs": [],
   "source": [
    "ext_df['condition_r'] = np.nan\n",
    "ext_df.loc[ext_df['condition']=='Control', ['condition_r']] = 1 # Control\n",
    "ext_df.loc[ext_df['condition']=='A', ['condition_r']] = 2 # condition A\n",
    "ext_df.loc[ext_df['condition']=='B', ['condition_r']] = 3 # condition B\n",
    "ext_df.loc[ext_df['condition']=='C', ['condition_r']] = 4 # condition B"
   ]
  },
  {
   "cell_type": "code",
   "execution_count": 22,
   "metadata": {},
   "outputs": [],
   "source": [
    "# recode y as numerics\n",
    "for col in recoded_cols:\n",
    "    ext_df[col] = ext_df[[col]].replace(['1. Yes'], [1]) # yes have done the mentioned behavior\n",
    "    ext_df[col] = ext_df[[col]].replace(['2. No'], [0]) # no haven not done the mentioned behavior"
   ]
  },
  {
   "cell_type": "code",
   "execution_count": 23,
   "metadata": {},
   "outputs": [
    {
     "data": {
      "text/plain": [
       "1.0    160\n",
       "3.0    157\n",
       "4.0    156\n",
       "2.0    154\n",
       "Name: condition_r, dtype: int64"
      ]
     },
     "execution_count": 23,
     "metadata": {},
     "output_type": "execute_result"
    }
   ],
   "source": [
    "ext_df['condition_r'].value_counts()"
   ]
  },
  {
   "cell_type": "code",
   "execution_count": 24,
   "metadata": {},
   "outputs": [
    {
     "data": {
      "text/plain": [
       "['gone_to_friend_r', 'had_visitors_r', 'had_close_contact_r', 'gone_outside_r']"
      ]
     },
     "execution_count": 24,
     "metadata": {},
     "output_type": "execute_result"
    }
   ],
   "source": [
    "recoded_cols"
   ]
  },
  {
   "cell_type": "code",
   "execution_count": 25,
   "metadata": {},
   "outputs": [],
   "source": [
    "# use R for logistic regression tables\n",
    "%load_ext rpy2.ipython"
   ]
  },
  {
   "cell_type": "code",
   "execution_count": 26,
   "metadata": {},
   "outputs": [
    {
     "name": "stdout",
     "output_type": "stream",
     "text": [
      "[1] \"GONE TO FRIEND - SEX\"\n",
      "\n",
      "Call:\n",
      "glm(formula = gone_to_friend_r ~ factor(condition_r) * factor(gender_r), \n",
      "    family = binomial, data = ext_df)\n",
      "\n",
      "Deviance Residuals: \n",
      "    Min       1Q   Median       3Q      Max  \n",
      "-1.5585  -1.3683   0.8672   0.9767   1.0923  \n",
      "\n",
      "Coefficients:\n",
      "                                       Estimate Std. Error z value Pr(>|z|)  \n",
      "(Intercept)                             0.49248    0.27061   1.820   0.0688 .\n",
      "factor(condition_r)2                   -0.28888    0.36305  -0.796   0.4262  \n",
      "factor(condition_r)3                    0.29164    0.37761   0.772   0.4399  \n",
      "factor(condition_r)4                    0.36975    0.38482   0.961   0.3366  \n",
      "factor(gender_r)2                      -0.05422    0.33817  -0.160   0.8726  \n",
      "factor(condition_r)2:factor(gender_r)2  0.35518    0.47229   0.752   0.4520  \n",
      "factor(condition_r)3:factor(gender_r)2 -0.23091    0.48061  -0.480   0.6309  \n",
      "factor(condition_r)4:factor(gender_r)2 -0.50127    0.48345  -1.037   0.2998  \n",
      "---\n",
      "Signif. codes:  0 '***' 0.001 '**' 0.01 '*' 0.05 '.' 0.1 ' ' 1\n",
      "\n",
      "(Dispersion parameter for binomial family taken to be 1)\n",
      "\n",
      "    Null deviance: 832.48  on 626  degrees of freedom\n",
      "Residual deviance: 827.05  on 619  degrees of freedom\n",
      "AIC: 843.05\n",
      "\n",
      "Number of Fisher Scoring iterations: 4\n",
      "\n"
     ]
    }
   ],
   "source": [
    "%%R -i ext_df\n",
    "print('GONE TO FRIEND - SEX')\n",
    "summary(glm(gone_to_friend_r ~ factor(condition_r) * factor(gender_r), family=binomial, data=ext_df))"
   ]
  },
  {
   "cell_type": "code",
   "execution_count": 27,
   "metadata": {},
   "outputs": [
    {
     "name": "stdout",
     "output_type": "stream",
     "text": [
      "[1] \"GONE TO FRIEND - MARITAL\"\n",
      "\n",
      "Call:\n",
      "glm(formula = gone_to_friend_r ~ factor(condition_r) * factor(marital_r), \n",
      "    family = binomial, data = ext_df)\n",
      "\n",
      "Deviance Residuals: \n",
      "    Min       1Q   Median       3Q      Max  \n",
      "-1.5103  -1.3572   0.8777   0.9813   1.1054  \n",
      "\n",
      "Coefficients:\n",
      "                                        Estimate Std. Error z value Pr(>|z|)  \n",
      "(Intercept)                              0.41319    0.19657   2.102   0.0356 *\n",
      "factor(condition_r)2                    -0.12551    0.27404  -0.458   0.6470  \n",
      "factor(condition_r)3                     0.34209    0.27628   1.238   0.2156  \n",
      "factor(condition_r)4                     0.06740    0.27032   0.249   0.8031  \n",
      "factor(marital_r)2                       0.13888    0.34868   0.398   0.6904  \n",
      "factor(condition_r)2:factor(marital_r)2  0.16122    0.51160   0.315   0.7527  \n",
      "factor(condition_r)3:factor(marital_r)2 -0.72231    0.52383  -1.379   0.1679  \n",
      "factor(condition_r)4:factor(marital_r)2  0.07368    0.54072   0.136   0.8916  \n",
      "---\n",
      "Signif. codes:  0 '***' 0.001 '**' 0.01 '*' 0.05 '.' 0.1 ' ' 1\n",
      "\n",
      "(Dispersion parameter for binomial family taken to be 1)\n",
      "\n",
      "    Null deviance: 832.48  on 626  degrees of freedom\n",
      "Residual deviance: 827.98  on 619  degrees of freedom\n",
      "AIC: 843.98\n",
      "\n",
      "Number of Fisher Scoring iterations: 4\n",
      "\n"
     ]
    }
   ],
   "source": [
    "%%R -i ext_df\n",
    "print('GONE TO FRIEND - MARITAL')\n",
    "summary(glm(gone_to_friend_r ~ factor(condition_r) * factor(marital_r), family=binomial, data=ext_df))"
   ]
  },
  {
   "cell_type": "code",
   "execution_count": 28,
   "metadata": {},
   "outputs": [
    {
     "name": "stdout",
     "output_type": "stream",
     "text": [
      "[1] \"GONE TO FRIEND - AGE_GROUP\"\n",
      "\n",
      "Call:\n",
      "glm(formula = gone_to_friend_r ~ factor(condition_r) * factor(age_group_r), \n",
      "    family = binomial, data = ext_df)\n",
      "\n",
      "Deviance Residuals: \n",
      "    Min       1Q   Median       3Q      Max  \n",
      "-1.5829  -1.2814   0.8620   0.9205   1.2299  \n",
      "\n",
      "Coefficients:\n",
      "                                            Estimate Std. Error z value\n",
      "(Intercept)                                6.931e-01  2.970e-01   2.333\n",
      "factor(condition_r)2                       1.452e-01  4.216e-01   0.344\n",
      "factor(condition_r)3                      -8.816e-16  3.955e-01   0.000\n",
      "factor(condition_r)4                       1.054e-01  4.108e-01   0.256\n",
      "factor(age_group_r)2                      -4.652e-02  3.969e-01  -0.117\n",
      "factor(age_group_r)3                      -7.376e-01  4.209e-01  -1.752\n",
      "factor(condition_r)2:factor(age_group_r)2 -5.506e-01  5.729e-01  -0.961\n",
      "factor(condition_r)3:factor(age_group_r)2 -1.410e-02  5.619e-01  -0.025\n",
      "factor(condition_r)4:factor(age_group_r)2  1.643e-01  5.814e-01   0.283\n",
      "factor(condition_r)2:factor(age_group_r)3 -6.151e-02  5.875e-01  -0.105\n",
      "factor(condition_r)3:factor(age_group_r)3  5.300e-01  5.885e-01   0.901\n",
      "factor(condition_r)4:factor(age_group_r)3 -1.835e-01  5.828e-01  -0.315\n",
      "                                          Pr(>|z|)  \n",
      "(Intercept)                                 0.0196 *\n",
      "factor(condition_r)2                        0.7306  \n",
      "factor(condition_r)3                        1.0000  \n",
      "factor(condition_r)4                        0.7976  \n",
      "factor(age_group_r)2                        0.9067  \n",
      "factor(age_group_r)3                        0.0797 .\n",
      "factor(condition_r)2:factor(age_group_r)2   0.3365  \n",
      "factor(condition_r)3:factor(age_group_r)2   0.9800  \n",
      "factor(condition_r)4:factor(age_group_r)2   0.7775  \n",
      "factor(condition_r)2:factor(age_group_r)3   0.9166  \n",
      "factor(condition_r)3:factor(age_group_r)3   0.3678  \n",
      "factor(condition_r)4:factor(age_group_r)3   0.7529  \n",
      "---\n",
      "Signif. codes:  0 '***' 0.001 '**' 0.01 '*' 0.05 '.' 0.1 ' ' 1\n",
      "\n",
      "(Dispersion parameter for binomial family taken to be 1)\n",
      "\n",
      "    Null deviance: 832.48  on 626  degrees of freedom\n",
      "Residual deviance: 815.17  on 615  degrees of freedom\n",
      "AIC: 839.17\n",
      "\n",
      "Number of Fisher Scoring iterations: 4\n",
      "\n"
     ]
    }
   ],
   "source": [
    "%%R -i ext_df\n",
    "print('GONE TO FRIEND - AGE_GROUP')\n",
    "summary(glm(gone_to_friend_r ~ factor(condition_r) * factor(age_group_r), family=binomial, data=ext_df))"
   ]
  },
  {
   "cell_type": "code",
   "execution_count": 29,
   "metadata": {},
   "outputs": [
    {
     "name": "stdout",
     "output_type": "stream",
     "text": [
      "[1] \"GONE TO FRIEND - EDUCATION\"\n",
      "\n",
      "Call:\n",
      "glm(formula = gone_to_friend_r ~ factor(condition_r) * factor(education_r), \n",
      "    family = binomial, data = ext_df)\n",
      "\n",
      "Deviance Residuals: \n",
      "    Min       1Q   Median       3Q      Max  \n",
      "-1.5546  -1.3537   0.9558   0.9758   1.1054  \n",
      "\n",
      "Coefficients:\n",
      "                                            Estimate Std. Error z value\n",
      "(Intercept)                                5.465e-01  2.187e-01   2.499\n",
      "factor(condition_r)2                      -1.024e-02  3.146e-01  -0.033\n",
      "factor(condition_r)3                       3.069e-01  3.314e-01   0.926\n",
      "factor(condition_r)4                      -5.851e-15  3.093e-01   0.000\n",
      "factor(education_r)2                      -2.003e-01  3.267e-01  -0.613\n",
      "factor(condition_r)2:factor(education_r)2 -1.642e-01  4.641e-01  -0.354\n",
      "factor(condition_r)3:factor(education_r)2 -2.478e-01  4.699e-01  -0.527\n",
      "factor(condition_r)4:factor(education_r)2  1.484e-01  4.679e-01   0.317\n",
      "                                          Pr(>|z|)  \n",
      "(Intercept)                                 0.0125 *\n",
      "factor(condition_r)2                        0.9740  \n",
      "factor(condition_r)3                        0.3544  \n",
      "factor(condition_r)4                        1.0000  \n",
      "factor(education_r)2                        0.5399  \n",
      "factor(condition_r)2:factor(education_r)2   0.7235  \n",
      "factor(condition_r)3:factor(education_r)2   0.5980  \n",
      "factor(condition_r)4:factor(education_r)2   0.7511  \n",
      "---\n",
      "Signif. codes:  0 '***' 0.001 '**' 0.01 '*' 0.05 '.' 0.1 ' ' 1\n",
      "\n",
      "(Dispersion parameter for binomial family taken to be 1)\n",
      "\n",
      "    Null deviance: 832.48  on 626  degrees of freedom\n",
      "Residual deviance: 827.86  on 619  degrees of freedom\n",
      "AIC: 843.86\n",
      "\n",
      "Number of Fisher Scoring iterations: 4\n",
      "\n"
     ]
    }
   ],
   "source": [
    "%%R -i ext_df\n",
    "print('GONE TO FRIEND - EDUCATION')\n",
    "summary(glm(gone_to_friend_r ~ factor(condition_r) * factor(education_r), family=binomial, data=ext_df))"
   ]
  },
  {
   "cell_type": "code",
   "execution_count": 30,
   "metadata": {},
   "outputs": [
    {
     "name": "stdout",
     "output_type": "stream",
     "text": [
      "[1] \"HAD VISITORS - SEX\"\n",
      "\n",
      "Call:\n",
      "glm(formula = had_visitors_r ~ factor(condition_r) * factor(gender_r), \n",
      "    family = binomial, data = ext_df)\n",
      "\n",
      "Deviance Residuals: \n",
      "    Min       1Q   Median       3Q      Max  \n",
      "-1.6651  -1.2540   0.8167   1.0620   1.2109  \n",
      "\n",
      "Coefficients:\n",
      "                                       Estimate Std. Error z value Pr(>|z|)  \n",
      "(Intercept)                             0.27763    0.26515   1.047   0.2951  \n",
      "factor(condition_r)2                    0.22547    0.36335   0.621   0.5349  \n",
      "factor(condition_r)3                    0.64913    0.37917   1.712   0.0869 .\n",
      "factor(condition_r)4                    0.82098    0.39196   2.095   0.0362 *\n",
      "factor(gender_r)2                      -0.35610    0.33103  -1.076   0.2820  \n",
      "factor(condition_r)2:factor(gender_r)2 -0.02922    0.46746  -0.063   0.9502  \n",
      "factor(condition_r)3:factor(gender_r)2 -0.39241    0.47733  -0.822   0.4110  \n",
      "factor(condition_r)4:factor(gender_r)2 -0.39111    0.48759  -0.802   0.4225  \n",
      "---\n",
      "Signif. codes:  0 '***' 0.001 '**' 0.01 '*' 0.05 '.' 0.1 ' ' 1\n",
      "\n",
      "(Dispersion parameter for binomial family taken to be 1)\n",
      "\n",
      "    Null deviance: 849.45  on 626  degrees of freedom\n",
      "Residual deviance: 830.19  on 619  degrees of freedom\n",
      "AIC: 846.19\n",
      "\n",
      "Number of Fisher Scoring iterations: 4\n",
      "\n"
     ]
    }
   ],
   "source": [
    "%%R -i ext_df\n",
    "print('HAD VISITORS - SEX')\n",
    "summary(glm(had_visitors_r ~ factor(condition_r) * factor(gender_r), family=binomial, data=ext_df))"
   ]
  },
  {
   "cell_type": "code",
   "execution_count": 31,
   "metadata": {},
   "outputs": [
    {
     "name": "stdout",
     "output_type": "stream",
     "text": [
      "[1] \"HAD VISITORS - MARITAL\"\n",
      "\n",
      "Call:\n",
      "glm(formula = had_visitors_r ~ factor(condition_r) * factor(marital_r), \n",
      "    family = binomial, data = ext_df)\n",
      "\n",
      "Deviance Residuals: \n",
      "    Min       1Q   Median       3Q      Max  \n",
      "-1.4934  -1.3232   0.8914   1.0284   1.4190  \n",
      "\n",
      "Coefficients:\n",
      "                                        Estimate Std. Error z value Pr(>|z|)  \n",
      "(Intercept)                              0.33647    0.19518   1.724   0.0847 .\n",
      "factor(condition_r)2                     0.02454    0.27384   0.090   0.9286  \n",
      "factor(condition_r)3                     0.38137    0.27439   1.390   0.1646  \n",
      "factor(condition_r)4                     0.28435    0.27176   1.046   0.2954  \n",
      "factor(marital_r)2                      -0.88854    0.34789  -2.554   0.0106 *\n",
      "factor(condition_r)2:factor(marital_r)2  0.62284    0.50336   1.237   0.2160  \n",
      "factor(condition_r)3:factor(marital_r)2 -0.11698    0.52430  -0.223   0.8234  \n",
      "factor(condition_r)4:factor(marital_r)2  0.96086    0.54143   1.775   0.0760 .\n",
      "---\n",
      "Signif. codes:  0 '***' 0.001 '**' 0.01 '*' 0.05 '.' 0.1 ' ' 1\n",
      "\n",
      "(Dispersion parameter for binomial family taken to be 1)\n",
      "\n",
      "    Null deviance: 849.45  on 626  degrees of freedom\n",
      "Residual deviance: 828.17  on 619  degrees of freedom\n",
      "AIC: 844.17\n",
      "\n",
      "Number of Fisher Scoring iterations: 4\n",
      "\n"
     ]
    }
   ],
   "source": [
    "%%R -i ext_df\n",
    "print('HAD VISITORS - MARITAL')\n",
    "summary(glm(had_visitors_r ~ factor(condition_r) * factor(marital_r), family=binomial, data=ext_df))"
   ]
  },
  {
   "cell_type": "code",
   "execution_count": 32,
   "metadata": {},
   "outputs": [
    {
     "name": "stdout",
     "output_type": "stream",
     "text": [
      "[1] \"HAD VISITORS - AGE_GROUP\"\n",
      "\n",
      "Call:\n",
      "glm(formula = had_visitors_r ~ factor(condition_r) * factor(age_group_r), \n",
      "    family = binomial, data = ext_df)\n",
      "\n",
      "Deviance Residuals: \n",
      "    Min       1Q   Median       3Q      Max  \n",
      "-1.6446  -1.2655   0.9005   1.0579   1.2735  \n",
      "\n",
      "Coefficients:\n",
      "                                           Estimate Std. Error z value Pr(>|z|)\n",
      "(Intercept)                                0.438255   0.286807   1.528    0.127\n",
      "factor(condition_r)2                       0.062520   0.403189   0.155    0.877\n",
      "factor(condition_r)3                       0.121361   0.384362   0.316    0.752\n",
      "factor(condition_r)4                       0.614895   0.414946   1.482    0.138\n",
      "factor(age_group_r)2                      -0.500775   0.380551  -1.316    0.188\n",
      "factor(age_group_r)3                      -0.661398   0.415040  -1.594    0.111\n",
      "factor(condition_r)2:factor(age_group_r)2  0.080043   0.552495   0.145    0.885\n",
      "factor(condition_r)3:factor(age_group_r)2  0.145954   0.541098   0.270    0.787\n",
      "factor(condition_r)4:factor(age_group_r)2 -0.008759   0.567939  -0.015    0.988\n",
      "factor(condition_r)2:factor(age_group_r)3  0.436877   0.576627   0.758    0.449\n",
      "factor(condition_r)3:factor(age_group_r)3  0.794930   0.587262   1.354    0.176\n",
      "factor(condition_r)4:factor(age_group_r)3 -0.104069   0.587804  -0.177    0.859\n",
      "\n",
      "(Dispersion parameter for binomial family taken to be 1)\n",
      "\n",
      "    Null deviance: 849.45  on 626  degrees of freedom\n",
      "Residual deviance: 833.10  on 615  degrees of freedom\n",
      "AIC: 857.1\n",
      "\n",
      "Number of Fisher Scoring iterations: 4\n",
      "\n"
     ]
    }
   ],
   "source": [
    "%%R -i ext_df\n",
    "print('HAD VISITORS - AGE_GROUP')\n",
    "summary(glm(had_visitors_r ~ factor(condition_r) * factor(age_group_r), family=binomial, data=ext_df))"
   ]
  },
  {
   "cell_type": "code",
   "execution_count": 33,
   "metadata": {},
   "outputs": [
    {
     "name": "stdout",
     "output_type": "stream",
     "text": [
      "[1] \"HAD VISITORS - EDUCATION\"\n",
      "\n",
      "Call:\n",
      "glm(formula = had_visitors_r ~ factor(condition_r) * factor(education_r), \n",
      "    family = binomial, data = ext_df)\n",
      "\n",
      "Deviance Residuals: \n",
      "    Min       1Q   Median       3Q      Max  \n",
      "-1.5281  -1.2346   0.8633   1.0520   1.2018  \n",
      "\n",
      "Coefficients:\n",
      "                                          Estimate Std. Error z value Pr(>|z|)\n",
      "(Intercept)                                 0.1335     0.2113   0.632   0.5274\n",
      "factor(condition_r)2                        0.3018     0.3075   0.981   0.3264\n",
      "factor(condition_r)3                        0.5402     0.3205   1.686   0.0919\n",
      "factor(condition_r)4                        0.6614     0.3106   2.129   0.0332\n",
      "factor(education_r)2                       -0.1907     0.3191  -0.598   0.5501\n",
      "factor(condition_r)2:factor(education_r)2  -0.1302     0.4572  -0.285   0.7758\n",
      "factor(condition_r)3:factor(education_r)2  -0.1808     0.4594  -0.393   0.6940\n",
      "factor(condition_r)4:factor(education_r)2  -0.1735     0.4660  -0.372   0.7097\n",
      "                                           \n",
      "(Intercept)                                \n",
      "factor(condition_r)2                       \n",
      "factor(condition_r)3                      .\n",
      "factor(condition_r)4                      *\n",
      "factor(education_r)2                       \n",
      "factor(condition_r)2:factor(education_r)2  \n",
      "factor(condition_r)3:factor(education_r)2  \n",
      "factor(condition_r)4:factor(education_r)2  \n",
      "---\n",
      "Signif. codes:  0 '***' 0.001 '**' 0.01 '*' 0.05 '.' 0.1 ' ' 1\n",
      "\n",
      "(Dispersion parameter for binomial family taken to be 1)\n",
      "\n",
      "    Null deviance: 849.45  on 626  degrees of freedom\n",
      "Residual deviance: 838.40  on 619  degrees of freedom\n",
      "AIC: 854.4\n",
      "\n",
      "Number of Fisher Scoring iterations: 4\n",
      "\n"
     ]
    }
   ],
   "source": [
    "%%R -i ext_df\n",
    "print('HAD VISITORS - EDUCATION')\n",
    "summary(glm(had_visitors_r ~ factor(condition_r) * factor(education_r), family=binomial, data=ext_df))"
   ]
  },
  {
   "cell_type": "code",
   "execution_count": 34,
   "metadata": {},
   "outputs": [
    {
     "name": "stdout",
     "output_type": "stream",
     "text": [
      "[1] \"HAD CLOSE CONTACT - SEX\"\n",
      "\n",
      "Call:\n",
      "glm(formula = had_close_contact_r ~ factor(condition_r) * factor(gender_r), \n",
      "    family = binomial, data = ext_df)\n",
      "\n",
      "Deviance Residuals: \n",
      "    Min       1Q   Median       3Q      Max  \n",
      "-1.9807   0.5505   0.6485   0.7325   0.8011  \n",
      "\n",
      "Coefficients:\n",
      "                                       Estimate Std. Error z value Pr(>|z|)    \n",
      "(Intercept)                             1.45225    0.33494   4.336 1.45e-05 ***\n",
      "factor(condition_r)2                    0.32270    0.47868   0.674    0.500    \n",
      "factor(condition_r)3                    0.17520    0.47006   0.373    0.709    \n",
      "factor(condition_r)4                    0.35786    0.49140   0.728    0.466    \n",
      "factor(gender_r)2                      -0.48039    0.40176  -1.196    0.232    \n",
      "factor(condition_r)2:factor(gender_r)2 -0.11591    0.58630  -0.198    0.843    \n",
      "factor(condition_r)3:factor(gender_r)2  0.04252    0.57645   0.074    0.941    \n",
      "factor(condition_r)4:factor(gender_r)2 -0.17226    0.59199  -0.291    0.771    \n",
      "---\n",
      "Signif. codes:  0 '***' 0.001 '**' 0.01 '*' 0.05 '.' 0.1 ' ' 1\n",
      "\n",
      "(Dispersion parameter for binomial family taken to be 1)\n",
      "\n",
      "    Null deviance: 645.38  on 626  degrees of freedom\n",
      "Residual deviance: 636.91  on 619  degrees of freedom\n",
      "AIC: 652.91\n",
      "\n",
      "Number of Fisher Scoring iterations: 4\n",
      "\n"
     ]
    }
   ],
   "source": [
    "%%R -i ext_df\n",
    "print('HAD CLOSE CONTACT - SEX')\n",
    "summary(glm(had_close_contact_r ~ factor(condition_r) * factor(gender_r), family=binomial, data=ext_df))"
   ]
  },
  {
   "cell_type": "code",
   "execution_count": 35,
   "metadata": {},
   "outputs": [
    {
     "name": "stdout",
     "output_type": "stream",
     "text": [
      "[1] \"HAD CLOSE CONTACT - MARITAL\"\n",
      "\n",
      "Call:\n",
      "glm(formula = had_close_contact_r ~ factor(condition_r) * factor(marital_r), \n",
      "    family = binomial, data = ext_df)\n",
      "\n",
      "Deviance Residuals: \n",
      "    Min       1Q   Median       3Q      Max  \n",
      "-1.9060   0.5957   0.6444   0.7090   0.9005  \n",
      "\n",
      "Coefficients:\n",
      "                                        Estimate Std. Error z value Pr(>|z|)\n",
      "(Intercept)                              1.25276    0.23145   5.413 6.21e-08\n",
      "factor(condition_r)2                     0.21357    0.33493   0.638    0.524\n",
      "factor(condition_r)3                     0.20686    0.32734   0.632    0.527\n",
      "factor(condition_r)4                     0.38623    0.33657   1.148    0.251\n",
      "factor(marital_r)2                      -0.34990    0.38375  -0.912    0.362\n",
      "factor(condition_r)2:factor(marital_r)2  0.18284    0.58931   0.310    0.756\n",
      "factor(condition_r)3:factor(marital_r)2 -0.04886    0.59196  -0.083    0.934\n",
      "factor(condition_r)4:factor(marital_r)2 -0.59595    0.58595  -1.017    0.309\n",
      "                                           \n",
      "(Intercept)                             ***\n",
      "factor(condition_r)2                       \n",
      "factor(condition_r)3                       \n",
      "factor(condition_r)4                       \n",
      "factor(marital_r)2                         \n",
      "factor(condition_r)2:factor(marital_r)2    \n",
      "factor(condition_r)3:factor(marital_r)2    \n",
      "factor(condition_r)4:factor(marital_r)2    \n",
      "---\n",
      "Signif. codes:  0 '***' 0.001 '**' 0.01 '*' 0.05 '.' 0.1 ' ' 1\n",
      "\n",
      "(Dispersion parameter for binomial family taken to be 1)\n",
      "\n",
      "    Null deviance: 645.38  on 626  degrees of freedom\n",
      "Residual deviance: 637.88  on 619  degrees of freedom\n",
      "AIC: 653.88\n",
      "\n",
      "Number of Fisher Scoring iterations: 4\n",
      "\n"
     ]
    }
   ],
   "source": [
    "%%R -i ext_df\n",
    "print('HAD CLOSE CONTACT - MARITAL')\n",
    "summary(glm(had_close_contact_r ~ factor(condition_r) * factor(marital_r), family=binomial, data=ext_df))"
   ]
  },
  {
   "cell_type": "code",
   "execution_count": 36,
   "metadata": {},
   "outputs": [
    {
     "name": "stdout",
     "output_type": "stream",
     "text": [
      "[1] \"HAD CLOSE CONTACT - AGE_GROUP\"\n",
      "\n",
      "Call:\n",
      "glm(formula = had_close_contact_r ~ factor(condition_r) * factor(age_group_r), \n",
      "    family = binomial, data = ext_df)\n",
      "\n",
      "Deviance Residuals: \n",
      "    Min       1Q   Median       3Q      Max  \n",
      "-2.0874   0.4902   0.6231   0.7495   0.8633  \n",
      "\n",
      "Coefficients:\n",
      "                                          Estimate Std. Error z value Pr(>|z|)\n",
      "(Intercept)                                1.54045    0.36732   4.194 2.74e-05\n",
      "factor(condition_r)2                       0.51794    0.56820   0.912    0.362\n",
      "factor(condition_r)3                       0.18232    0.50277   0.363    0.717\n",
      "factor(condition_r)4                       0.44547    0.54533   0.817    0.414\n",
      "factor(age_group_r)2                      -0.44183    0.46718  -0.946    0.344\n",
      "factor(age_group_r)3                      -0.74552    0.48847  -1.526    0.127\n",
      "factor(condition_r)2:factor(age_group_r)2 -0.57059    0.71424  -0.799    0.424\n",
      "factor(condition_r)3:factor(age_group_r)2 -0.15492    0.66818  -0.232    0.817\n",
      "factor(condition_r)4:factor(age_group_r)2 -0.05243    0.71891  -0.073    0.942\n",
      "factor(condition_r)2:factor(age_group_r)3 -0.02189    0.73651  -0.030    0.976\n",
      "factor(condition_r)3:factor(age_group_r)3  0.18590    0.69837   0.266    0.790\n",
      "factor(condition_r)4:factor(age_group_r)3 -0.42209    0.70509  -0.599    0.549\n",
      "                                             \n",
      "(Intercept)                               ***\n",
      "factor(condition_r)2                         \n",
      "factor(condition_r)3                         \n",
      "factor(condition_r)4                         \n",
      "factor(age_group_r)2                         \n",
      "factor(age_group_r)3                         \n",
      "factor(condition_r)2:factor(age_group_r)2    \n",
      "factor(condition_r)3:factor(age_group_r)2    \n",
      "factor(condition_r)4:factor(age_group_r)2    \n",
      "factor(condition_r)2:factor(age_group_r)3    \n",
      "factor(condition_r)3:factor(age_group_r)3    \n",
      "factor(condition_r)4:factor(age_group_r)3    \n",
      "---\n",
      "Signif. codes:  0 '***' 0.001 '**' 0.01 '*' 0.05 '.' 0.1 ' ' 1\n",
      "\n",
      "(Dispersion parameter for binomial family taken to be 1)\n",
      "\n",
      "    Null deviance: 645.38  on 626  degrees of freedom\n",
      "Residual deviance: 629.86  on 615  degrees of freedom\n",
      "AIC: 653.86\n",
      "\n",
      "Number of Fisher Scoring iterations: 4\n",
      "\n"
     ]
    }
   ],
   "source": [
    "%%R -i ext_df\n",
    "print('HAD CLOSE CONTACT - AGE_GROUP')\n",
    "summary(glm(had_close_contact_r ~ factor(condition_r) * factor(age_group_r), family=binomial, data=ext_df))"
   ]
  },
  {
   "cell_type": "code",
   "execution_count": 37,
   "metadata": {},
   "outputs": [
    {
     "name": "stdout",
     "output_type": "stream",
     "text": [
      "[1] \"HAD CLOSE CONTACT - EDUCATION\"\n",
      "\n",
      "Call:\n",
      "glm(formula = had_close_contact_r ~ factor(condition_r) * factor(education_r), \n",
      "    family = binomial, data = ext_df)\n",
      "\n",
      "Deviance Residuals: \n",
      "    Min       1Q   Median       3Q      Max  \n",
      "-1.8930   0.6039   0.6444   0.7290   0.7710  \n",
      "\n",
      "Coefficients:\n",
      "                                          Estimate Std. Error z value Pr(>|z|)\n",
      "(Intercept)                                1.18958    0.24922   4.773 1.81e-06\n",
      "factor(condition_r)2                       0.18190    0.36859   0.493    0.622\n",
      "factor(condition_r)3                       0.07155    0.37095   0.193    0.847\n",
      "factor(condition_r)4                       0.41985    0.37698   1.114    0.265\n",
      "factor(education_r)2                      -0.12871    0.37000  -0.348    0.728\n",
      "factor(condition_r)2:factor(education_r)2  0.23533    0.55237   0.426    0.670\n",
      "factor(condition_r)3:factor(education_r)2  0.33392    0.54262   0.615    0.538\n",
      "factor(condition_r)4:factor(education_r)2 -0.34129    0.54717  -0.624    0.533\n",
      "                                             \n",
      "(Intercept)                               ***\n",
      "factor(condition_r)2                         \n",
      "factor(condition_r)3                         \n",
      "factor(condition_r)4                         \n",
      "factor(education_r)2                         \n",
      "factor(condition_r)2:factor(education_r)2    \n",
      "factor(condition_r)3:factor(education_r)2    \n",
      "factor(condition_r)4:factor(education_r)2    \n",
      "---\n",
      "Signif. codes:  0 '***' 0.001 '**' 0.01 '*' 0.05 '.' 0.1 ' ' 1\n",
      "\n",
      "(Dispersion parameter for binomial family taken to be 1)\n",
      "\n",
      "    Null deviance: 645.38  on 626  degrees of freedom\n",
      "Residual deviance: 642.13  on 619  degrees of freedom\n",
      "AIC: 658.13\n",
      "\n",
      "Number of Fisher Scoring iterations: 4\n",
      "\n"
     ]
    }
   ],
   "source": [
    "%%R -i ext_df\n",
    "print('HAD CLOSE CONTACT - EDUCATION')\n",
    "summary(glm(had_close_contact_r ~ factor(condition_r) * factor(education_r), family=binomial, data=ext_df))"
   ]
  },
  {
   "cell_type": "code",
   "execution_count": 38,
   "metadata": {},
   "outputs": [
    {
     "name": "stdout",
     "output_type": "stream",
     "text": [
      "[1] \"GONE_OUTSIDE - SEX\"\n",
      "\n",
      "Call:\n",
      "glm(formula = gone_outside_r ~ factor(condition_r) * factor(gender_r), \n",
      "    family = binomial, data = ext_df)\n",
      "\n",
      "Deviance Residuals: \n",
      "    Min       1Q   Median       3Q      Max  \n",
      "-2.4924   0.3027   0.5287   0.6607   0.6887  \n",
      "\n",
      "Coefficients:\n",
      "                                       Estimate Std. Error z value Pr(>|z|)    \n",
      "(Intercept)                              1.9859     0.4031   4.927 8.35e-07 ***\n",
      "factor(condition_r)2                    -0.0888     0.5387  -0.165    0.869    \n",
      "factor(condition_r)3                     1.0744     0.7151   1.502    0.133    \n",
      "factor(condition_r)4                     0.2828     0.5885   0.480    0.631    \n",
      "factor(gender_r)2                       -0.5749     0.4740  -1.213    0.225    \n",
      "factor(condition_r)2:factor(gender_r)2   0.4834     0.6704   0.721    0.471    \n",
      "factor(condition_r)3:factor(gender_r)2  -1.1671     0.8002  -1.459    0.145    \n",
      "factor(condition_r)4:factor(gender_r)2  -0.3477     0.6891  -0.505    0.614    \n",
      "---\n",
      "Signif. codes:  0 '***' 0.001 '**' 0.01 '*' 0.05 '.' 0.1 ' ' 1\n",
      "\n",
      "(Dispersion parameter for binomial family taken to be 1)\n",
      "\n",
      "    Null deviance: 533.36  on 626  degrees of freedom\n",
      "Residual deviance: 517.14  on 619  degrees of freedom\n",
      "AIC: 533.14\n",
      "\n",
      "Number of Fisher Scoring iterations: 5\n",
      "\n"
     ]
    }
   ],
   "source": [
    "%%R -i ext_df\n",
    "print('GONE_OUTSIDE - SEX')\n",
    "summary(glm(gone_outside_r ~ factor(condition_r) * factor(gender_r), family=binomial, data=ext_df))"
   ]
  },
  {
   "cell_type": "code",
   "execution_count": 39,
   "metadata": {},
   "outputs": [
    {
     "name": "stdout",
     "output_type": "stream",
     "text": [
      "[1] \"GONE_OUTSIDE - MARITAL\"\n",
      "\n",
      "Call:\n",
      "glm(formula = gone_outside_r ~ factor(condition_r) * factor(marital_r), \n",
      "    family = binomial, data = ext_df)\n",
      "\n",
      "Deviance Residuals: \n",
      "    Min       1Q   Median       3Q      Max  \n",
      "-2.0754   0.4968   0.5279   0.5853   0.7981  \n",
      "\n",
      "Coefficients:\n",
      "                                        Estimate Std. Error z value Pr(>|z|)\n",
      "(Intercept)                               1.6776     0.2642   6.349 2.16e-10\n",
      "factor(condition_r)2                      0.3525     0.3960   0.890    0.373\n",
      "factor(condition_r)3                      0.2871     0.3819   0.752    0.452\n",
      "factor(condition_r)4                      0.2226     0.3764   0.591    0.554\n",
      "factor(marital_r)2                       -0.2426     0.4400  -0.551    0.581\n",
      "factor(condition_r)2:factor(marital_r)2  -0.3407     0.6596  -0.517    0.605\n",
      "factor(condition_r)3:factor(marital_r)2  -0.3359     0.6695  -0.502    0.616\n",
      "factor(condition_r)4:factor(marital_r)2  -0.6768     0.6467  -1.047    0.295\n",
      "                                           \n",
      "(Intercept)                             ***\n",
      "factor(condition_r)2                       \n",
      "factor(condition_r)3                       \n",
      "factor(condition_r)4                       \n",
      "factor(marital_r)2                         \n",
      "factor(condition_r)2:factor(marital_r)2    \n",
      "factor(condition_r)3:factor(marital_r)2    \n",
      "factor(condition_r)4:factor(marital_r)2    \n",
      "---\n",
      "Signif. codes:  0 '***' 0.001 '**' 0.01 '*' 0.05 '.' 0.1 ' ' 1\n",
      "\n",
      "(Dispersion parameter for binomial family taken to be 1)\n",
      "\n",
      "    Null deviance: 533.36  on 626  degrees of freedom\n",
      "Residual deviance: 526.01  on 619  degrees of freedom\n",
      "AIC: 542.01\n",
      "\n",
      "Number of Fisher Scoring iterations: 4\n",
      "\n"
     ]
    }
   ],
   "source": [
    "%%R -i ext_df\n",
    "print('GONE_OUTSIDE - MARITAL')\n",
    "summary(glm(gone_outside_r ~ factor(condition_r) * factor(marital_r), family=binomial, data=ext_df))"
   ]
  },
  {
   "cell_type": "code",
   "execution_count": 40,
   "metadata": {},
   "outputs": [
    {
     "name": "stdout",
     "output_type": "stream",
     "text": [
      "[1] \"GONE_OUTSIDE - AGE_GROUP\"\n",
      "\n",
      "Call:\n",
      "glm(formula = gone_outside_r ~ factor(condition_r) * factor(age_group_r), \n",
      "    family = binomial, data = ext_df)\n",
      "\n",
      "Deviance Residuals: \n",
      "    Min       1Q   Median       3Q      Max  \n",
      "-2.3678   0.3891   0.5553   0.6300   0.7793  \n",
      "\n",
      "Coefficients:\n",
      "                                          Estimate Std. Error z value Pr(>|z|)\n",
      "(Intercept)                                1.68176    0.38504   4.368 1.26e-05\n",
      "factor(condition_r)2                       0.58000    0.60753   0.955   0.3397\n",
      "factor(condition_r)3                       1.05908    0.64372   1.645   0.0999\n",
      "factor(condition_r)4                       0.67910    0.60591   1.121   0.2624\n",
      "factor(age_group_r)2                       0.00464    0.51650   0.009   0.9928\n",
      "factor(age_group_r)3                      -0.29546    0.53586  -0.551   0.5814\n",
      "factor(condition_r)2:factor(age_group_r)2 -0.75006    0.78937  -0.950   0.3420\n",
      "factor(condition_r)3:factor(age_group_r)2 -0.95372    0.83640  -1.140   0.2542\n",
      "factor(condition_r)4:factor(age_group_r)2 -0.87384    0.78851  -1.108   0.2678\n",
      "factor(condition_r)2:factor(age_group_r)3 -0.12802    0.82071  -0.156   0.8760\n",
      "factor(condition_r)3:factor(age_group_r)3 -1.40928    0.82246  -1.714   0.0866\n",
      "factor(condition_r)4:factor(age_group_r)3 -0.82570    0.78945  -1.046   0.2956\n",
      "                                             \n",
      "(Intercept)                               ***\n",
      "factor(condition_r)2                         \n",
      "factor(condition_r)3                      .  \n",
      "factor(condition_r)4                         \n",
      "factor(age_group_r)2                         \n",
      "factor(age_group_r)3                         \n",
      "factor(condition_r)2:factor(age_group_r)2    \n",
      "factor(condition_r)3:factor(age_group_r)2    \n",
      "factor(condition_r)4:factor(age_group_r)2    \n",
      "factor(condition_r)2:factor(age_group_r)3    \n",
      "factor(condition_r)3:factor(age_group_r)3 .  \n",
      "factor(condition_r)4:factor(age_group_r)3    \n",
      "---\n",
      "Signif. codes:  0 '***' 0.001 '**' 0.01 '*' 0.05 '.' 0.1 ' ' 1\n",
      "\n",
      "(Dispersion parameter for binomial family taken to be 1)\n",
      "\n",
      "    Null deviance: 533.36  on 626  degrees of freedom\n",
      "Residual deviance: 517.54  on 615  degrees of freedom\n",
      "AIC: 541.54\n",
      "\n",
      "Number of Fisher Scoring iterations: 5\n",
      "\n"
     ]
    }
   ],
   "source": [
    "%%R -i ext_df\n",
    "print('GONE_OUTSIDE - AGE_GROUP')\n",
    "summary(glm(gone_outside_r ~ factor(condition_r) * factor(age_group_r), family=binomial, data=ext_df))"
   ]
  },
  {
   "cell_type": "code",
   "execution_count": 41,
   "metadata": {},
   "outputs": [
    {
     "name": "stdout",
     "output_type": "stream",
     "text": [
      "[1] \"GONE_OUTSIDE - EDUCATION\"\n",
      "\n",
      "Call:\n",
      "glm(formula = gone_outside_r ~ factor(condition_r) * factor(education_r), \n",
      "    family = binomial, data = ext_df)\n",
      "\n",
      "Deviance Residuals: \n",
      "    Min       1Q   Median       3Q      Max  \n",
      "-2.0904   0.4886   0.5586   0.6081   0.6335  \n",
      "\n",
      "Coefficients:\n",
      "                                          Estimate Std. Error z value Pr(>|z|)\n",
      "(Intercept)                                1.53148    0.27571   5.555 2.78e-08\n",
      "factor(condition_r)2                       0.47000    0.43534   1.080    0.280\n",
      "factor(condition_r)3                       0.06246    0.41056   0.152    0.879\n",
      "factor(condition_r)4                       0.24738    0.40734   0.607    0.544\n",
      "factor(education_r)2                       0.14817    0.42880   0.346    0.730\n",
      "factor(condition_r)2:factor(education_r)2 -0.47000    0.63659  -0.738    0.460\n",
      "factor(condition_r)3:factor(education_r)2  0.32336    0.63373   0.510    0.610\n",
      "factor(condition_r)4:factor(education_r)2 -0.42294    0.61289  -0.690    0.490\n",
      "                                             \n",
      "(Intercept)                               ***\n",
      "factor(condition_r)2                         \n",
      "factor(condition_r)3                         \n",
      "factor(condition_r)4                         \n",
      "factor(education_r)2                         \n",
      "factor(condition_r)2:factor(education_r)2    \n",
      "factor(condition_r)3:factor(education_r)2    \n",
      "factor(condition_r)4:factor(education_r)2    \n",
      "---\n",
      "Signif. codes:  0 '***' 0.001 '**' 0.01 '*' 0.05 '.' 0.1 ' ' 1\n",
      "\n",
      "(Dispersion parameter for binomial family taken to be 1)\n",
      "\n",
      "    Null deviance: 533.36  on 626  degrees of freedom\n",
      "Residual deviance: 530.45  on 619  degrees of freedom\n",
      "AIC: 546.45\n",
      "\n",
      "Number of Fisher Scoring iterations: 4\n",
      "\n"
     ]
    }
   ],
   "source": [
    "%%R -i ext_df\n",
    "print('GONE_OUTSIDE - EDUCATION')\n",
    "summary(glm(gone_outside_r ~ factor(condition_r) * factor(education_r), family=binomial, data=ext_df))"
   ]
  },
  {
   "cell_type": "code",
   "execution_count": 42,
   "metadata": {},
   "outputs": [],
   "source": [
    "# checking interaction for the one significant main effect: control vs. C, had_visitors\n",
    "ext_C = ext_df[ext_df['condition'].isin(['Control', 'C'])]"
   ]
  },
  {
   "cell_type": "code",
   "execution_count": 43,
   "metadata": {},
   "outputs": [
    {
     "name": "stdout",
     "output_type": "stream",
     "text": [
      "[1] \"HAD_VISITORS - SEX\"\n",
      "\n",
      "Call:\n",
      "glm(formula = had_visitors_r ~ factor(condition_r) * factor(gender_r), \n",
      "    family = binomial, data = ext_C)\n",
      "\n",
      "Deviance Residuals: \n",
      "    Min       1Q   Median       3Q      Max  \n",
      "-1.6651  -1.1825   0.7585   1.0620   1.2109  \n",
      "\n",
      "Coefficients:\n",
      "                                       Estimate Std. Error z value Pr(>|z|)  \n",
      "(Intercept)                              0.2776     0.2651   1.047   0.2951  \n",
      "factor(condition_r)4                     0.8210     0.3920   2.095   0.0362 *\n",
      "factor(gender_r)2                       -0.3561     0.3310  -1.076   0.2820  \n",
      "factor(condition_r)4:factor(gender_r)2  -0.3911     0.4876  -0.802   0.4225  \n",
      "---\n",
      "Signif. codes:  0 '***' 0.001 '**' 0.01 '*' 0.05 '.' 0.1 ' ' 1\n",
      "\n",
      "(Dispersion parameter for binomial family taken to be 1)\n",
      "\n",
      "    Null deviance: 429.47  on 315  degrees of freedom\n",
      "Residual deviance: 417.26  on 312  degrees of freedom\n",
      "AIC: 425.26\n",
      "\n",
      "Number of Fisher Scoring iterations: 4\n",
      "\n"
     ]
    }
   ],
   "source": [
    "%%R -i ext_C\n",
    "print('HAD_VISITORS - SEX')\n",
    "summary(glm(had_visitors_r ~ factor(condition_r) * factor(gender_r), family=binomial, data=ext_C))"
   ]
  },
  {
   "cell_type": "code",
   "execution_count": 44,
   "metadata": {},
   "outputs": [
    {
     "name": "stdout",
     "output_type": "stream",
     "text": [
      "[1] \"HAD_VISITORS - MARITAL\"\n",
      "\n",
      "Call:\n",
      "glm(formula = had_visitors_r ~ factor(condition_r) * factor(marital_r), \n",
      "    family = binomial, data = ext_C)\n",
      "\n",
      "Deviance Residuals: \n",
      "    Min       1Q   Median       3Q      Max  \n",
      "-1.4823  -1.3232   0.9275   1.0383   1.4190  \n",
      "\n",
      "Coefficients:\n",
      "                                        Estimate Std. Error z value Pr(>|z|)  \n",
      "(Intercept)                               0.3365     0.1952   1.724   0.0847 .\n",
      "factor(condition_r)4                      0.2844     0.2718   1.046   0.2954  \n",
      "factor(marital_r)2                       -0.8885     0.3479  -2.554   0.0106 *\n",
      "factor(condition_r)4:factor(marital_r)2   0.9609     0.5414   1.775   0.0760 .\n",
      "---\n",
      "Signif. codes:  0 '***' 0.001 '**' 0.01 '*' 0.05 '.' 0.1 ' ' 1\n",
      "\n",
      "(Dispersion parameter for binomial family taken to be 1)\n",
      "\n",
      "    Null deviance: 429.47  on 315  degrees of freedom\n",
      "Residual deviance: 416.20  on 312  degrees of freedom\n",
      "AIC: 424.2\n",
      "\n",
      "Number of Fisher Scoring iterations: 4\n",
      "\n"
     ]
    }
   ],
   "source": [
    "%%R -i ext_C\n",
    "print('HAD_VISITORS - MARITAL')\n",
    "summary(glm(had_visitors_r ~ factor(condition_r) * factor(marital_r), family=binomial, data=ext_C))"
   ]
  },
  {
   "cell_type": "code",
   "execution_count": 45,
   "metadata": {},
   "outputs": [
    {
     "name": "stdout",
     "output_type": "stream",
     "text": [
      "[1] \"HAD_VISITORS - AGE_GROUP\"\n",
      "\n",
      "Call:\n",
      "glm(formula = had_visitors_r ~ factor(condition_r) * factor(age_group_r), \n",
      "    family = binomial, data = ext_C)\n",
      "\n",
      "Deviance Residuals: \n",
      "    Min       1Q   Median       3Q      Max  \n",
      "-1.6446  -1.1510   0.7736   1.0129   1.2735  \n",
      "\n",
      "Coefficients:\n",
      "                                           Estimate Std. Error z value Pr(>|z|)\n",
      "(Intercept)                                0.438255   0.286807   1.528    0.127\n",
      "factor(condition_r)4                       0.614895   0.414946   1.482    0.138\n",
      "factor(age_group_r)2                      -0.500775   0.380551  -1.316    0.188\n",
      "factor(age_group_r)3                      -0.661398   0.415040  -1.594    0.111\n",
      "factor(condition_r)4:factor(age_group_r)2 -0.008759   0.567939  -0.015    0.988\n",
      "factor(condition_r)4:factor(age_group_r)3 -0.104069   0.587804  -0.177    0.859\n",
      "\n",
      "(Dispersion parameter for binomial family taken to be 1)\n",
      "\n",
      "    Null deviance: 429.47  on 315  degrees of freedom\n",
      "Residual deviance: 416.47  on 310  degrees of freedom\n",
      "AIC: 428.47\n",
      "\n",
      "Number of Fisher Scoring iterations: 4\n",
      "\n"
     ]
    }
   ],
   "source": [
    "%%R -i ext_C\n",
    "print('HAD_VISITORS - AGE_GROUP')\n",
    "summary(glm(had_visitors_r ~ factor(condition_r) * factor(age_group_r), family=binomial, data=ext_C))"
   ]
  },
  {
   "cell_type": "code",
   "execution_count": 46,
   "metadata": {},
   "outputs": [
    {
     "name": "stdout",
     "output_type": "stream",
     "text": [
      "[1] \"HAD_VISITORS - EDUCATION\"\n",
      "\n",
      "Call:\n",
      "glm(formula = had_visitors_r ~ factor(condition_r) * factor(education_r), \n",
      "    family = binomial, data = ext_C)\n",
      "\n",
      "Deviance Residuals: \n",
      "    Min       1Q   Median       3Q      Max  \n",
      "-1.5281  -1.2346   0.8633   1.1213   1.2018  \n",
      "\n",
      "Coefficients:\n",
      "                                          Estimate Std. Error z value Pr(>|z|)\n",
      "(Intercept)                                 0.1335     0.2113   0.632   0.5274\n",
      "factor(condition_r)4                        0.6614     0.3106   2.129   0.0332\n",
      "factor(education_r)2                       -0.1907     0.3191  -0.598   0.5501\n",
      "factor(condition_r)4:factor(education_r)2  -0.1735     0.4660  -0.372   0.7097\n",
      "                                           \n",
      "(Intercept)                                \n",
      "factor(condition_r)4                      *\n",
      "factor(education_r)2                       \n",
      "factor(condition_r)4:factor(education_r)2  \n",
      "---\n",
      "Signif. codes:  0 '***' 0.001 '**' 0.01 '*' 0.05 '.' 0.1 ' ' 1\n",
      "\n",
      "(Dispersion parameter for binomial family taken to be 1)\n",
      "\n",
      "    Null deviance: 429.47  on 315  degrees of freedom\n",
      "Residual deviance: 421.45  on 312  degrees of freedom\n",
      "AIC: 429.45\n",
      "\n",
      "Number of Fisher Scoring iterations: 4\n",
      "\n"
     ]
    }
   ],
   "source": [
    "%%R -i ext_C\n",
    "print('HAD_VISITORS - EDUCATION')\n",
    "summary(glm(had_visitors_r ~ factor(condition_r) * factor(education_r), family=binomial, data=ext_C))"
   ]
  }
 ],
 "metadata": {
  "kernelspec": {
   "display_name": "Python 3",
   "language": "python",
   "name": "python3"
  },
  "language_info": {
   "codemirror_mode": {
    "name": "ipython",
    "version": 3
   },
   "file_extension": ".py",
   "mimetype": "text/x-python",
   "name": "python",
   "nbconvert_exporter": "python",
   "pygments_lexer": "ipython3",
   "version": "3.7.3"
  }
 },
 "nbformat": 4,
 "nbformat_minor": 4
}
