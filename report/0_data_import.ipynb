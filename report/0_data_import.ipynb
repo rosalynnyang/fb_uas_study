{
 "cells": [
  {
   "cell_type": "markdown",
   "metadata": {},
   "source": [
    "## Data import"
   ]
  },
  {
   "cell_type": "markdown",
   "metadata": {},
   "source": [
    "This notebook imports .dta data files, assigns codes to categorical variables in the FB survey, and exports .csv files for future use"
   ]
  },
  {
   "cell_type": "code",
   "execution_count": 1,
   "metadata": {},
   "outputs": [],
   "source": [
    "import numpy as np\n",
    "import pandas as pd"
   ]
  },
  {
   "cell_type": "code",
   "execution_count": 2,
   "metadata": {},
   "outputs": [],
   "source": [
    "fb = pd.read_stata(\"../input/week12.dta\")\n",
    "uas = pd.read_stata(\"../input/uas244.dta\")"
   ]
  },
  {
   "cell_type": "code",
   "execution_count": 3,
   "metadata": {},
   "outputs": [
    {
     "data": {
      "text/plain": [
       "(1777, 42)"
      ]
     },
     "execution_count": 3,
     "metadata": {},
     "output_type": "execute_result"
    }
   ],
   "source": [
    "fb.shape"
   ]
  },
  {
   "cell_type": "code",
   "execution_count": 4,
   "metadata": {},
   "outputs": [
    {
     "data": {
      "text/plain": [
       "(6407, 780)"
      ]
     },
     "execution_count": 4,
     "metadata": {},
     "output_type": "execute_result"
    }
   ],
   "source": [
    "uas.shape"
   ]
  },
  {
   "cell_type": "code",
   "execution_count": 5,
   "metadata": {},
   "outputs": [
    {
     "data": {
      "text/plain": [
       "Index(['StartDate', 'EndDate', 'Status', 'IPAddress', 'Progress',\n",
       "       'Duration__in_seconds_', 'Finished', 'RecordedDate', 'ResponseId',\n",
       "       'RecipientLastName', 'RecipientFirstName', 'RecipientEmail',\n",
       "       'ExternalReference', 'LocationLatitude', 'LocationLongitude',\n",
       "       'DistributionChannel', 'UserLanguage', 'timer_First_Click',\n",
       "       'timer_Last_Click', 'timer_Page_Submit', 'timer_Click_Count', 'Q1',\n",
       "       'Q2', 'Q3', 'Q3_1', 'Q4', 'Q5', 'Q6', 'Q7_1', 'Q8', 'Q9', 'Q9_6_TEXT',\n",
       "       'Q10', 'Q11', 'Q12', 'SC0', 'timeload', 'DeviceIdentifier',\n",
       "       'ipaddress_0', 'ResponseID_0', 'Week', 'Image'],\n",
       "      dtype='object')"
      ]
     },
     "execution_count": 5,
     "metadata": {},
     "output_type": "execute_result"
    }
   ],
   "source": [
    "fb.columns"
   ]
  },
  {
   "cell_type": "code",
   "execution_count": 6,
   "metadata": {},
   "outputs": [
    {
     "name": "stdout",
     "output_type": "stream",
     "text": [
      "['language', 'age', 'agerange', 'hhmemberage_1', 'hhmemberage_2', 'hhmemberage_3', 'hhmemberage_4', 'hhmemberage_5', 'hhmemberage_6', 'hhmemberage_7', 'hhmemberage_8', 'hhmemberage_9', 'hhmemberage_10', 'hhmemberage_11', 'hhmemberage_12', 'hhmemberage_13', 'hhmemberage_14', 'hhmemberage_15', 'hhmemberage_16', 'hhmemberage_17', 'hhmemberage_18']\n"
     ]
    }
   ],
   "source": [
    "# check columns with \"age\" string\n",
    "age_cols = [col for col in uas.columns if 'age' in col]\n",
    "print(age_cols)"
   ]
  },
  {
   "cell_type": "code",
   "execution_count": 7,
   "metadata": {},
   "outputs": [
    {
     "data": {
      "text/plain": [
       "1 18-29       3\n",
       "2 30-39       1\n",
       "3 40-49       4\n",
       "4 50-59       4\n",
       "5 60-69       1\n",
       "NaN        6394\n",
       "Name: agerange, dtype: int64"
      ]
     },
     "execution_count": 7,
     "metadata": {},
     "output_type": "execute_result"
    }
   ],
   "source": [
    "# \"agerange\" is the wrong variable, remove\n",
    "uas['agerange'].value_counts(dropna=False).sort_index()"
   ]
  },
  {
   "cell_type": "code",
   "execution_count": 8,
   "metadata": {},
   "outputs": [],
   "source": [
    "# use \"age\" instead and recode it into age_cat based on fb threshold\n",
    "uas['age_group'] = pd.cut(uas['age'], bins=[18, 25, 35, 45, 55, 65, float('Inf')], labels=['2', '3', '4', '5', '6', '7'])"
   ]
  },
  {
   "cell_type": "code",
   "execution_count": 9,
   "metadata": {},
   "outputs": [
    {
     "data": {
      "text/plain": [
       "2       329\n",
       "3       970\n",
       "4      1258\n",
       "5      1187\n",
       "6      1331\n",
       "7      1307\n",
       "NaN      25\n",
       "Name: age_group, dtype: int64"
      ]
     },
     "execution_count": 9,
     "metadata": {},
     "output_type": "execute_result"
    }
   ],
   "source": [
    "uas['age_group'].value_counts(dropna=False).sort_index()"
   ]
  },
  {
   "cell_type": "code",
   "execution_count": 10,
   "metadata": {},
   "outputs": [],
   "source": [
    "uas = uas[[\"uasid\", \"cr027a\", \"cr027c\", \"cr030\", \"cr018a\", \"lr015\", \"ei002\", \"cr015c\", \"cr015d\", \n",
    "           \"cr015k\", \"cr015l\", \"gender\", \"maritalstatus\", \"age_group\", \"education\", \"final_weight\"]]"
   ]
  },
  {
   "cell_type": "code",
   "execution_count": 11,
   "metadata": {},
   "outputs": [
    {
     "data": {
      "text/plain": [
       "Index(['uasid', 'cr027a', 'cr027c', 'cr030', 'cr018a', 'lr015', 'ei002',\n",
       "       'cr015c', 'cr015d', 'cr015k', 'cr015l', 'gender', 'maritalstatus',\n",
       "       'age_group', 'education', 'final_weight'],\n",
       "      dtype='object')"
      ]
     },
     "execution_count": 11,
     "metadata": {},
     "output_type": "execute_result"
    }
   ],
   "source": [
    "uas.columns"
   ]
  },
  {
   "cell_type": "markdown",
   "metadata": {},
   "source": [
    "##### Variable coding for FB survey"
   ]
  },
  {
   "cell_type": "markdown",
   "metadata": {},
   "source": [
    "Codebook: https://docs.google.com/spreadsheets/d/1q9l31woXPygsYv5hhMlmM75qozfVtgO1/edit#gid=1487881949"
   ]
  },
  {
   "cell_type": "code",
   "execution_count": 12,
   "metadata": {},
   "outputs": [],
   "source": [
    "cat_to_numeric = {\"Q1\": {\"Not at all\": 1, \n",
    "                         \"Several days\": 2, \n",
    "                         \"More than half of days\": 3,\n",
    "                         \"Nearly every day\": 4},\n",
    "                  \"Q2\": {\"Not at all\": 1, \n",
    "                         \"Several days\": 2, \n",
    "                         \"More than half of days\": 3,\n",
    "                         \"Nearly every day\": 4},\n",
    "                  \"Q3\": {\"Not acceptable\": 1, \n",
    "                         \"Barely acceptable\": 2,\n",
    "                         \"Medium acceptable\": 3, \n",
    "                         \"Quite acceptable\": 4,\n",
    "                         \"Very acceptable\": 5},\n",
    "                  \"Q3_1\": {\"Not acceptable\": 1, \n",
    "                         \"Barely acceptable\": 2,\n",
    "                         \"Medium acceptable\": 3, \n",
    "                         \"Quite acceptable\": 4,\n",
    "                         \"Very acceptable\": 5},\n",
    "                  \"Q4\": {\"Not acceptable\": 1, \n",
    "                         \"Barely acceptable\": 2,\n",
    "                         \"Medium acceptable\": 3, \n",
    "                         \"Quite acceptable\": 4,\n",
    "                         \"Very acceptable\": 5},\n",
    "                  \"Q5\": {\"Very unlikely\": 1, \n",
    "                         \"Somewhat unlikely\": 2,\n",
    "                         \"Somewhat likely\": 3,\n",
    "                         \"Very likely\": 4,\n",
    "                         \"Unsure\": 5},\n",
    "                  \"Q6\": {\"Yes\": 1, \n",
    "                         \"No\": 2, \n",
    "                         \"Unsure\": 3},\n",
    "                  \"Q8\": {\"Yes\": 1, \n",
    "                         \"No\": 2, \n",
    "                         \"Unsure\": 3},\n",
    "                  \"Q9\": {\"Woman\": 1, \n",
    "                         \"Man\": 2, \n",
    "                         \"Trans woman\": 3,\n",
    "                         \"Trans man\": 4,\n",
    "                         \"Non binary, gender nonconforming, or gender queer\": 5,\n",
    "                         \"Some other description (please specify)\": 6},\n",
    "                  \"Q10\": {\"Yes\": 1, \n",
    "                          \"No\": 2, \n",
    "                          \"Unsure\": 3},\n",
    "                  \"Q11\": {\"Under 18 years old\": 1, \n",
    "                          \"19-25 years old\": 2, \n",
    "                          \"26-35 years old\": 3,\n",
    "                          \"36-45 years old\": 4,\n",
    "                          \"46-55 years old\": 5,\n",
    "                          \"56-65 years old\": 6,\n",
    "                          \"66+ years old\": 7},\n",
    "                  \"Q12\": {\"Less than high school diploma\":1,\n",
    "                          \"High school diploma\": 2,\n",
    "                          \"Some college\": 3,\n",
    "                          \"Bachelor's degree\": 4,\n",
    "                          \"Graduate degree\": 5},\n",
    "                   \"Image\": {\"Control\": 1,\n",
    "                             \"COVID\": 2,\n",
    "                             \"Data Privacy\": 3,\n",
    "                             \"Finance\": 4,\n",
    "                             \"Mental Health\": 5}}"
   ]
  },
  {
   "cell_type": "code",
   "execution_count": 13,
   "metadata": {},
   "outputs": [],
   "source": [
    "fb_num = fb.replace(cat_to_numeric)"
   ]
  },
  {
   "cell_type": "code",
   "execution_count": 14,
   "metadata": {},
   "outputs": [
    {
     "data": {
      "text/plain": [
       "(1777, 42)"
      ]
     },
     "execution_count": 14,
     "metadata": {},
     "output_type": "execute_result"
    }
   ],
   "source": [
    "fb_num.shape"
   ]
  },
  {
   "cell_type": "code",
   "execution_count": 15,
   "metadata": {},
   "outputs": [],
   "source": [
    "cat_to_numeric_uas = {\"cr027a\": {\"1 Not at all\": 1, \n",
    "                                 \"2 Several days\": 2, \n",
    "                                 \"3 More than half the days\": 3,\n",
    "                                 \"4 Nearly every day\": 4},\n",
    "                      \"cr027c\": {\"1 Not at all\": 1, \n",
    "                                 \"2 Several days\": 2, \n",
    "                                 \"3 More than half the days\": 3,\n",
    "                                 \"4 Nearly every day\": 4},\n",
    "                      \"cr030\": {\"1 Very unlikely\": 1, \n",
    "                                \"2 Somewhat unlikely\": 2,\n",
    "                                \"3 Somewhat likely\": 3,\n",
    "                                \"4 Very likely\": 4,\n",
    "                                \"5 Unsure\": 5},\n",
    "                      \"cr018a\": {\"1 Yes\": 1, \n",
    "                                 \"2 No\": 2,\n",
    "                                 \"3 Unsure\": 3},\n",
    "                      \"ei002\": {\"1 Yes\": 1, \n",
    "                                \"2 No\": 2,\n",
    "                                \"3 Unsure\": 3}, \n",
    "                      \"cr015c\": {\"1 Yes\": 1, \n",
    "                                 \"2 No\": 2,\n",
    "                                 \"3 Unsure\": 3},\n",
    "                      \"cr015d\": {\"1 Yes\": 1, \n",
    "                                 \"2 No\": 2,\n",
    "                                 \"3 Unsure\": 3},\n",
    "                      \"cr015k\": {\"1 Yes\": 1, \n",
    "                                 \"2 No\": 2,\n",
    "                                 \"3 Unsure\": 3},\n",
    "                      \"cr015l\": {\"1 Yes\": 1, \n",
    "                                 \"2 No\": 2,\n",
    "                                 \"3 Unsure\": 3},\n",
    "                      \"gender\": {\"0 Female\": 0, \n",
    "                                 \"1 Male\": 1},\n",
    "                      \"maritalstatus\": {\"1 Married (spouse lives with me)\": 1, \n",
    "                                 \"2 Married (spouse lives elsewhere)\": 2,\n",
    "                                 \"3 Separated\": 3,\n",
    "                                 \"4 Divorced\": 4,\n",
    "                                 \"5 Widowed\": 5,\n",
    "                                 \"6 Never married\": 6},\n",
    "                      \"education\": {\"1 Less than 1st grade\": 1, \n",
    "                                    \"2 Up to 4th grade\": 2,\n",
    "                                    \"3 5th or 6th grade\": 3,\n",
    "                                    \"4 7th or 8th grade\": 4, \n",
    "                                    \"5 9th grade\": 5,\n",
    "                                    \"6 10th grade\": 6,\n",
    "                                    \"7 11th grade\": 7,\n",
    "                                    \"8 12th grade-no diploma\": 8,\n",
    "                                    \"9 High school graduate or GED\": 9,\n",
    "                                    \"10 Some college-no degree\": 10,\n",
    "                                    \"11 Assoc. college degree-occ/voc prog\": 11,\n",
    "                                    \"12 Assoc. college degree-academic prog\": 12,\n",
    "                                    \"13 Bachelor's degree\": 13,\n",
    "                                    \"14 Master's degree\": 14,\n",
    "                                    \"15 Professional school degree\": 15,\n",
    "                                    \"16 Doctorate degree\": 16}}"
   ]
  },
  {
   "cell_type": "code",
   "execution_count": 16,
   "metadata": {},
   "outputs": [],
   "source": [
    "uas_num = uas.replace(cat_to_numeric_uas)"
   ]
  },
  {
   "cell_type": "code",
   "execution_count": 17,
   "metadata": {},
   "outputs": [
    {
     "data": {
      "text/plain": [
       "(6407, 16)"
      ]
     },
     "execution_count": 17,
     "metadata": {},
     "output_type": "execute_result"
    }
   ],
   "source": [
    "uas_num.shape"
   ]
  },
  {
   "cell_type": "code",
   "execution_count": 18,
   "metadata": {},
   "outputs": [],
   "source": [
    "fb.to_csv(\"../output/fb.csv\")\n",
    "fb_num.to_csv(\"../output/fb_numeric.csv\")\n",
    "uas.to_csv(\"../output/uas.csv\")\n",
    "uas_num.to_csv(\"../output/uas_numeric.csv\")"
   ]
  }
 ],
 "metadata": {
  "kernelspec": {
   "display_name": "Python 3",
   "language": "python",
   "name": "python3"
  },
  "language_info": {
   "codemirror_mode": {
    "name": "ipython",
    "version": 3
   },
   "file_extension": ".py",
   "mimetype": "text/x-python",
   "name": "python",
   "nbconvert_exporter": "python",
   "pygments_lexer": "ipython3",
   "version": "3.7.3"
  }
 },
 "nbformat": 4,
 "nbformat_minor": 4
}
