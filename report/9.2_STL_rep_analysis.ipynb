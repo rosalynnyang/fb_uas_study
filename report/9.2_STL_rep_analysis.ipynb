{
 "cells": [
  {
   "cell_type": "markdown",
   "metadata": {},
   "source": [
    "## Analysis for the manuscript: data analysis"
   ]
  },
  {
   "cell_type": "markdown",
   "metadata": {},
   "source": [
    "This analysis is conducted based on the Dauost experiment replication data, fielded in 2020. <br>\n",
    "1) checking for randomization of treatment conditions <br>\n",
    "2) experimental data analysis <br>\n",
    "3) three-way interactions"
   ]
  },
  {
   "cell_type": "code",
   "execution_count": 1,
   "metadata": {},
   "outputs": [],
   "source": [
    "import numpy as np\n",
    "import pandas as pd\n",
    "import utility as util"
   ]
  },
  {
   "cell_type": "code",
   "execution_count": 2,
   "metadata": {},
   "outputs": [],
   "source": [
    "df_rep = pd.read_csv('../output/df_rep.csv')"
   ]
  },
  {
   "cell_type": "code",
   "execution_count": 3,
   "metadata": {},
   "outputs": [
    {
     "data": {
      "text/plain": [
       "(4545, 9)"
      ]
     },
     "execution_count": 3,
     "metadata": {},
     "output_type": "execute_result"
    }
   ],
   "source": [
    "df_rep.shape"
   ]
  },
  {
   "cell_type": "code",
   "execution_count": 4,
   "metadata": {},
   "outputs": [
    {
     "data": {
      "text/plain": [
       "Index(['id', 'condition', 'visit', 'over', 'outdoors', 'sex', 'marital',\n",
       "       'age_group', 'education'],\n",
       "      dtype='object')"
      ]
     },
     "execution_count": 4,
     "metadata": {},
     "output_type": "execute_result"
    }
   ],
   "source": [
    "df_rep.columns"
   ]
  },
  {
   "cell_type": "markdown",
   "metadata": {},
   "source": [
    "### 1) checking for randomization of treatment conditions"
   ]
  },
  {
   "cell_type": "code",
   "execution_count": 5,
   "metadata": {},
   "outputs": [
    {
     "name": "stdout",
     "output_type": "stream",
     "text": [
      "1.0    2466\n",
      "2.0    2079\n",
      "Name: sex, dtype: int64\n",
      "................\n",
      "1.0    2995\n",
      "2.0     382\n",
      "3.0     658\n",
      "4.0      44\n",
      "5.0     466\n",
      "Name: marital, dtype: int64\n",
      "................\n",
      "2.0      87\n",
      "3.0     192\n",
      "4.0     325\n",
      "5.0     673\n",
      "6.0    1326\n",
      "7.0    1942\n",
      "Name: age_group, dtype: int64\n",
      "................\n",
      "1.0      53\n",
      "2.0     756\n",
      "3.0    1722\n",
      "4.0    1234\n",
      "5.0     780\n",
      "Name: education, dtype: int64\n",
      "................\n"
     ]
    }
   ],
   "source": [
    "democols = ['sex', 'marital', 'age_group', 'education']\n",
    "\n",
    "for col in democols:\n",
    "    print(df_rep[col].value_counts(dropna=False).sort_index())\n",
    "    print(\"................\")"
   ]
  },
  {
   "cell_type": "code",
   "execution_count": 6,
   "metadata": {},
   "outputs": [],
   "source": [
    "# recode demographic variables\n",
    "df_rep['sex_r'] = df_rep['sex']\n",
    "\n",
    "df_rep['marital_r'] = np.nan\n",
    "df_rep.loc[df_rep['marital']==1, ['marital_r']] = 1 # married\n",
    "df_rep.loc[np.isin(df_rep['marital'], [2, 3, 4, 5]), ['marital_r']] = 2 # not married\n",
    "\n",
    "df_rep['age_group_r'] = np.nan\n",
    "df_rep.loc[np.isin(df_rep['age_group'], [2, 3, 4, 5]), ['age_group_r']] = 1 # 18-54\n",
    "df_rep.loc[df_rep['age_group']==6, ['age_group_r']] = 2 # 55-64\n",
    "df_rep.loc[df_rep['age_group']==7, ['age_group_r']] = 3 # 65+\n",
    "\n",
    "df_rep['education_r'] = np.nan\n",
    "df_rep.loc[np.isin(df_rep['education'], [1, 2, 3]), ['education_r']] = 1 # less than college\n",
    "df_rep.loc[np.isin(df_rep['education'], [4, 5]), ['education_r']] = 2 # college or more"
   ]
  },
  {
   "cell_type": "code",
   "execution_count": 7,
   "metadata": {},
   "outputs": [
    {
     "name": "stdout",
     "output_type": "stream",
     "text": [
      "1.0    2466\n",
      "2.0    2079\n",
      "Name: sex_r, dtype: int64\n",
      "................\n",
      "1.0    2995\n",
      "2.0    1550\n",
      "Name: marital_r, dtype: int64\n",
      "................\n",
      "1.0    1277\n",
      "2.0    1326\n",
      "3.0    1942\n",
      "Name: age_group_r, dtype: int64\n",
      "................\n",
      "1.0    2531\n",
      "2.0    2014\n",
      "Name: education_r, dtype: int64\n",
      "................\n"
     ]
    }
   ],
   "source": [
    "# checking recoded variables\n",
    "democols_r = ['sex_r', 'marital_r', 'age_group_r', 'education_r']\n",
    "\n",
    "for col in democols_r:\n",
    "    print(df_rep[col].value_counts(dropna=False).sort_index())\n",
    "    print(\"................\")"
   ]
  },
  {
   "cell_type": "code",
   "execution_count": 9,
   "metadata": {},
   "outputs": [
    {
     "data": {
      "text/html": [
       "<div>\n",
       "<style scoped>\n",
       "    .dataframe tbody tr th:only-of-type {\n",
       "        vertical-align: middle;\n",
       "    }\n",
       "\n",
       "    .dataframe tbody tr th {\n",
       "        vertical-align: top;\n",
       "    }\n",
       "\n",
       "    .dataframe thead th {\n",
       "        text-align: right;\n",
       "    }\n",
       "</style>\n",
       "<table border=\"1\" class=\"dataframe\">\n",
       "  <thead>\n",
       "    <tr style=\"text-align: right;\">\n",
       "      <th>condition</th>\n",
       "      <th>A</th>\n",
       "      <th>B</th>\n",
       "    </tr>\n",
       "    <tr>\n",
       "      <th>sex_r</th>\n",
       "      <th></th>\n",
       "      <th></th>\n",
       "    </tr>\n",
       "  </thead>\n",
       "  <tbody>\n",
       "    <tr>\n",
       "      <th>1.0</th>\n",
       "      <td>54.1</td>\n",
       "      <td>54.4</td>\n",
       "    </tr>\n",
       "    <tr>\n",
       "      <th>2.0</th>\n",
       "      <td>45.9</td>\n",
       "      <td>45.6</td>\n",
       "    </tr>\n",
       "    <tr>\n",
       "      <th>Total n</th>\n",
       "      <td>2,269</td>\n",
       "      <td>2,276</td>\n",
       "    </tr>\n",
       "  </tbody>\n",
       "</table>\n",
       "</div>"
      ],
      "text/plain": [
       "condition      A      B\n",
       "sex_r                  \n",
       "1.0         54.1   54.4\n",
       "2.0         45.9   45.6\n",
       "Total n    2,269  2,276"
      ]
     },
     "metadata": {},
     "output_type": "display_data"
    },
    {
     "data": {
      "text/markdown": [
       "*Chi-squared statistic = 0.0, degree of freedom = 1, p = 0.877*"
      ],
      "text/plain": [
       "<IPython.core.display.Markdown object>"
      ]
     },
     "metadata": {},
     "output_type": "display_data"
    },
    {
     "data": {
      "text/markdown": [
       "-----"
      ],
      "text/plain": [
       "<IPython.core.display.Markdown object>"
      ]
     },
     "metadata": {},
     "output_type": "display_data"
    },
    {
     "data": {
      "text/html": [
       "<div>\n",
       "<style scoped>\n",
       "    .dataframe tbody tr th:only-of-type {\n",
       "        vertical-align: middle;\n",
       "    }\n",
       "\n",
       "    .dataframe tbody tr th {\n",
       "        vertical-align: top;\n",
       "    }\n",
       "\n",
       "    .dataframe thead th {\n",
       "        text-align: right;\n",
       "    }\n",
       "</style>\n",
       "<table border=\"1\" class=\"dataframe\">\n",
       "  <thead>\n",
       "    <tr style=\"text-align: right;\">\n",
       "      <th>condition</th>\n",
       "      <th>A</th>\n",
       "      <th>B</th>\n",
       "    </tr>\n",
       "    <tr>\n",
       "      <th>marital_r</th>\n",
       "      <th></th>\n",
       "      <th></th>\n",
       "    </tr>\n",
       "  </thead>\n",
       "  <tbody>\n",
       "    <tr>\n",
       "      <th>1.0</th>\n",
       "      <td>65.1</td>\n",
       "      <td>66.7</td>\n",
       "    </tr>\n",
       "    <tr>\n",
       "      <th>2.0</th>\n",
       "      <td>34.9</td>\n",
       "      <td>33.3</td>\n",
       "    </tr>\n",
       "    <tr>\n",
       "      <th>Total n</th>\n",
       "      <td>2,269</td>\n",
       "      <td>2,276</td>\n",
       "    </tr>\n",
       "  </tbody>\n",
       "</table>\n",
       "</div>"
      ],
      "text/plain": [
       "condition      A      B\n",
       "marital_r              \n",
       "1.0         65.1   66.7\n",
       "2.0         34.9   33.3\n",
       "Total n    2,269  2,276"
      ]
     },
     "metadata": {},
     "output_type": "display_data"
    },
    {
     "data": {
      "text/markdown": [
       "*Chi-squared statistic = 1.1, degree of freedom = 1, p = 0.296*"
      ],
      "text/plain": [
       "<IPython.core.display.Markdown object>"
      ]
     },
     "metadata": {},
     "output_type": "display_data"
    },
    {
     "data": {
      "text/markdown": [
       "-----"
      ],
      "text/plain": [
       "<IPython.core.display.Markdown object>"
      ]
     },
     "metadata": {},
     "output_type": "display_data"
    },
    {
     "data": {
      "text/html": [
       "<div>\n",
       "<style scoped>\n",
       "    .dataframe tbody tr th:only-of-type {\n",
       "        vertical-align: middle;\n",
       "    }\n",
       "\n",
       "    .dataframe tbody tr th {\n",
       "        vertical-align: top;\n",
       "    }\n",
       "\n",
       "    .dataframe thead th {\n",
       "        text-align: right;\n",
       "    }\n",
       "</style>\n",
       "<table border=\"1\" class=\"dataframe\">\n",
       "  <thead>\n",
       "    <tr style=\"text-align: right;\">\n",
       "      <th>condition</th>\n",
       "      <th>A</th>\n",
       "      <th>B</th>\n",
       "    </tr>\n",
       "    <tr>\n",
       "      <th>age_group_r</th>\n",
       "      <th></th>\n",
       "      <th></th>\n",
       "    </tr>\n",
       "  </thead>\n",
       "  <tbody>\n",
       "    <tr>\n",
       "      <th>1.0</th>\n",
       "      <td>27.8</td>\n",
       "      <td>28.4</td>\n",
       "    </tr>\n",
       "    <tr>\n",
       "      <th>2.0</th>\n",
       "      <td>29.0</td>\n",
       "      <td>29.4</td>\n",
       "    </tr>\n",
       "    <tr>\n",
       "      <th>3.0</th>\n",
       "      <td>43.3</td>\n",
       "      <td>42.2</td>\n",
       "    </tr>\n",
       "    <tr>\n",
       "      <th>Total n</th>\n",
       "      <td>2,269</td>\n",
       "      <td>2,276</td>\n",
       "    </tr>\n",
       "  </tbody>\n",
       "</table>\n",
       "</div>"
      ],
      "text/plain": [
       "condition        A      B\n",
       "age_group_r              \n",
       "1.0           27.8   28.4\n",
       "2.0           29.0   29.4\n",
       "3.0           43.3   42.2\n",
       "Total n      2,269  2,276"
      ]
     },
     "metadata": {},
     "output_type": "display_data"
    },
    {
     "data": {
      "text/markdown": [
       "*Chi-squared statistic = 0.6, degree of freedom = 2, p = 0.751*"
      ],
      "text/plain": [
       "<IPython.core.display.Markdown object>"
      ]
     },
     "metadata": {},
     "output_type": "display_data"
    },
    {
     "data": {
      "text/markdown": [
       "-----"
      ],
      "text/plain": [
       "<IPython.core.display.Markdown object>"
      ]
     },
     "metadata": {},
     "output_type": "display_data"
    },
    {
     "data": {
      "text/html": [
       "<div>\n",
       "<style scoped>\n",
       "    .dataframe tbody tr th:only-of-type {\n",
       "        vertical-align: middle;\n",
       "    }\n",
       "\n",
       "    .dataframe tbody tr th {\n",
       "        vertical-align: top;\n",
       "    }\n",
       "\n",
       "    .dataframe thead th {\n",
       "        text-align: right;\n",
       "    }\n",
       "</style>\n",
       "<table border=\"1\" class=\"dataframe\">\n",
       "  <thead>\n",
       "    <tr style=\"text-align: right;\">\n",
       "      <th>condition</th>\n",
       "      <th>A</th>\n",
       "      <th>B</th>\n",
       "    </tr>\n",
       "    <tr>\n",
       "      <th>education_r</th>\n",
       "      <th></th>\n",
       "      <th></th>\n",
       "    </tr>\n",
       "  </thead>\n",
       "  <tbody>\n",
       "    <tr>\n",
       "      <th>1.0</th>\n",
       "      <td>56.1</td>\n",
       "      <td>55.3</td>\n",
       "    </tr>\n",
       "    <tr>\n",
       "      <th>2.0</th>\n",
       "      <td>43.9</td>\n",
       "      <td>44.7</td>\n",
       "    </tr>\n",
       "    <tr>\n",
       "      <th>Total n</th>\n",
       "      <td>2,269</td>\n",
       "      <td>2,276</td>\n",
       "    </tr>\n",
       "  </tbody>\n",
       "</table>\n",
       "</div>"
      ],
      "text/plain": [
       "condition        A      B\n",
       "education_r              \n",
       "1.0           56.1   55.3\n",
       "2.0           43.9   44.7\n",
       "Total n      2,269  2,276"
      ]
     },
     "metadata": {},
     "output_type": "display_data"
    },
    {
     "data": {
      "text/markdown": [
       "*Chi-squared statistic = 0.3, degree of freedom = 1, p = 0.593*"
      ],
      "text/plain": [
       "<IPython.core.display.Markdown object>"
      ]
     },
     "metadata": {},
     "output_type": "display_data"
    },
    {
     "data": {
      "text/markdown": [
       "-----"
      ],
      "text/plain": [
       "<IPython.core.display.Markdown object>"
      ]
     },
     "metadata": {},
     "output_type": "display_data"
    }
   ],
   "source": [
    "for col in democols_r:\n",
    "    util.crosstab_chisq(col, 'condition', df_rep, chisqtest=True)"
   ]
  },
  {
   "cell_type": "markdown",
   "metadata": {},
   "source": [
    "### 2) experimental data analysis"
   ]
  },
  {
   "cell_type": "code",
   "execution_count": 10,
   "metadata": {},
   "outputs": [],
   "source": [
    "# numeric -> character display\n",
    "SD_cols = ['visit', 'over', 'outdoors']\n",
    "\n",
    "for col in SD_cols:\n",
    "    df_rep[col] = df_rep[[col]].replace([1, 2, 8, 11], [\"1a. Yes\", \"2. No\", \"8. Unsure\", \"1b. Only when necessary/occasionally\"])"
   ]
  },
  {
   "cell_type": "code",
   "execution_count": 11,
   "metadata": {},
   "outputs": [
    {
     "data": {
      "text/html": [
       "<div>\n",
       "<style scoped>\n",
       "    .dataframe tbody tr th:only-of-type {\n",
       "        vertical-align: middle;\n",
       "    }\n",
       "\n",
       "    .dataframe tbody tr th {\n",
       "        vertical-align: top;\n",
       "    }\n",
       "\n",
       "    .dataframe thead th {\n",
       "        text-align: right;\n",
       "    }\n",
       "</style>\n",
       "<table border=\"1\" class=\"dataframe\">\n",
       "  <thead>\n",
       "    <tr style=\"text-align: right;\">\n",
       "      <th>condition</th>\n",
       "      <th>A</th>\n",
       "      <th>B</th>\n",
       "    </tr>\n",
       "    <tr>\n",
       "      <th>visit</th>\n",
       "      <th></th>\n",
       "      <th></th>\n",
       "    </tr>\n",
       "  </thead>\n",
       "  <tbody>\n",
       "    <tr>\n",
       "      <th>1a. Yes</th>\n",
       "      <td>61.1</td>\n",
       "      <td>62.0</td>\n",
       "    </tr>\n",
       "    <tr>\n",
       "      <th>1b. Only when necessary/occasionally</th>\n",
       "      <td>0.0</td>\n",
       "      <td>9.5</td>\n",
       "    </tr>\n",
       "    <tr>\n",
       "      <th>2. No</th>\n",
       "      <td>38.6</td>\n",
       "      <td>28.3</td>\n",
       "    </tr>\n",
       "    <tr>\n",
       "      <th>8. Unsure</th>\n",
       "      <td>0.3</td>\n",
       "      <td>0.2</td>\n",
       "    </tr>\n",
       "    <tr>\n",
       "      <th>Total n</th>\n",
       "      <td>2,269</td>\n",
       "      <td>2,276</td>\n",
       "    </tr>\n",
       "  </tbody>\n",
       "</table>\n",
       "</div>"
      ],
      "text/plain": [
       "condition                                 A      B\n",
       "visit                                             \n",
       "1a. Yes                                61.1   62.0\n",
       "1b. Only when necessary/occasionally    0.0    9.5\n",
       "2. No                                  38.6   28.3\n",
       "8. Unsure                               0.3    0.2\n",
       "Total n                               2,269  2,276"
      ]
     },
     "metadata": {},
     "output_type": "display_data"
    },
    {
     "data": {
      "text/markdown": [
       "-----"
      ],
      "text/plain": [
       "<IPython.core.display.Markdown object>"
      ]
     },
     "metadata": {},
     "output_type": "display_data"
    },
    {
     "data": {
      "text/html": [
       "<div>\n",
       "<style scoped>\n",
       "    .dataframe tbody tr th:only-of-type {\n",
       "        vertical-align: middle;\n",
       "    }\n",
       "\n",
       "    .dataframe tbody tr th {\n",
       "        vertical-align: top;\n",
       "    }\n",
       "\n",
       "    .dataframe thead th {\n",
       "        text-align: right;\n",
       "    }\n",
       "</style>\n",
       "<table border=\"1\" class=\"dataframe\">\n",
       "  <thead>\n",
       "    <tr style=\"text-align: right;\">\n",
       "      <th>condition</th>\n",
       "      <th>A</th>\n",
       "      <th>B</th>\n",
       "    </tr>\n",
       "    <tr>\n",
       "      <th>over</th>\n",
       "      <th></th>\n",
       "      <th></th>\n",
       "    </tr>\n",
       "  </thead>\n",
       "  <tbody>\n",
       "    <tr>\n",
       "      <th>1a. Yes</th>\n",
       "      <td>63.9</td>\n",
       "      <td>67.0</td>\n",
       "    </tr>\n",
       "    <tr>\n",
       "      <th>1b. Only when necessary/occasionally</th>\n",
       "      <td>0.0</td>\n",
       "      <td>10.6</td>\n",
       "    </tr>\n",
       "    <tr>\n",
       "      <th>2. No</th>\n",
       "      <td>35.6</td>\n",
       "      <td>21.7</td>\n",
       "    </tr>\n",
       "    <tr>\n",
       "      <th>8. Unsure</th>\n",
       "      <td>0.5</td>\n",
       "      <td>0.6</td>\n",
       "    </tr>\n",
       "    <tr>\n",
       "      <th>Total n</th>\n",
       "      <td>2,269</td>\n",
       "      <td>2,276</td>\n",
       "    </tr>\n",
       "  </tbody>\n",
       "</table>\n",
       "</div>"
      ],
      "text/plain": [
       "condition                                 A      B\n",
       "over                                              \n",
       "1a. Yes                                63.9   67.0\n",
       "1b. Only when necessary/occasionally    0.0   10.6\n",
       "2. No                                  35.6   21.7\n",
       "8. Unsure                               0.5    0.6\n",
       "Total n                               2,269  2,276"
      ]
     },
     "metadata": {},
     "output_type": "display_data"
    },
    {
     "data": {
      "text/markdown": [
       "-----"
      ],
      "text/plain": [
       "<IPython.core.display.Markdown object>"
      ]
     },
     "metadata": {},
     "output_type": "display_data"
    },
    {
     "data": {
      "text/html": [
       "<div>\n",
       "<style scoped>\n",
       "    .dataframe tbody tr th:only-of-type {\n",
       "        vertical-align: middle;\n",
       "    }\n",
       "\n",
       "    .dataframe tbody tr th {\n",
       "        vertical-align: top;\n",
       "    }\n",
       "\n",
       "    .dataframe thead th {\n",
       "        text-align: right;\n",
       "    }\n",
       "</style>\n",
       "<table border=\"1\" class=\"dataframe\">\n",
       "  <thead>\n",
       "    <tr style=\"text-align: right;\">\n",
       "      <th>condition</th>\n",
       "      <th>A</th>\n",
       "      <th>B</th>\n",
       "    </tr>\n",
       "    <tr>\n",
       "      <th>outdoors</th>\n",
       "      <th></th>\n",
       "      <th></th>\n",
       "    </tr>\n",
       "  </thead>\n",
       "  <tbody>\n",
       "    <tr>\n",
       "      <th>1a. Yes</th>\n",
       "      <td>67.7</td>\n",
       "      <td>68.1</td>\n",
       "    </tr>\n",
       "    <tr>\n",
       "      <th>1b. Only when necessary/occasionally</th>\n",
       "      <td>0.0</td>\n",
       "      <td>9.3</td>\n",
       "    </tr>\n",
       "    <tr>\n",
       "      <th>2. No</th>\n",
       "      <td>31.9</td>\n",
       "      <td>22.1</td>\n",
       "    </tr>\n",
       "    <tr>\n",
       "      <th>8. Unsure</th>\n",
       "      <td>0.5</td>\n",
       "      <td>0.4</td>\n",
       "    </tr>\n",
       "    <tr>\n",
       "      <th>Total n</th>\n",
       "      <td>2,269</td>\n",
       "      <td>2,276</td>\n",
       "    </tr>\n",
       "  </tbody>\n",
       "</table>\n",
       "</div>"
      ],
      "text/plain": [
       "condition                                 A      B\n",
       "outdoors                                          \n",
       "1a. Yes                                67.7   68.1\n",
       "1b. Only when necessary/occasionally    0.0    9.3\n",
       "2. No                                  31.9   22.1\n",
       "8. Unsure                               0.5    0.4\n",
       "Total n                               2,269  2,276"
      ]
     },
     "metadata": {},
     "output_type": "display_data"
    },
    {
     "data": {
      "text/markdown": [
       "-----"
      ],
      "text/plain": [
       "<IPython.core.display.Markdown object>"
      ]
     },
     "metadata": {},
     "output_type": "display_data"
    }
   ],
   "source": [
    "# raw distributions for cross-tabs\n",
    "for col in SD_cols:\n",
    "    util.crosstab_chisq(col, 'condition', df_rep, chisqtest=False)"
   ]
  },
  {
   "cell_type": "code",
   "execution_count": 12,
   "metadata": {},
   "outputs": [],
   "source": [
    "# combining 1a, 1b, and 8 together as 1/yes\n",
    "combine_three = {\"1a. Yes\": \"1. Yes\", \n",
    "                 \"2. No\": \"2. No\",\n",
    "                 \"1b. Only when necessary/occasionally\": \"1. Yes\", \n",
    "                 \"8. Unsure\": \"1. Yes\"}\n",
    "\n",
    "for col in SD_cols:\n",
    "    df_rep[f'{col}_r'] = df_rep[col].map(combine_three)\n",
    "    \n",
    "recoded_cols = ['visit_r', 'over_r', 'outdoors_r'] # use recoded_cols for further analyses"
   ]
  },
  {
   "cell_type": "code",
   "execution_count": 13,
   "metadata": {},
   "outputs": [
    {
     "data": {
      "text/html": [
       "<div>\n",
       "<style scoped>\n",
       "    .dataframe tbody tr th:only-of-type {\n",
       "        vertical-align: middle;\n",
       "    }\n",
       "\n",
       "    .dataframe tbody tr th {\n",
       "        vertical-align: top;\n",
       "    }\n",
       "\n",
       "    .dataframe thead th {\n",
       "        text-align: right;\n",
       "    }\n",
       "</style>\n",
       "<table border=\"1\" class=\"dataframe\">\n",
       "  <thead>\n",
       "    <tr style=\"text-align: right;\">\n",
       "      <th>condition</th>\n",
       "      <th>A</th>\n",
       "      <th>B</th>\n",
       "    </tr>\n",
       "    <tr>\n",
       "      <th>visit_r</th>\n",
       "      <th></th>\n",
       "      <th></th>\n",
       "    </tr>\n",
       "  </thead>\n",
       "  <tbody>\n",
       "    <tr>\n",
       "      <th>1. Yes</th>\n",
       "      <td>61.4</td>\n",
       "      <td>71.7</td>\n",
       "    </tr>\n",
       "    <tr>\n",
       "      <th>2. No</th>\n",
       "      <td>38.6</td>\n",
       "      <td>28.3</td>\n",
       "    </tr>\n",
       "    <tr>\n",
       "      <th>Total n</th>\n",
       "      <td>2,269</td>\n",
       "      <td>2,276</td>\n",
       "    </tr>\n",
       "  </tbody>\n",
       "</table>\n",
       "</div>"
      ],
      "text/plain": [
       "condition      A      B\n",
       "visit_r                \n",
       "1. Yes      61.4   71.7\n",
       "2. No       38.6   28.3\n",
       "Total n    2,269  2,276"
      ]
     },
     "metadata": {},
     "output_type": "display_data"
    },
    {
     "data": {
      "text/markdown": [
       "*Chi-squared statistic = 53.3, degree of freedom = 1, p = 0.0*"
      ],
      "text/plain": [
       "<IPython.core.display.Markdown object>"
      ]
     },
     "metadata": {},
     "output_type": "display_data"
    },
    {
     "data": {
      "text/markdown": [
       "-----"
      ],
      "text/plain": [
       "<IPython.core.display.Markdown object>"
      ]
     },
     "metadata": {},
     "output_type": "display_data"
    },
    {
     "data": {
      "text/html": [
       "<div>\n",
       "<style scoped>\n",
       "    .dataframe tbody tr th:only-of-type {\n",
       "        vertical-align: middle;\n",
       "    }\n",
       "\n",
       "    .dataframe tbody tr th {\n",
       "        vertical-align: top;\n",
       "    }\n",
       "\n",
       "    .dataframe thead th {\n",
       "        text-align: right;\n",
       "    }\n",
       "</style>\n",
       "<table border=\"1\" class=\"dataframe\">\n",
       "  <thead>\n",
       "    <tr style=\"text-align: right;\">\n",
       "      <th>condition</th>\n",
       "      <th>A</th>\n",
       "      <th>B</th>\n",
       "    </tr>\n",
       "    <tr>\n",
       "      <th>over_r</th>\n",
       "      <th></th>\n",
       "      <th></th>\n",
       "    </tr>\n",
       "  </thead>\n",
       "  <tbody>\n",
       "    <tr>\n",
       "      <th>1. Yes</th>\n",
       "      <td>64.4</td>\n",
       "      <td>78.3</td>\n",
       "    </tr>\n",
       "    <tr>\n",
       "      <th>2. No</th>\n",
       "      <td>35.6</td>\n",
       "      <td>21.7</td>\n",
       "    </tr>\n",
       "    <tr>\n",
       "      <th>Total n</th>\n",
       "      <td>2,269</td>\n",
       "      <td>2,276</td>\n",
       "    </tr>\n",
       "  </tbody>\n",
       "</table>\n",
       "</div>"
      ],
      "text/plain": [
       "condition      A      B\n",
       "over_r                 \n",
       "1. Yes      64.4   78.3\n",
       "2. No       35.6   21.7\n",
       "Total n    2,269  2,276"
      ]
     },
     "metadata": {},
     "output_type": "display_data"
    },
    {
     "data": {
      "text/markdown": [
       "*Chi-squared statistic = 105.5, degree of freedom = 1, p = 0.0*"
      ],
      "text/plain": [
       "<IPython.core.display.Markdown object>"
      ]
     },
     "metadata": {},
     "output_type": "display_data"
    },
    {
     "data": {
      "text/markdown": [
       "-----"
      ],
      "text/plain": [
       "<IPython.core.display.Markdown object>"
      ]
     },
     "metadata": {},
     "output_type": "display_data"
    },
    {
     "data": {
      "text/html": [
       "<div>\n",
       "<style scoped>\n",
       "    .dataframe tbody tr th:only-of-type {\n",
       "        vertical-align: middle;\n",
       "    }\n",
       "\n",
       "    .dataframe tbody tr th {\n",
       "        vertical-align: top;\n",
       "    }\n",
       "\n",
       "    .dataframe thead th {\n",
       "        text-align: right;\n",
       "    }\n",
       "</style>\n",
       "<table border=\"1\" class=\"dataframe\">\n",
       "  <thead>\n",
       "    <tr style=\"text-align: right;\">\n",
       "      <th>condition</th>\n",
       "      <th>A</th>\n",
       "      <th>B</th>\n",
       "    </tr>\n",
       "    <tr>\n",
       "      <th>outdoors_r</th>\n",
       "      <th></th>\n",
       "      <th></th>\n",
       "    </tr>\n",
       "  </thead>\n",
       "  <tbody>\n",
       "    <tr>\n",
       "      <th>1. Yes</th>\n",
       "      <td>68.1</td>\n",
       "      <td>77.9</td>\n",
       "    </tr>\n",
       "    <tr>\n",
       "      <th>2. No</th>\n",
       "      <td>31.9</td>\n",
       "      <td>22.1</td>\n",
       "    </tr>\n",
       "    <tr>\n",
       "      <th>Total n</th>\n",
       "      <td>2,269</td>\n",
       "      <td>2,276</td>\n",
       "    </tr>\n",
       "  </tbody>\n",
       "</table>\n",
       "</div>"
      ],
      "text/plain": [
       "condition       A      B\n",
       "outdoors_r              \n",
       "1. Yes       68.1   77.9\n",
       "2. No        31.9   22.1\n",
       "Total n     2,269  2,276"
      ]
     },
     "metadata": {},
     "output_type": "display_data"
    },
    {
     "data": {
      "text/markdown": [
       "*Chi-squared statistic = 54.0, degree of freedom = 1, p = 0.0*"
      ],
      "text/plain": [
       "<IPython.core.display.Markdown object>"
      ]
     },
     "metadata": {},
     "output_type": "display_data"
    },
    {
     "data": {
      "text/markdown": [
       "-----"
      ],
      "text/plain": [
       "<IPython.core.display.Markdown object>"
      ]
     },
     "metadata": {},
     "output_type": "display_data"
    }
   ],
   "source": [
    "# cross-tabs based on recodes\n",
    "for col in recoded_cols:\n",
    "    util.crosstab_chisq(col, 'condition', df_rep, chisqtest=True)"
   ]
  },
  {
   "cell_type": "markdown",
   "metadata": {},
   "source": [
    "### 3) testing interactions"
   ]
  },
  {
   "cell_type": "markdown",
   "metadata": {},
   "source": [
    "Testing whether the experimental effects vary by demographic variables ('sex', 'marital', 'age_group', 'education')"
   ]
  },
  {
   "cell_type": "code",
   "execution_count": 14,
   "metadata": {},
   "outputs": [],
   "source": [
    "df_rep['condition_r'] = np.nan\n",
    "df_rep.loc[df_rep['condition']=='A', ['condition_r']] = 1 # condition A\n",
    "df_rep.loc[df_rep['condition']=='B', ['condition_r']] = 2 # condition B"
   ]
  },
  {
   "cell_type": "code",
   "execution_count": 15,
   "metadata": {},
   "outputs": [],
   "source": [
    "# recode y as numerics\n",
    "for col in recoded_cols:\n",
    "    df_rep[col] = df_rep[[col]].replace(['1. Yes'], [1]) # yes have done the mentioned behavior\n",
    "    df_rep[col] = df_rep[[col]].replace(['2. No'], [0]) # no haven not done the mentioned behavior"
   ]
  },
  {
   "cell_type": "code",
   "execution_count": 16,
   "metadata": {},
   "outputs": [],
   "source": [
    "# to use StatsModels package in python, run the following\n",
    "#X1 = df_rep[['condition_r', 'sex_r']].values\n",
    "#X2 = df_rep[['condition_r', 'marital_r']].values\n",
    "#X3 = df_rep[['condition_r', 'age_group_r']].values\n",
    "#X4 = df_rep[['condition_r', 'education_r']].values\n",
    "\n",
    "#y1 = df_rep['visit_r'].values\n",
    "#y2 = df_rep['over_r'].values\n",
    "#y3 = df_rep['outdoors_r'].values"
   ]
  },
  {
   "cell_type": "code",
   "execution_count": 17,
   "metadata": {},
   "outputs": [
    {
     "data": {
      "text/plain": [
       "2.0    2276\n",
       "1.0    2269\n",
       "Name: condition_r, dtype: int64"
      ]
     },
     "execution_count": 17,
     "metadata": {},
     "output_type": "execute_result"
    }
   ],
   "source": [
    "df_rep['condition_r'].value_counts()"
   ]
  },
  {
   "cell_type": "markdown",
   "metadata": {},
   "source": [
    "#### - Running logistic regressions in R"
   ]
  },
  {
   "cell_type": "markdown",
   "metadata": {},
   "source": [
    "DV: 'visit_r', 'over_r', 'outdoors_r' -> 1=have done; 2=haven't done <br>\n",
    "IV: <br> \n",
    "1) \"condition_r\" -> 1=condition A, 2=condition B with excuse statement and guilty free response options <br>\n",
    "2) demographic vars: 'sex_r', 'marital_r', 'age_group_r', 'education_r' -> see freq of recoded values above "
   ]
  },
  {
   "cell_type": "code",
   "execution_count": 18,
   "metadata": {},
   "outputs": [
    {
     "name": "stderr",
     "output_type": "stream",
     "text": [
      "C:\\ProgramData\\Anaconda3\\lib\\site-packages\\rpy2\\robjects\\packages.py:367: UserWarning: The symbol 'quartz' is not in this R namespace/package.\n",
      "  \"The symbol '%s' is not in this R namespace/package.\" % name\n"
     ]
    }
   ],
   "source": [
    "# use R for logistic regression tables\n",
    "%load_ext rpy2.ipython"
   ]
  },
  {
   "cell_type": "code",
   "execution_count": 22,
   "metadata": {},
   "outputs": [
    {
     "name": "stdout",
     "output_type": "stream",
     "text": [
      "[1] 4545   17\n"
     ]
    }
   ],
   "source": [
    "%%R -i df_rep\n",
    "dim(df_rep)"
   ]
  },
  {
   "cell_type": "code",
   "execution_count": 23,
   "metadata": {},
   "outputs": [
    {
     "name": "stdout",
     "output_type": "stream",
     "text": [
      "[1] \"VISIT - SEX\"\n",
      "\n",
      "Call:\n",
      "glm(formula = visit_r ~ factor(condition_r) * factor(sex_r), \n",
      "    family = binomial, data = df_rep)\n",
      "\n",
      "Deviance Residuals: \n",
      "    Min       1Q   Median       3Q      Max  \n",
      "-1.7098  -1.2883   0.7263   0.9197   1.0704  \n",
      "\n",
      "Coefficients:\n",
      "                                    Estimate Std. Error z value Pr(>|z|)    \n",
      "(Intercept)                          0.64708    0.06009  10.769  < 2e-16 ***\n",
      "factor(condition_r)2                 0.55095    0.09026   6.104 1.03e-09 ***\n",
      "factor(sex_r)2                      -0.39015    0.08670  -4.500 6.79e-06 ***\n",
      "factor(condition_r)2:factor(sex_r)2 -0.16632    0.12774  -1.302    0.193    \n",
      "---\n",
      "Signif. codes:  0 '***' 0.001 '**' 0.01 '*' 0.05 '.' 0.1 ' ' 1\n",
      "\n",
      "(Dispersion parameter for binomial family taken to be 1)\n",
      "\n",
      "    Null deviance: 5794.2  on 4544  degrees of freedom\n",
      "Residual deviance: 5684.5  on 4541  degrees of freedom\n",
      "AIC: 5692.5\n",
      "\n",
      "Number of Fisher Scoring iterations: 4\n",
      "\n"
     ]
    }
   ],
   "source": [
    "%%R -i df_rep\n",
    "print('VISIT - SEX')\n",
    "summary(glm(visit_r ~ factor(condition_r) * factor(sex_r), family=binomial, data=df_rep))"
   ]
  },
  {
   "cell_type": "code",
   "execution_count": 24,
   "metadata": {},
   "outputs": [
    {
     "name": "stdout",
     "output_type": "stream",
     "text": [
      "[1] \"VISIT - MARITAL\"\n",
      "\n",
      "Call:\n",
      "glm(formula = visit_r ~ factor(condition_r) * factor(marital_r), \n",
      "    family = binomial, data = df_rep)\n",
      "\n",
      "Deviance Residuals: \n",
      "    Min       1Q   Median       3Q      Max  \n",
      "-1.6206  -1.4191   0.7915   0.9536   1.0517  \n",
      "\n",
      "Coefficients:\n",
      "                                        Estimate Std. Error z value Pr(>|z|)\n",
      "(Intercept)                              0.55218    0.05402  10.222  < 2e-16\n",
      "factor(condition_r)2                     0.44777    0.07919   5.655 1.56e-08\n",
      "factor(marital_r)2                      -0.24899    0.08996  -2.768  0.00564\n",
      "factor(condition_r)2:factor(marital_r)2  0.03866    0.13259   0.292  0.77064\n",
      "                                           \n",
      "(Intercept)                             ***\n",
      "factor(condition_r)2                    ***\n",
      "factor(marital_r)2                      ** \n",
      "factor(condition_r)2:factor(marital_r)2    \n",
      "---\n",
      "Signif. codes:  0 '***' 0.001 '**' 0.01 '*' 0.05 '.' 0.1 ' ' 1\n",
      "\n",
      "(Dispersion parameter for binomial family taken to be 1)\n",
      "\n",
      "    Null deviance: 5794.2  on 4544  degrees of freedom\n",
      "Residual deviance: 5728.0  on 4541  degrees of freedom\n",
      "AIC: 5736\n",
      "\n",
      "Number of Fisher Scoring iterations: 4\n",
      "\n"
     ]
    }
   ],
   "source": [
    "%%R -i df_rep\n",
    "print('VISIT - MARITAL')\n",
    "summary(glm(visit_r ~ factor(condition_r) * factor(marital_r), family=binomial, data=df_rep))"
   ]
  },
  {
   "cell_type": "code",
   "execution_count": 25,
   "metadata": {},
   "outputs": [
    {
     "name": "stdout",
     "output_type": "stream",
     "text": [
      "[1] \"VISIT - AGE\"\n",
      "\n",
      "Call:\n",
      "glm(formula = visit_r ~ factor(condition_r) * factor(age_group_r), \n",
      "    family = binomial, data = df_rep)\n",
      "\n",
      "Deviance Residuals: \n",
      "    Min       1Q   Median       3Q      Max  \n",
      "-1.8540  -1.2035   0.7487   0.9644   1.1516  \n",
      "\n",
      "Coefficients:\n",
      "                                          Estimate Std. Error z value Pr(>|z|)\n",
      "(Intercept)                                1.12847    0.09271  12.173  < 2e-16\n",
      "factor(condition_r)2                       0.39271    0.13820   2.842  0.00449\n",
      "factor(age_group_r)2                      -0.61520    0.12285  -5.008 5.51e-07\n",
      "factor(age_group_r)3                      -1.06735    0.11257  -9.482  < 2e-16\n",
      "factor(condition_r)2:factor(age_group_r)2  0.15513    0.18282   0.849  0.39614\n",
      "factor(condition_r)2:factor(age_group_r)3  0.07036    0.16624   0.423  0.67213\n",
      "                                             \n",
      "(Intercept)                               ***\n",
      "factor(condition_r)2                      ** \n",
      "factor(age_group_r)2                      ***\n",
      "factor(age_group_r)3                      ***\n",
      "factor(condition_r)2:factor(age_group_r)2    \n",
      "factor(condition_r)2:factor(age_group_r)3    \n",
      "---\n",
      "Signif. codes:  0 '***' 0.001 '**' 0.01 '*' 0.05 '.' 0.1 ' ' 1\n",
      "\n",
      "(Dispersion parameter for binomial family taken to be 1)\n",
      "\n",
      "    Null deviance: 5794.2  on 4544  degrees of freedom\n",
      "Residual deviance: 5568.4  on 4539  degrees of freedom\n",
      "AIC: 5580.4\n",
      "\n",
      "Number of Fisher Scoring iterations: 4\n",
      "\n"
     ]
    }
   ],
   "source": [
    "%%R -i df_rep\n",
    "print('VISIT - AGE')\n",
    "summary(glm(visit_r ~ factor(condition_r) * factor(age_group_r), family=binomial, data=df_rep))"
   ]
  },
  {
   "cell_type": "code",
   "execution_count": 26,
   "metadata": {},
   "outputs": [
    {
     "name": "stdout",
     "output_type": "stream",
     "text": [
      "[1] \"VISIT - EDUCATION\"\n",
      "\n",
      "Call:\n",
      "glm(formula = visit_r ~ factor(condition_r) * factor(education_r), \n",
      "    family = binomial, data = df_rep)\n",
      "\n",
      "Deviance Residuals: \n",
      "    Min       1Q   Median       3Q      Max  \n",
      "-1.6815  -1.3324   0.7466   0.9548   1.0300  \n",
      "\n",
      "Coefficients:\n",
      "                                          Estimate Std. Error z value Pr(>|z|)\n",
      "(Intercept)                                0.54914    0.05818   9.438  < 2e-16\n",
      "factor(condition_r)2                       0.58584    0.08777   6.675 2.48e-11\n",
      "factor(education_r)2                      -0.19198    0.08678  -2.212   0.0270\n",
      "factor(condition_r)2:factor(education_r)2 -0.24838    0.12756  -1.947   0.0515\n",
      "                                             \n",
      "(Intercept)                               ***\n",
      "factor(condition_r)2                      ***\n",
      "factor(education_r)2                      *  \n",
      "factor(condition_r)2:factor(education_r)2 .  \n",
      "---\n",
      "Signif. codes:  0 '***' 0.001 '**' 0.01 '*' 0.05 '.' 0.1 ' ' 1\n",
      "\n",
      "(Dispersion parameter for binomial family taken to be 1)\n",
      "\n",
      "    Null deviance: 5794.2  on 4544  degrees of freedom\n",
      "Residual deviance: 5713.1  on 4541  degrees of freedom\n",
      "AIC: 5721.1\n",
      "\n",
      "Number of Fisher Scoring iterations: 4\n",
      "\n"
     ]
    }
   ],
   "source": [
    "%%R -i df_rep\n",
    "print('VISIT - EDUCATION')\n",
    "summary(glm(visit_r ~ factor(condition_r) * factor(education_r), family=binomial, data=df_rep))"
   ]
  },
  {
   "cell_type": "code",
   "execution_count": 27,
   "metadata": {},
   "outputs": [
    {
     "name": "stdout",
     "output_type": "stream",
     "text": [
      "[1] \"OVER - SEX\"\n",
      "\n",
      "Call:\n",
      "glm(formula = over_r ~ factor(condition_r) * factor(sex_r), family = binomial, \n",
      "    data = df_rep)\n",
      "\n",
      "Deviance Residuals: \n",
      "    Min       1Q   Median       3Q      Max  \n",
      "-1.8687  -1.3456   0.6192   0.8688   1.0180  \n",
      "\n",
      "Coefficients:\n",
      "                                    Estimate Std. Error z value Pr(>|z|)    \n",
      "(Intercept)                          0.77994    0.06147  12.689  < 2e-16 ***\n",
      "factor(condition_r)2                 0.77430    0.09688   7.992 1.33e-15 ***\n",
      "factor(sex_r)2                      -0.39286    0.08813  -4.458 8.28e-06 ***\n",
      "factor(condition_r)2:factor(sex_r)2 -0.16059    0.13519  -1.188    0.235    \n",
      "---\n",
      "Signif. codes:  0 '***' 0.001 '**' 0.01 '*' 0.05 '.' 0.1 ' ' 1\n",
      "\n",
      "(Dispersion parameter for binomial family taken to be 1)\n",
      "\n",
      "    Null deviance: 5444.5  on 4544  degrees of freedom\n",
      "Residual deviance: 5288.3  on 4541  degrees of freedom\n",
      "AIC: 5296.3\n",
      "\n",
      "Number of Fisher Scoring iterations: 4\n",
      "\n"
     ]
    }
   ],
   "source": [
    "%%R -i df_rep\n",
    "print('OVER - SEX')\n",
    "summary(glm(over_r ~ factor(condition_r) * factor(sex_r), family=binomial, data=df_rep))"
   ]
  },
  {
   "cell_type": "code",
   "execution_count": 28,
   "metadata": {},
   "outputs": [
    {
     "name": "stdout",
     "output_type": "stream",
     "text": [
      "[1] \"OVER - MARITAL\"\n",
      "\n",
      "Call:\n",
      "glm(formula = over_r ~ factor(condition_r) * factor(marital_r), \n",
      "    family = binomial, data = df_rep)\n",
      "\n",
      "Deviance Residuals: \n",
      "    Min       1Q   Median       3Q      Max  \n",
      "-1.7949  -1.3570   0.6675   0.8998   1.0078  \n",
      "\n",
      "Coefficients:\n",
      "                                        Estimate Std. Error z value Pr(>|z|)\n",
      "(Intercept)                              0.69518    0.05520  12.594  < 2e-16\n",
      "factor(condition_r)2                     0.69277    0.08468   8.181 2.82e-16\n",
      "factor(marital_r)2                      -0.28233    0.09123  -3.095  0.00197\n",
      "factor(condition_r)2:factor(marital_r)2 -0.02275    0.13935  -0.163  0.87033\n",
      "                                           \n",
      "(Intercept)                             ***\n",
      "factor(condition_r)2                    ***\n",
      "factor(marital_r)2                      ** \n",
      "factor(condition_r)2:factor(marital_r)2    \n",
      "---\n",
      "Signif. codes:  0 '***' 0.001 '**' 0.01 '*' 0.05 '.' 0.1 ' ' 1\n",
      "\n",
      "(Dispersion parameter for binomial family taken to be 1)\n",
      "\n",
      "    Null deviance: 5444.5  on 4544  degrees of freedom\n",
      "Residual deviance: 5319.8  on 4541  degrees of freedom\n",
      "AIC: 5327.8\n",
      "\n",
      "Number of Fisher Scoring iterations: 4\n",
      "\n"
     ]
    }
   ],
   "source": [
    "%%R -i df_rep\n",
    "print('OVER - MARITAL')\n",
    "summary(glm(over_r ~ factor(condition_r) * factor(marital_r), family=binomial, data=df_rep))"
   ]
  },
  {
   "cell_type": "code",
   "execution_count": 29,
   "metadata": {},
   "outputs": [
    {
     "name": "stdout",
     "output_type": "stream",
     "text": [
      "[1] \"OVER - AGE\"\n",
      "\n",
      "Call:\n",
      "glm(formula = over_r ~ factor(condition_r) * factor(age_group_r), \n",
      "    family = binomial, data = df_rep)\n",
      "\n",
      "Deviance Residuals: \n",
      "    Min       1Q   Median       3Q      Max  \n",
      "-1.9535  -1.2815   0.6797   0.7966   1.0767  \n",
      "\n",
      "Coefficients:\n",
      "                                          Estimate Std. Error z value Pr(>|z|)\n",
      "(Intercept)                                 1.1896     0.0942  12.629  < 2e-16\n",
      "factor(condition_r)2                        0.5578     0.1453   3.840 0.000123\n",
      "factor(age_group_r)2                       -0.5575     0.1249  -4.465 8.02e-06\n",
      "factor(age_group_r)3                       -0.9481     0.1140  -8.313  < 2e-16\n",
      "factor(condition_r)2:factor(age_group_r)2   0.1576     0.1922   0.820 0.412310\n",
      "factor(condition_r)2:factor(age_group_r)3   0.1858     0.1746   1.064 0.287286\n",
      "                                             \n",
      "(Intercept)                               ***\n",
      "factor(condition_r)2                      ***\n",
      "factor(age_group_r)2                      ***\n",
      "factor(age_group_r)3                      ***\n",
      "factor(condition_r)2:factor(age_group_r)2    \n",
      "factor(condition_r)2:factor(age_group_r)3    \n",
      "---\n",
      "Signif. codes:  0 '***' 0.001 '**' 0.01 '*' 0.05 '.' 0.1 ' ' 1\n",
      "\n",
      "(Dispersion parameter for binomial family taken to be 1)\n",
      "\n",
      "    Null deviance: 5444.5  on 4544  degrees of freedom\n",
      "Residual deviance: 5227.7  on 4539  degrees of freedom\n",
      "AIC: 5239.7\n",
      "\n",
      "Number of Fisher Scoring iterations: 4\n",
      "\n"
     ]
    }
   ],
   "source": [
    "%%R -i df_rep\n",
    "print('OVER - AGE')\n",
    "summary(glm(over_r ~ factor(condition_r) * factor(age_group_r), family=binomial, data=df_rep))"
   ]
  },
  {
   "cell_type": "code",
   "execution_count": 30,
   "metadata": {},
   "outputs": [
    {
     "name": "stdout",
     "output_type": "stream",
     "text": [
      "[1] \"OVER - EDUCATION\"\n",
      "\n",
      "Call:\n",
      "glm(formula = over_r ~ factor(condition_r) * factor(education_r), \n",
      "    family = binomial, data = df_rep)\n",
      "\n",
      "Deviance Residuals: \n",
      "    Min       1Q   Median       3Q      Max  \n",
      "-1.8458  -1.3638   0.6339   0.8870   1.0018  \n",
      "\n",
      "Coefficients:\n",
      "                                          Estimate Std. Error z value Pr(>|z|)\n",
      "(Intercept)                                0.72990    0.05983  12.200  < 2e-16\n",
      "factor(condition_r)2                       0.77272    0.09444   8.182 2.78e-16\n",
      "factor(education_r)2                      -0.30180    0.08822  -3.421 0.000624\n",
      "factor(condition_r)2:factor(education_r)2 -0.16159    0.13495  -1.197 0.231146\n",
      "                                             \n",
      "(Intercept)                               ***\n",
      "factor(condition_r)2                      ***\n",
      "factor(education_r)2                      ***\n",
      "factor(condition_r)2:factor(education_r)2    \n",
      "---\n",
      "Signif. codes:  0 '***' 0.001 '**' 0.01 '*' 0.05 '.' 0.1 ' ' 1\n",
      "\n",
      "(Dispersion parameter for binomial family taken to be 1)\n",
      "\n",
      "    Null deviance: 5444.5  on 4544  degrees of freedom\n",
      "Residual deviance: 5305.2  on 4541  degrees of freedom\n",
      "AIC: 5313.2\n",
      "\n",
      "Number of Fisher Scoring iterations: 4\n",
      "\n"
     ]
    }
   ],
   "source": [
    "%%R -i df_rep\n",
    "print('OVER - EDUCATION')\n",
    "summary(glm(over_r ~ factor(condition_r) * factor(education_r), family=binomial, data=df_rep))"
   ]
  },
  {
   "cell_type": "code",
   "execution_count": 31,
   "metadata": {},
   "outputs": [
    {
     "name": "stdout",
     "output_type": "stream",
     "text": [
      "[1] \"OUTDOORS - SEX\"\n",
      "\n",
      "Call:\n",
      "glm(formula = outdoors_r ~ factor(condition_r) * factor(sex_r), \n",
      "    family = binomial, data = df_rep)\n",
      "\n",
      "Deviance Residuals: \n",
      "    Min       1Q   Median       3Q      Max  \n",
      "-1.9016  -1.3723   0.7728   0.8276   0.9943  \n",
      "\n",
      "Coefficients:\n",
      "                                    Estimate Std. Error z value Pr(>|z|)    \n",
      "(Intercept)                          1.05564    0.06521  16.188  < 2e-16 ***\n",
      "factor(condition_r)2                 0.57331    0.10072   5.692 1.25e-08 ***\n",
      "factor(sex_r)2                      -0.60837    0.09105  -6.682 2.36e-11 ***\n",
      "factor(condition_r)2:factor(sex_r)2 -0.12510    0.13734  -0.911    0.362    \n",
      "---\n",
      "Signif. codes:  0 '***' 0.001 '**' 0.01 '*' 0.05 '.' 0.1 ' ' 1\n",
      "\n",
      "(Dispersion parameter for binomial family taken to be 1)\n",
      "\n",
      "    Null deviance: 5301.5  on 4544  degrees of freedom\n",
      "Residual deviance: 5149.8  on 4541  degrees of freedom\n",
      "AIC: 5157.8\n",
      "\n",
      "Number of Fisher Scoring iterations: 4\n",
      "\n"
     ]
    }
   ],
   "source": [
    "%%R -i df_rep\n",
    "print('OUTDOORS - SEX')\n",
    "summary(glm(outdoors_r ~ factor(condition_r) * factor(sex_r), family=binomial, data=df_rep))"
   ]
  },
  {
   "cell_type": "code",
   "execution_count": 32,
   "metadata": {},
   "outputs": [
    {
     "name": "stdout",
     "output_type": "stream",
     "text": [
      "[1] \"OUTDOORS - MARITAL\"\n",
      "\n",
      "Call:\n",
      "glm(formula = outdoors_r ~ factor(condition_r) * factor(marital_r), \n",
      "    family = binomial, data = df_rep)\n",
      "\n",
      "Deviance Residuals: \n",
      "    Min       1Q   Median       3Q      Max  \n",
      "-1.7949  -1.4437   0.6675   0.8453   0.9327  \n",
      "\n",
      "Coefficients:\n",
      "                                        Estimate Std. Error z value Pr(>|z|)\n",
      "(Intercept)                              0.84537    0.05674  14.899  < 2e-16\n",
      "factor(condition_r)2                     0.54258    0.08569   6.332 2.43e-10\n",
      "factor(marital_r)2                      -0.23825    0.09358  -2.546   0.0109\n",
      "factor(condition_r)2:factor(marital_r)2 -0.12864    0.14017  -0.918   0.3588\n",
      "                                           \n",
      "(Intercept)                             ***\n",
      "factor(condition_r)2                    ***\n",
      "factor(marital_r)2                      *  \n",
      "factor(condition_r)2:factor(marital_r)2    \n",
      "---\n",
      "Signif. codes:  0 '***' 0.001 '**' 0.01 '*' 0.05 '.' 0.1 ' ' 1\n",
      "\n",
      "(Dispersion parameter for binomial family taken to be 1)\n",
      "\n",
      "    Null deviance: 5301.5  on 4544  degrees of freedom\n",
      "Residual deviance: 5228.2  on 4541  degrees of freedom\n",
      "AIC: 5236.2\n",
      "\n",
      "Number of Fisher Scoring iterations: 4\n",
      "\n"
     ]
    }
   ],
   "source": [
    "%%R -i df_rep\n",
    "print('OUTDOORS - MARITAL')\n",
    "summary(glm(outdoors_r ~ factor(condition_r) * factor(marital_r), family=binomial, data=df_rep))"
   ]
  },
  {
   "cell_type": "code",
   "execution_count": 33,
   "metadata": {},
   "outputs": [
    {
     "name": "stdout",
     "output_type": "stream",
     "text": [
      "[1] \"OUTDOORS - AGE\"\n",
      "\n",
      "Call:\n",
      "glm(formula = outdoors_r ~ factor(condition_r) * factor(age_group_r), \n",
      "    family = binomial, data = df_rep)\n",
      "\n",
      "Deviance Residuals: \n",
      "    Min       1Q   Median       3Q      Max  \n",
      "-1.9918  -1.3328   0.6318   0.8446   1.0296  \n",
      "\n",
      "Coefficients:\n",
      "                                          Estimate Std. Error z value Pr(>|z|)\n",
      "(Intercept)                                 1.5099     0.1035  14.590  < 2e-16\n",
      "factor(condition_r)2                        0.3258     0.1541   2.115   0.0345\n",
      "factor(age_group_r)2                       -0.7192     0.1334  -5.391 7.01e-08\n",
      "factor(age_group_r)3                       -1.1517     0.1221  -9.431  < 2e-16\n",
      "factor(condition_r)2:factor(age_group_r)2   0.3346     0.2014   1.662   0.0966\n",
      "factor(condition_r)2:factor(age_group_r)3   0.1633     0.1814   0.900   0.3679\n",
      "                                             \n",
      "(Intercept)                               ***\n",
      "factor(condition_r)2                      *  \n",
      "factor(age_group_r)2                      ***\n",
      "factor(age_group_r)3                      ***\n",
      "factor(condition_r)2:factor(age_group_r)2 .  \n",
      "factor(condition_r)2:factor(age_group_r)3    \n",
      "---\n",
      "Signif. codes:  0 '***' 0.001 '**' 0.01 '*' 0.05 '.' 0.1 ' ' 1\n",
      "\n",
      "(Dispersion parameter for binomial family taken to be 1)\n",
      "\n",
      "    Null deviance: 5301.5  on 4544  degrees of freedom\n",
      "Residual deviance: 5083.1  on 4539  degrees of freedom\n",
      "AIC: 5095.1\n",
      "\n",
      "Number of Fisher Scoring iterations: 4\n",
      "\n"
     ]
    }
   ],
   "source": [
    "%%R -i df_rep\n",
    "print('OUTDOORS - AGE')\n",
    "summary(glm(outdoors_r ~ factor(condition_r) * factor(age_group_r), family=binomial, data=df_rep))"
   ]
  },
  {
   "cell_type": "code",
   "execution_count": 34,
   "metadata": {},
   "outputs": [
    {
     "name": "stdout",
     "output_type": "stream",
     "text": [
      "[1] \"OUTDOORS - EDUCATION\"\n",
      "\n",
      "Call:\n",
      "glm(formula = outdoors_r ~ factor(condition_r) * factor(education_r), \n",
      "    family = binomial, data = df_rep)\n",
      "\n",
      "Deviance Residuals: \n",
      "    Min       1Q   Median       3Q      Max  \n",
      "-1.7822  -1.4803   0.7455   0.8553   0.9022  \n",
      "\n",
      "Coefficients:\n",
      "                                          Estimate Std. Error z value Pr(>|z|)\n",
      "(Intercept)                                0.81718    0.06080  13.441  < 2e-16\n",
      "factor(condition_r)2                       0.54250    0.09266   5.854 4.79e-09\n",
      "factor(education_r)2                      -0.12855    0.09060  -1.419    0.156\n",
      "factor(condition_r)2:factor(education_r)2 -0.09283    0.13581  -0.684    0.494\n",
      "                                             \n",
      "(Intercept)                               ***\n",
      "factor(condition_r)2                      ***\n",
      "factor(education_r)2                         \n",
      "factor(condition_r)2:factor(education_r)2    \n",
      "---\n",
      "Signif. codes:  0 '***' 0.001 '**' 0.01 '*' 0.05 '.' 0.1 ' ' 1\n",
      "\n",
      "(Dispersion parameter for binomial family taken to be 1)\n",
      "\n",
      "    Null deviance: 5301.5  on 4544  degrees of freedom\n",
      "Residual deviance: 5240.0  on 4541  degrees of freedom\n",
      "AIC: 5248\n",
      "\n",
      "Number of Fisher Scoring iterations: 4\n",
      "\n"
     ]
    }
   ],
   "source": [
    "%%R -i df_rep\n",
    "print('OUTDOORS - EDUCATION')\n",
    "summary(glm(outdoors_r ~ factor(condition_r) * factor(education_r), family=binomial, data=df_rep))"
   ]
  }
 ],
 "metadata": {
  "kernelspec": {
   "display_name": "Python 3",
   "language": "python",
   "name": "python3"
  },
  "language_info": {
   "codemirror_mode": {
    "name": "ipython",
    "version": 3
   },
   "file_extension": ".py",
   "mimetype": "text/x-python",
   "name": "python",
   "nbconvert_exporter": "python",
   "pygments_lexer": "ipython3",
   "version": "3.7.3"
  }
 },
 "nbformat": 4,
 "nbformat_minor": 4
}
