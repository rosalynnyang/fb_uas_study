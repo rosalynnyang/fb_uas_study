{
 "cells": [
  {
   "cell_type": "markdown",
   "metadata": {},
   "source": [
    "## Prep for raking: FB data"
   ]
  },
  {
   "cell_type": "markdown",
   "metadata": {},
   "source": [
    "Goal is to prep the data to be ready for raking with the four parameters: 1) age group, 2) gender, 3) marital status, 4) education level <br>\n",
    "Need to remove missing data from the raking parameters and output 5 separate dataframes for raking"
   ]
  },
  {
   "cell_type": "code",
   "execution_count": 1,
   "metadata": {},
   "outputs": [],
   "source": [
    "import numpy as np\n",
    "import pandas as pd"
   ]
  },
  {
   "cell_type": "code",
   "execution_count": 2,
   "metadata": {},
   "outputs": [],
   "source": [
    "fb = pd.read_csv('../output/fb_numeric.csv')"
   ]
  },
  {
   "cell_type": "code",
   "execution_count": 3,
   "metadata": {},
   "outputs": [
    {
     "data": {
      "text/plain": [
       "(1777, 43)"
      ]
     },
     "execution_count": 3,
     "metadata": {},
     "output_type": "execute_result"
    }
   ],
   "source": [
    "fb.shape"
   ]
  },
  {
   "cell_type": "code",
   "execution_count": 4,
   "metadata": {},
   "outputs": [
    {
     "data": {
      "text/plain": [
       "Index(['Unnamed: 0', 'StartDate', 'EndDate', 'Status', 'IPAddress', 'Progress',\n",
       "       'Duration__in_seconds_', 'Finished', 'RecordedDate', 'ResponseId',\n",
       "       'RecipientLastName', 'RecipientFirstName', 'RecipientEmail',\n",
       "       'ExternalReference', 'LocationLatitude', 'LocationLongitude',\n",
       "       'DistributionChannel', 'UserLanguage', 'timer_First_Click',\n",
       "       'timer_Last_Click', 'timer_Page_Submit', 'timer_Click_Count', 'Q1',\n",
       "       'Q2', 'Q3', 'Q3_1', 'Q4', 'Q5', 'Q6', 'Q7_1', 'Q8', 'Q9', 'Q9_6_TEXT',\n",
       "       'Q10', 'Q11', 'Q12', 'SC0', 'timeload', 'DeviceIdentifier',\n",
       "       'ipaddress_0', 'ResponseID_0', 'Week', 'Image'],\n",
       "      dtype='object')"
      ]
     },
     "execution_count": 4,
     "metadata": {},
     "output_type": "execute_result"
    }
   ],
   "source": [
    "fb.columns"
   ]
  },
  {
   "cell_type": "code",
   "execution_count": 5,
   "metadata": {},
   "outputs": [],
   "source": [
    "fb = fb[['Finished', 'RecordedDate', 'Q1', 'Q2', 'Q3', 'Q3_1', 'Q4', 'Q5', 'Q6',\n",
    "         'Q7_1', 'Q8', 'Q9', 'Q9_6_TEXT', 'Q10', 'Q11', 'Q12', 'Week', 'Image']]"
   ]
  },
  {
   "cell_type": "code",
   "execution_count": 6,
   "metadata": {},
   "outputs": [],
   "source": [
    "fb.columns = ['Finished', 'RecordedDate', 'Q1', 'Q2', 'Q3', 'Q3_1', 'Q4', 'Q5', 'Q6',\n",
    "              'Q7_1', 'Q8', 'gender', 'gender_text', 'marital', 'age_group', 'education', 'Week', 'Image']"
   ]
  },
  {
   "cell_type": "code",
   "execution_count": 7,
   "metadata": {},
   "outputs": [
    {
     "data": {
      "text/plain": [
       "True     1359\n",
       "False     418\n",
       "Name: Finished, dtype: int64"
      ]
     },
     "execution_count": 7,
     "metadata": {},
     "output_type": "execute_result"
    }
   ],
   "source": [
    "fb['Finished'].value_counts()"
   ]
  },
  {
   "cell_type": "code",
   "execution_count": 8,
   "metadata": {},
   "outputs": [],
   "source": [
    "# remove breakoffs\n",
    "fb_complete = fb.loc[fb['Finished']==True, :]"
   ]
  },
  {
   "cell_type": "code",
   "execution_count": 9,
   "metadata": {},
   "outputs": [
    {
     "name": "stdout",
     "output_type": "stream",
     "text": [
      "4.0      3\n",
      "3.0      5\n",
      "5.0     14\n",
      "NaN     18\n",
      "6.0     23\n",
      "2.0    503\n",
      "1.0    793\n",
      "Name: gender, dtype: int64\n",
      "3.0      8\n",
      "NaN     22\n",
      "2.0    438\n",
      "1.0    891\n",
      "Name: marital, dtype: int64\n",
      "1.0      4\n",
      "NaN     19\n",
      "2.0     32\n",
      "3.0     51\n",
      "4.0     98\n",
      "5.0    219\n",
      "6.0    451\n",
      "7.0    485\n",
      "Name: age_group, dtype: int64\n",
      "1.0     12\n",
      "2.0     98\n",
      "4.0    140\n",
      "5.0    157\n",
      "3.0    244\n",
      "NaN    708\n",
      "Name: education, dtype: int64\n"
     ]
    }
   ],
   "source": [
    "demographic_cols = ['gender', 'marital', 'age_group', 'education']\n",
    "for col in demographic_cols:\n",
    "    print(fb_complete[col].value_counts(dropna=False).sort_values())"
   ]
  },
  {
   "cell_type": "markdown",
   "metadata": {},
   "source": [
    "*Data cleaning strategy: <br>\n",
    "'gender': keep only values 1 and 2 and remove missing <br>\n",
    "'marital': keep only values 1 and 2 and remove missing <br>\n",
    "'age_group': remove value 1 and missing <br>\n",
    "'education': figure out what correlates with high missing, keep for now, may be not usable for raking*"
   ]
  },
  {
   "cell_type": "code",
   "execution_count": 10,
   "metadata": {},
   "outputs": [],
   "source": [
    "# check missing data in education\n",
    "fb_educ_missing = fb_complete[['education', 'RecordedDate']].fillna(99)"
   ]
  },
  {
   "cell_type": "code",
   "execution_count": 11,
   "metadata": {},
   "outputs": [
    {
     "data": {
      "text/html": [
       "<div>\n",
       "<style scoped>\n",
       "    .dataframe tbody tr th:only-of-type {\n",
       "        vertical-align: middle;\n",
       "    }\n",
       "\n",
       "    .dataframe tbody tr th {\n",
       "        vertical-align: top;\n",
       "    }\n",
       "\n",
       "    .dataframe thead th {\n",
       "        text-align: right;\n",
       "    }\n",
       "</style>\n",
       "<table border=\"1\" class=\"dataframe\">\n",
       "  <thead>\n",
       "    <tr style=\"text-align: right;\">\n",
       "      <th>RecordedDate</th>\n",
       "      <th>2020-05-14</th>\n",
       "      <th>2020-05-15</th>\n",
       "      <th>2020-05-16</th>\n",
       "      <th>2020-05-17</th>\n",
       "      <th>2020-05-18</th>\n",
       "      <th>2020-05-19</th>\n",
       "      <th>2020-05-20</th>\n",
       "      <th>2020-05-21</th>\n",
       "      <th>2020-05-22</th>\n",
       "      <th>2020-05-23</th>\n",
       "      <th>2020-05-24</th>\n",
       "      <th>2020-05-25</th>\n",
       "      <th>2020-05-26</th>\n",
       "      <th>2020-05-27</th>\n",
       "      <th>2020-05-28</th>\n",
       "    </tr>\n",
       "    <tr>\n",
       "      <th>education</th>\n",
       "      <th></th>\n",
       "      <th></th>\n",
       "      <th></th>\n",
       "      <th></th>\n",
       "      <th></th>\n",
       "      <th></th>\n",
       "      <th></th>\n",
       "      <th></th>\n",
       "      <th></th>\n",
       "      <th></th>\n",
       "      <th></th>\n",
       "      <th></th>\n",
       "      <th></th>\n",
       "      <th></th>\n",
       "      <th></th>\n",
       "    </tr>\n",
       "  </thead>\n",
       "  <tbody>\n",
       "    <tr>\n",
       "      <th>1.0</th>\n",
       "      <td>0</td>\n",
       "      <td>0</td>\n",
       "      <td>0</td>\n",
       "      <td>0</td>\n",
       "      <td>0</td>\n",
       "      <td>0</td>\n",
       "      <td>0</td>\n",
       "      <td>1</td>\n",
       "      <td>3</td>\n",
       "      <td>1</td>\n",
       "      <td>0</td>\n",
       "      <td>2</td>\n",
       "      <td>3</td>\n",
       "      <td>1</td>\n",
       "      <td>1</td>\n",
       "    </tr>\n",
       "    <tr>\n",
       "      <th>2.0</th>\n",
       "      <td>0</td>\n",
       "      <td>0</td>\n",
       "      <td>0</td>\n",
       "      <td>0</td>\n",
       "      <td>0</td>\n",
       "      <td>0</td>\n",
       "      <td>0</td>\n",
       "      <td>5</td>\n",
       "      <td>15</td>\n",
       "      <td>9</td>\n",
       "      <td>21</td>\n",
       "      <td>17</td>\n",
       "      <td>19</td>\n",
       "      <td>8</td>\n",
       "      <td>4</td>\n",
       "    </tr>\n",
       "    <tr>\n",
       "      <th>3.0</th>\n",
       "      <td>0</td>\n",
       "      <td>0</td>\n",
       "      <td>0</td>\n",
       "      <td>0</td>\n",
       "      <td>0</td>\n",
       "      <td>0</td>\n",
       "      <td>0</td>\n",
       "      <td>13</td>\n",
       "      <td>36</td>\n",
       "      <td>37</td>\n",
       "      <td>40</td>\n",
       "      <td>31</td>\n",
       "      <td>47</td>\n",
       "      <td>35</td>\n",
       "      <td>5</td>\n",
       "    </tr>\n",
       "    <tr>\n",
       "      <th>4.0</th>\n",
       "      <td>0</td>\n",
       "      <td>0</td>\n",
       "      <td>0</td>\n",
       "      <td>0</td>\n",
       "      <td>0</td>\n",
       "      <td>0</td>\n",
       "      <td>0</td>\n",
       "      <td>8</td>\n",
       "      <td>23</td>\n",
       "      <td>20</td>\n",
       "      <td>23</td>\n",
       "      <td>20</td>\n",
       "      <td>27</td>\n",
       "      <td>17</td>\n",
       "      <td>2</td>\n",
       "    </tr>\n",
       "    <tr>\n",
       "      <th>5.0</th>\n",
       "      <td>0</td>\n",
       "      <td>0</td>\n",
       "      <td>0</td>\n",
       "      <td>0</td>\n",
       "      <td>0</td>\n",
       "      <td>0</td>\n",
       "      <td>0</td>\n",
       "      <td>10</td>\n",
       "      <td>28</td>\n",
       "      <td>24</td>\n",
       "      <td>17</td>\n",
       "      <td>27</td>\n",
       "      <td>19</td>\n",
       "      <td>25</td>\n",
       "      <td>7</td>\n",
       "    </tr>\n",
       "    <tr>\n",
       "      <th>99.0</th>\n",
       "      <td>60</td>\n",
       "      <td>96</td>\n",
       "      <td>101</td>\n",
       "      <td>114</td>\n",
       "      <td>124</td>\n",
       "      <td>85</td>\n",
       "      <td>88</td>\n",
       "      <td>28</td>\n",
       "      <td>2</td>\n",
       "      <td>2</td>\n",
       "      <td>1</td>\n",
       "      <td>3</td>\n",
       "      <td>1</td>\n",
       "      <td>3</td>\n",
       "      <td>0</td>\n",
       "    </tr>\n",
       "  </tbody>\n",
       "</table>\n",
       "</div>"
      ],
      "text/plain": [
       "RecordedDate  2020-05-14  2020-05-15  2020-05-16  2020-05-17  2020-05-18  \\\n",
       "education                                                                  \n",
       "1.0                    0           0           0           0           0   \n",
       "2.0                    0           0           0           0           0   \n",
       "3.0                    0           0           0           0           0   \n",
       "4.0                    0           0           0           0           0   \n",
       "5.0                    0           0           0           0           0   \n",
       "99.0                  60          96         101         114         124   \n",
       "\n",
       "RecordedDate  2020-05-19  2020-05-20  2020-05-21  2020-05-22  2020-05-23  \\\n",
       "education                                                                  \n",
       "1.0                    0           0           1           3           1   \n",
       "2.0                    0           0           5          15           9   \n",
       "3.0                    0           0          13          36          37   \n",
       "4.0                    0           0           8          23          20   \n",
       "5.0                    0           0          10          28          24   \n",
       "99.0                  85          88          28           2           2   \n",
       "\n",
       "RecordedDate  2020-05-24  2020-05-25  2020-05-26  2020-05-27  2020-05-28  \n",
       "education                                                                 \n",
       "1.0                    0           2           3           1           1  \n",
       "2.0                   21          17          19           8           4  \n",
       "3.0                   40          31          47          35           5  \n",
       "4.0                   23          20          27          17           2  \n",
       "5.0                   17          27          19          25           7  \n",
       "99.0                   1           3           1           3           0  "
      ]
     },
     "execution_count": 11,
     "metadata": {},
     "output_type": "execute_result"
    }
   ],
   "source": [
    "# education data consistently missing for the first week: 2020-05-14 to 2020-05-20\n",
    "pd.crosstab(fb_educ_missing['education'], fb_educ_missing['RecordedDate'])"
   ]
  },
  {
   "cell_type": "code",
   "execution_count": 12,
   "metadata": {},
   "outputs": [
    {
     "data": {
      "text/plain": [
       "(1333, 18)"
      ]
     },
     "execution_count": 12,
     "metadata": {},
     "output_type": "execute_result"
    }
   ],
   "source": [
    "# removed rows where gender, marital, and age_group are missing\n",
    "fb_dropna = fb_complete.dropna(subset=['gender', 'marital', 'age_group'])\n",
    "fb_dropna.shape"
   ]
  },
  {
   "cell_type": "code",
   "execution_count": 13,
   "metadata": {},
   "outputs": [],
   "source": [
    "# clean up aforementioned values\n",
    "fb_cleandemo = fb_dropna[(fb_dropna['gender'] <3) & (fb_dropna['marital']<3) & (fb_dropna['age_group']>=2)]"
   ]
  },
  {
   "cell_type": "code",
   "execution_count": 14,
   "metadata": {},
   "outputs": [],
   "source": [
    "# output 5 datasets for weighting\n",
    "dflist = list(fb_cleandemo.groupby('Image'))"
   ]
  },
  {
   "cell_type": "code",
   "execution_count": 15,
   "metadata": {},
   "outputs": [],
   "source": [
    "condition_codebook = {1: 'control',\n",
    "                      2: 'covid',\n",
    "                      3: 'privacy',\n",
    "                      4: 'finance',\n",
    "                      5: 'mental'}"
   ]
  },
  {
   "cell_type": "code",
   "execution_count": 16,
   "metadata": {},
   "outputs": [],
   "source": [
    "condition_dfs = {}\n",
    "\n",
    "for image_number, condition_df in dflist:\n",
    "    image_text = condition_codebook[image_number]\n",
    "    condition_dfs[image_text] = condition_df"
   ]
  },
  {
   "cell_type": "code",
   "execution_count": 17,
   "metadata": {},
   "outputs": [
    {
     "name": "stdout",
     "output_type": "stream",
     "text": [
      "control\n",
      "(331, 18)\n",
      "covid\n",
      "(554, 18)\n",
      "privacy\n",
      "(59, 18)\n",
      "finance\n",
      "(142, 18)\n",
      "mental\n",
      "(196, 18)\n"
     ]
    }
   ],
   "source": [
    "# check data shape\n",
    "for image_text, condition_df in condition_dfs.items():\n",
    "    print(image_text)\n",
    "    print(condition_df.shape)"
   ]
  },
  {
   "cell_type": "code",
   "execution_count": 18,
   "metadata": {},
   "outputs": [],
   "source": [
    "#for image_text, condition_df in condition_dfs.items():\n",
    "    #for col in demographic_cols:\n",
    "        #print(image_text)\n",
    "        #print(condition_df[col].value_counts(dropna=False).sort_values())"
   ]
  },
  {
   "cell_type": "code",
   "execution_count": 19,
   "metadata": {},
   "outputs": [],
   "source": [
    "# output 5 datasets\n",
    "for image_text, condition_df in condition_dfs.items():\n",
    "    condition_df.to_csv(f'../output/{image_text}.csv', index=False)"
   ]
  }
 ],
 "metadata": {
  "kernelspec": {
   "display_name": "Python 3",
   "language": "python",
   "name": "python3"
  },
  "language_info": {
   "codemirror_mode": {
    "name": "ipython",
    "version": 3
   },
   "file_extension": ".py",
   "mimetype": "text/x-python",
   "name": "python",
   "nbconvert_exporter": "python",
   "pygments_lexer": "ipython3",
   "version": "3.7.3"
  }
 },
 "nbformat": 4,
 "nbformat_minor": 4
}
