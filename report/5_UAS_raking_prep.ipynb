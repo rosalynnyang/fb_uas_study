{
 "cells": [
  {
   "cell_type": "markdown",
   "metadata": {},
   "source": [
    "## Prep for raking: UAS data"
   ]
  },
  {
   "cell_type": "markdown",
   "metadata": {},
   "source": [
    "Goal is to prep the UAS demos to be consistent with FB levels <br>\n",
    "Target raking variables: gender, age_group, marital_status"
   ]
  },
  {
   "cell_type": "code",
   "execution_count": 1,
   "metadata": {},
   "outputs": [],
   "source": [
    "import numpy as np\n",
    "import pandas as pd"
   ]
  },
  {
   "cell_type": "code",
   "execution_count": 2,
   "metadata": {},
   "outputs": [],
   "source": [
    "uas = pd.read_csv(\"../output/uas_numeric.csv\")"
   ]
  },
  {
   "cell_type": "code",
   "execution_count": 3,
   "metadata": {},
   "outputs": [],
   "source": [
    "# recode gender to be consistent with fb\n",
    "uas['gender_r'] = 1\n",
    "uas.loc[uas['gender']==1, 'gender_r'] = 2"
   ]
  },
  {
   "cell_type": "code",
   "execution_count": 4,
   "metadata": {},
   "outputs": [],
   "source": [
    "# recode maritalstatus to be consistent with fb\n",
    "uas['maritalstatus_r'] = np.nan\n",
    "uas.loc[np.isin(uas['maritalstatus'], [1, 2]), ['maritalstatus_r']] = 1\n",
    "uas.loc[np.isin(uas['maritalstatus'], [3, 4, 5, 6]), ['maritalstatus_r']] = 2"
   ]
  },
  {
   "cell_type": "code",
   "execution_count": 5,
   "metadata": {},
   "outputs": [],
   "source": [
    "# recode education to be consistent with fb\n",
    "uas['education_r'] = np.nan\n",
    "uas.loc[np.isin(uas['education'], [1, 2, 3, 4, 5, 6, 7, 8]), ['education_r']] = 1\n",
    "uas.loc[uas['education']==9, ['education_r']] = 2\n",
    "uas.loc[np.isin(uas['education'], [10, 11, 12]), ['education_r']] = 3\n",
    "uas.loc[uas['education']==13, ['education_r']] = 4\n",
    "uas.loc[np.isin(uas['education'], [14, 15, 16]), ['education_r']] = 5"
   ]
  },
  {
   "cell_type": "code",
   "execution_count": 6,
   "metadata": {},
   "outputs": [],
   "source": [
    "uas = uas[[\"uasid\", \"cr027a\", \"cr027c\", \"cr030\", \"cr018a\", \"lr015\", \"ei002\", \"cr015c\", \"cr015d\", \n",
    "           \"cr015k\", \"cr015l\", \"gender_r\", \"maritalstatus_r\", \"age_group\", \"education_r\", \"final_weight\"]]\n",
    "uas.columns = [\"uasid\", \"cr027a\", \"cr027c\", \"cr030\", \"cr018a\", \"lr015\", \"ei002\", \"cr015c\", \"cr015d\", \n",
    "               \"cr015k\", \"cr015l\", \"gender\", \"marital\", \"age_group\", \"education\", \"final_weight\"]"
   ]
  },
  {
   "cell_type": "code",
   "execution_count": 7,
   "metadata": {},
   "outputs": [
    {
     "data": {
      "text/plain": [
       "(6378, 16)"
      ]
     },
     "execution_count": 7,
     "metadata": {},
     "output_type": "execute_result"
    }
   ],
   "source": [
    "# removed rows where gender, marital, and age_group are missing\n",
    "uas = uas.dropna(subset=['gender', 'marital', 'age_group'])\n",
    "uas.shape"
   ]
  },
  {
   "cell_type": "code",
   "execution_count": 8,
   "metadata": {},
   "outputs": [],
   "source": [
    "uas.to_csv('../output/uas_democlean.csv', index=False)"
   ]
  }
 ],
 "metadata": {
  "kernelspec": {
   "display_name": "Python 3",
   "language": "python",
   "name": "python3"
  },
  "language_info": {
   "codemirror_mode": {
    "name": "ipython",
    "version": 3
   },
   "file_extension": ".py",
   "mimetype": "text/x-python",
   "name": "python",
   "nbconvert_exporter": "python",
   "pygments_lexer": "ipython3",
   "version": "3.7.3"
  }
 },
 "nbformat": 4,
 "nbformat_minor": 4
}
